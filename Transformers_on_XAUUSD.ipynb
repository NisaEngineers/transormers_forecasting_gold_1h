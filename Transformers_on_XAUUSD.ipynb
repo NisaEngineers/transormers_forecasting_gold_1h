{
  "nbformat": 4,
  "nbformat_minor": 0,
  "metadata": {
    "colab": {
      "provenance": [],
      "gpuType": "T4"
    },
    "kernelspec": {
      "name": "python3",
      "display_name": "Python 3"
    },
    "language_info": {
      "name": "python"
    },
    "accelerator": "GPU"
  },
  "cells": [
    {
      "cell_type": "code",
      "execution_count": 1,
      "metadata": {
        "colab": {
          "base_uri": "https://localhost:8080/",
          "height": 1000
        },
        "id": "1-xd9-T2g5nI",
        "outputId": "f2816bd2-451b-477e-f7df-8960034f0e3e"
      },
      "outputs": [
        {
          "output_type": "stream",
          "name": "stderr",
          "text": [
            "/tmp/ipython-input-2759997566.py:114: FutureWarning: Series.fillna with 'method' is deprecated and will raise in a future version. Use obj.ffill() or obj.bfill() instead.\n",
            "  df_feat[\"ret_vol_24\"] = df_feat[\"return\"].rolling(window=24, min_periods=24).std().fillna(method=\"bfill\")\n",
            "/tmp/ipython-input-2759997566.py:115: FutureWarning: Series.fillna with 'method' is deprecated and will raise in a future version. Use obj.ffill() or obj.bfill() instead.\n",
            "  df_feat[\"ret_vol_72\"] = df_feat[\"return\"].rolling(window=72, min_periods=72).std().fillna(method=\"bfill\")\n",
            "/tmp/ipython-input-2759997566.py:118: FutureWarning: Series.fillna with 'method' is deprecated and will raise in a future version. Use obj.ffill() or obj.bfill() instead.\n",
            "  df_feat[\"atr_14\"] = atr(high, low, close, period=14).fillna(method=\"bfill\")\n",
            "/tmp/ipython-input-2759997566.py:121: FutureWarning: Series.fillna with 'method' is deprecated and will raise in a future version. Use obj.ffill() or obj.bfill() instead.\n",
            "  df_feat[\"rsi_14\"] = rsi(close, period=14).fillna(method=\"bfill\")\n",
            "/tmp/ipython-input-2759997566.py:125: FutureWarning: Series.fillna with 'method' is deprecated and will raise in a future version. Use obj.ffill() or obj.bfill() instead.\n",
            "  df_feat[\"macd\"] = macd_line.fillna(method=\"bfill\")\n",
            "/tmp/ipython-input-2759997566.py:126: FutureWarning: Series.fillna with 'method' is deprecated and will raise in a future version. Use obj.ffill() or obj.bfill() instead.\n",
            "  df_feat[\"macd_signal\"] = signal_line.fillna(method=\"bfill\")\n",
            "/tmp/ipython-input-2759997566.py:127: FutureWarning: Series.fillna with 'method' is deprecated and will raise in a future version. Use obj.ffill() or obj.bfill() instead.\n",
            "  df_feat[\"macd_hist\"] = hist.fillna(method=\"bfill\")\n",
            "/tmp/ipython-input-2759997566.py:130: FutureWarning: Series.fillna with 'method' is deprecated and will raise in a future version. Use obj.ffill() or obj.bfill() instead.\n",
            "  df_feat[\"ema_20\"] = ema(close, 20).fillna(method=\"bfill\")\n",
            "/tmp/ipython-input-2759997566.py:131: FutureWarning: Series.fillna with 'method' is deprecated and will raise in a future version. Use obj.ffill() or obj.bfill() instead.\n",
            "  df_feat[\"ema_50\"] = ema(close, 50).fillna(method=\"bfill\")\n",
            "/tmp/ipython-input-2759997566.py:136: FutureWarning: Series.fillna with 'method' is deprecated and will raise in a future version. Use obj.ffill() or obj.bfill() instead.\n",
            "  df_feat[\"bb_ma20\"] = ma20.fillna(method=\"bfill\")\n",
            "/tmp/ipython-input-2759997566.py:137: FutureWarning: Series.fillna with 'method' is deprecated and will raise in a future version. Use obj.ffill() or obj.bfill() instead.\n",
            "  df_feat[\"bb_upper20\"] = upper20.fillna(method=\"bfill\")\n",
            "/tmp/ipython-input-2759997566.py:138: FutureWarning: Series.fillna with 'method' is deprecated and will raise in a future version. Use obj.ffill() or obj.bfill() instead.\n",
            "  df_feat[\"bb_lower20\"] = lower20.fillna(method=\"bfill\")\n",
            "/tmp/ipython-input-2759997566.py:139: FutureWarning: Series.fillna with 'method' is deprecated and will raise in a future version. Use obj.ffill() or obj.bfill() instead.\n",
            "  df_feat[\"bb_width20\"] = width20.fillna(method=\"bfill\")\n",
            "/tmp/ipython-input-2759997566.py:140: FutureWarning: Series.fillna with 'method' is deprecated and will raise in a future version. Use obj.ffill() or obj.bfill() instead.\n",
            "  df_feat[\"bb_pctb20\"] = pctb20.fillna(method=\"bfill\")\n"
          ]
        },
        {
          "output_type": "display_data",
          "data": {
            "text/plain": [
              "\u001b[1mModel: \"functional\"\u001b[0m\n"
            ],
            "text/html": [
              "<pre style=\"white-space:pre;overflow-x:auto;line-height:normal;font-family:Menlo,'DejaVu Sans Mono',consolas,'Courier New',monospace\"><span style=\"font-weight: bold\">Model: \"functional\"</span>\n",
              "</pre>\n"
            ]
          },
          "metadata": {}
        },
        {
          "output_type": "display_data",
          "data": {
            "text/plain": [
              "┏━━━━━━━━━━━━━━━━━━━━━┳━━━━━━━━━━━━━━━━━━━┳━━━━━━━━━━━━┳━━━━━━━━━━━━━━━━━━━┓\n",
              "┃\u001b[1m \u001b[0m\u001b[1mLayer (type)       \u001b[0m\u001b[1m \u001b[0m┃\u001b[1m \u001b[0m\u001b[1mOutput Shape     \u001b[0m\u001b[1m \u001b[0m┃\u001b[1m \u001b[0m\u001b[1m   Param #\u001b[0m\u001b[1m \u001b[0m┃\u001b[1m \u001b[0m\u001b[1mConnected to     \u001b[0m\u001b[1m \u001b[0m┃\n",
              "┡━━━━━━━━━━━━━━━━━━━━━╇━━━━━━━━━━━━━━━━━━━╇━━━━━━━━━━━━╇━━━━━━━━━━━━━━━━━━━┩\n",
              "│ input_layer         │ (\u001b[38;5;45mNone\u001b[0m, \u001b[38;5;34m64\u001b[0m, \u001b[38;5;34m22\u001b[0m)    │          \u001b[38;5;34m0\u001b[0m │ -                 │\n",
              "│ (\u001b[38;5;33mInputLayer\u001b[0m)        │                   │            │                   │\n",
              "├─────────────────────┼───────────────────┼────────────┼───────────────────┤\n",
              "│ dense (\u001b[38;5;33mDense\u001b[0m)       │ (\u001b[38;5;45mNone\u001b[0m, \u001b[38;5;34m64\u001b[0m, \u001b[38;5;34m64\u001b[0m)    │      \u001b[38;5;34m1,472\u001b[0m │ input_layer[\u001b[38;5;34m0\u001b[0m][\u001b[38;5;34m0\u001b[0m] │\n",
              "├─────────────────────┼───────────────────┼────────────┼───────────────────┤\n",
              "│ add_positional_enc… │ (\u001b[38;5;45mNone\u001b[0m, \u001b[38;5;34m64\u001b[0m, \u001b[38;5;34m64\u001b[0m)    │          \u001b[38;5;34m0\u001b[0m │ dense[\u001b[38;5;34m0\u001b[0m][\u001b[38;5;34m0\u001b[0m]       │\n",
              "│ (\u001b[38;5;33mAddPositionalEnco…\u001b[0m │                   │            │                   │\n",
              "├─────────────────────┼───────────────────┼────────────┼───────────────────┤\n",
              "│ multi_head_attenti… │ (\u001b[38;5;45mNone\u001b[0m, \u001b[38;5;34m64\u001b[0m, \u001b[38;5;34m64\u001b[0m)    │     \u001b[38;5;34m66,368\u001b[0m │ add_positional_e… │\n",
              "│ (\u001b[38;5;33mMultiHeadAttentio…\u001b[0m │                   │            │ add_positional_e… │\n",
              "├─────────────────────┼───────────────────┼────────────┼───────────────────┤\n",
              "│ add (\u001b[38;5;33mAdd\u001b[0m)           │ (\u001b[38;5;45mNone\u001b[0m, \u001b[38;5;34m64\u001b[0m, \u001b[38;5;34m64\u001b[0m)    │          \u001b[38;5;34m0\u001b[0m │ add_positional_e… │\n",
              "│                     │                   │            │ multi_head_atten… │\n",
              "├─────────────────────┼───────────────────┼────────────┼───────────────────┤\n",
              "│ layer_normalization │ (\u001b[38;5;45mNone\u001b[0m, \u001b[38;5;34m64\u001b[0m, \u001b[38;5;34m64\u001b[0m)    │        \u001b[38;5;34m128\u001b[0m │ add[\u001b[38;5;34m0\u001b[0m][\u001b[38;5;34m0\u001b[0m]         │\n",
              "│ (\u001b[38;5;33mLayerNormalizatio…\u001b[0m │                   │            │                   │\n",
              "├─────────────────────┼───────────────────┼────────────┼───────────────────┤\n",
              "│ dense_1 (\u001b[38;5;33mDense\u001b[0m)     │ (\u001b[38;5;45mNone\u001b[0m, \u001b[38;5;34m64\u001b[0m, \u001b[38;5;34m128\u001b[0m)   │      \u001b[38;5;34m8,320\u001b[0m │ layer_normalizat… │\n",
              "├─────────────────────┼───────────────────┼────────────┼───────────────────┤\n",
              "│ dropout_1 (\u001b[38;5;33mDropout\u001b[0m) │ (\u001b[38;5;45mNone\u001b[0m, \u001b[38;5;34m64\u001b[0m, \u001b[38;5;34m128\u001b[0m)   │          \u001b[38;5;34m0\u001b[0m │ dense_1[\u001b[38;5;34m0\u001b[0m][\u001b[38;5;34m0\u001b[0m]     │\n",
              "├─────────────────────┼───────────────────┼────────────┼───────────────────┤\n",
              "│ dense_2 (\u001b[38;5;33mDense\u001b[0m)     │ (\u001b[38;5;45mNone\u001b[0m, \u001b[38;5;34m64\u001b[0m, \u001b[38;5;34m64\u001b[0m)    │      \u001b[38;5;34m8,256\u001b[0m │ dropout_1[\u001b[38;5;34m0\u001b[0m][\u001b[38;5;34m0\u001b[0m]   │\n",
              "├─────────────────────┼───────────────────┼────────────┼───────────────────┤\n",
              "│ add_1 (\u001b[38;5;33mAdd\u001b[0m)         │ (\u001b[38;5;45mNone\u001b[0m, \u001b[38;5;34m64\u001b[0m, \u001b[38;5;34m64\u001b[0m)    │          \u001b[38;5;34m0\u001b[0m │ layer_normalizat… │\n",
              "│                     │                   │            │ dense_2[\u001b[38;5;34m0\u001b[0m][\u001b[38;5;34m0\u001b[0m]     │\n",
              "├─────────────────────┼───────────────────┼────────────┼───────────────────┤\n",
              "│ layer_normalizatio… │ (\u001b[38;5;45mNone\u001b[0m, \u001b[38;5;34m64\u001b[0m, \u001b[38;5;34m64\u001b[0m)    │        \u001b[38;5;34m128\u001b[0m │ add_1[\u001b[38;5;34m0\u001b[0m][\u001b[38;5;34m0\u001b[0m]       │\n",
              "│ (\u001b[38;5;33mLayerNormalizatio…\u001b[0m │                   │            │                   │\n",
              "├─────────────────────┼───────────────────┼────────────┼───────────────────┤\n",
              "│ multi_head_attenti… │ (\u001b[38;5;45mNone\u001b[0m, \u001b[38;5;34m64\u001b[0m, \u001b[38;5;34m64\u001b[0m)    │     \u001b[38;5;34m66,368\u001b[0m │ layer_normalizat… │\n",
              "│ (\u001b[38;5;33mMultiHeadAttentio…\u001b[0m │                   │            │ layer_normalizat… │\n",
              "├─────────────────────┼───────────────────┼────────────┼───────────────────┤\n",
              "│ add_2 (\u001b[38;5;33mAdd\u001b[0m)         │ (\u001b[38;5;45mNone\u001b[0m, \u001b[38;5;34m64\u001b[0m, \u001b[38;5;34m64\u001b[0m)    │          \u001b[38;5;34m0\u001b[0m │ layer_normalizat… │\n",
              "│                     │                   │            │ multi_head_atten… │\n",
              "├─────────────────────┼───────────────────┼────────────┼───────────────────┤\n",
              "│ layer_normalizatio… │ (\u001b[38;5;45mNone\u001b[0m, \u001b[38;5;34m64\u001b[0m, \u001b[38;5;34m64\u001b[0m)    │        \u001b[38;5;34m128\u001b[0m │ add_2[\u001b[38;5;34m0\u001b[0m][\u001b[38;5;34m0\u001b[0m]       │\n",
              "│ (\u001b[38;5;33mLayerNormalizatio…\u001b[0m │                   │            │                   │\n",
              "├─────────────────────┼───────────────────┼────────────┼───────────────────┤\n",
              "│ dense_3 (\u001b[38;5;33mDense\u001b[0m)     │ (\u001b[38;5;45mNone\u001b[0m, \u001b[38;5;34m64\u001b[0m, \u001b[38;5;34m128\u001b[0m)   │      \u001b[38;5;34m8,320\u001b[0m │ layer_normalizat… │\n",
              "├─────────────────────┼───────────────────┼────────────┼───────────────────┤\n",
              "│ dropout_3 (\u001b[38;5;33mDropout\u001b[0m) │ (\u001b[38;5;45mNone\u001b[0m, \u001b[38;5;34m64\u001b[0m, \u001b[38;5;34m128\u001b[0m)   │          \u001b[38;5;34m0\u001b[0m │ dense_3[\u001b[38;5;34m0\u001b[0m][\u001b[38;5;34m0\u001b[0m]     │\n",
              "├─────────────────────┼───────────────────┼────────────┼───────────────────┤\n",
              "│ dense_4 (\u001b[38;5;33mDense\u001b[0m)     │ (\u001b[38;5;45mNone\u001b[0m, \u001b[38;5;34m64\u001b[0m, \u001b[38;5;34m64\u001b[0m)    │      \u001b[38;5;34m8,256\u001b[0m │ dropout_3[\u001b[38;5;34m0\u001b[0m][\u001b[38;5;34m0\u001b[0m]   │\n",
              "├─────────────────────┼───────────────────┼────────────┼───────────────────┤\n",
              "│ add_3 (\u001b[38;5;33mAdd\u001b[0m)         │ (\u001b[38;5;45mNone\u001b[0m, \u001b[38;5;34m64\u001b[0m, \u001b[38;5;34m64\u001b[0m)    │          \u001b[38;5;34m0\u001b[0m │ layer_normalizat… │\n",
              "│                     │                   │            │ dense_4[\u001b[38;5;34m0\u001b[0m][\u001b[38;5;34m0\u001b[0m]     │\n",
              "├─────────────────────┼───────────────────┼────────────┼───────────────────┤\n",
              "│ layer_normalizatio… │ (\u001b[38;5;45mNone\u001b[0m, \u001b[38;5;34m64\u001b[0m, \u001b[38;5;34m64\u001b[0m)    │        \u001b[38;5;34m128\u001b[0m │ add_3[\u001b[38;5;34m0\u001b[0m][\u001b[38;5;34m0\u001b[0m]       │\n",
              "│ (\u001b[38;5;33mLayerNormalizatio…\u001b[0m │                   │            │                   │\n",
              "├─────────────────────┼───────────────────┼────────────┼───────────────────┤\n",
              "│ global_average_poo… │ (\u001b[38;5;45mNone\u001b[0m, \u001b[38;5;34m64\u001b[0m)        │          \u001b[38;5;34m0\u001b[0m │ layer_normalizat… │\n",
              "│ (\u001b[38;5;33mGlobalAveragePool…\u001b[0m │                   │            │                   │\n",
              "├─────────────────────┼───────────────────┼────────────┼───────────────────┤\n",
              "│ dropout_4 (\u001b[38;5;33mDropout\u001b[0m) │ (\u001b[38;5;45mNone\u001b[0m, \u001b[38;5;34m64\u001b[0m)        │          \u001b[38;5;34m0\u001b[0m │ global_average_p… │\n",
              "├─────────────────────┼───────────────────┼────────────┼───────────────────┤\n",
              "│ dense_5 (\u001b[38;5;33mDense\u001b[0m)     │ (\u001b[38;5;45mNone\u001b[0m, \u001b[38;5;34m64\u001b[0m)        │      \u001b[38;5;34m4,160\u001b[0m │ dropout_4[\u001b[38;5;34m0\u001b[0m][\u001b[38;5;34m0\u001b[0m]   │\n",
              "├─────────────────────┼───────────────────┼────────────┼───────────────────┤\n",
              "│ dropout_5 (\u001b[38;5;33mDropout\u001b[0m) │ (\u001b[38;5;45mNone\u001b[0m, \u001b[38;5;34m64\u001b[0m)        │          \u001b[38;5;34m0\u001b[0m │ dense_5[\u001b[38;5;34m0\u001b[0m][\u001b[38;5;34m0\u001b[0m]     │\n",
              "├─────────────────────┼───────────────────┼────────────┼───────────────────┤\n",
              "│ dense_6 (\u001b[38;5;33mDense\u001b[0m)     │ (\u001b[38;5;45mNone\u001b[0m, \u001b[38;5;34m1\u001b[0m)         │         \u001b[38;5;34m65\u001b[0m │ dropout_5[\u001b[38;5;34m0\u001b[0m][\u001b[38;5;34m0\u001b[0m]   │\n",
              "└─────────────────────┴───────────────────┴────────────┴───────────────────┘\n"
            ],
            "text/html": [
              "<pre style=\"white-space:pre;overflow-x:auto;line-height:normal;font-family:Menlo,'DejaVu Sans Mono',consolas,'Courier New',monospace\">┏━━━━━━━━━━━━━━━━━━━━━┳━━━━━━━━━━━━━━━━━━━┳━━━━━━━━━━━━┳━━━━━━━━━━━━━━━━━━━┓\n",
              "┃<span style=\"font-weight: bold\"> Layer (type)        </span>┃<span style=\"font-weight: bold\"> Output Shape      </span>┃<span style=\"font-weight: bold\">    Param # </span>┃<span style=\"font-weight: bold\"> Connected to      </span>┃\n",
              "┡━━━━━━━━━━━━━━━━━━━━━╇━━━━━━━━━━━━━━━━━━━╇━━━━━━━━━━━━╇━━━━━━━━━━━━━━━━━━━┩\n",
              "│ input_layer         │ (<span style=\"color: #00d7ff; text-decoration-color: #00d7ff\">None</span>, <span style=\"color: #00af00; text-decoration-color: #00af00\">64</span>, <span style=\"color: #00af00; text-decoration-color: #00af00\">22</span>)    │          <span style=\"color: #00af00; text-decoration-color: #00af00\">0</span> │ -                 │\n",
              "│ (<span style=\"color: #0087ff; text-decoration-color: #0087ff\">InputLayer</span>)        │                   │            │                   │\n",
              "├─────────────────────┼───────────────────┼────────────┼───────────────────┤\n",
              "│ dense (<span style=\"color: #0087ff; text-decoration-color: #0087ff\">Dense</span>)       │ (<span style=\"color: #00d7ff; text-decoration-color: #00d7ff\">None</span>, <span style=\"color: #00af00; text-decoration-color: #00af00\">64</span>, <span style=\"color: #00af00; text-decoration-color: #00af00\">64</span>)    │      <span style=\"color: #00af00; text-decoration-color: #00af00\">1,472</span> │ input_layer[<span style=\"color: #00af00; text-decoration-color: #00af00\">0</span>][<span style=\"color: #00af00; text-decoration-color: #00af00\">0</span>] │\n",
              "├─────────────────────┼───────────────────┼────────────┼───────────────────┤\n",
              "│ add_positional_enc… │ (<span style=\"color: #00d7ff; text-decoration-color: #00d7ff\">None</span>, <span style=\"color: #00af00; text-decoration-color: #00af00\">64</span>, <span style=\"color: #00af00; text-decoration-color: #00af00\">64</span>)    │          <span style=\"color: #00af00; text-decoration-color: #00af00\">0</span> │ dense[<span style=\"color: #00af00; text-decoration-color: #00af00\">0</span>][<span style=\"color: #00af00; text-decoration-color: #00af00\">0</span>]       │\n",
              "│ (<span style=\"color: #0087ff; text-decoration-color: #0087ff\">AddPositionalEnco…</span> │                   │            │                   │\n",
              "├─────────────────────┼───────────────────┼────────────┼───────────────────┤\n",
              "│ multi_head_attenti… │ (<span style=\"color: #00d7ff; text-decoration-color: #00d7ff\">None</span>, <span style=\"color: #00af00; text-decoration-color: #00af00\">64</span>, <span style=\"color: #00af00; text-decoration-color: #00af00\">64</span>)    │     <span style=\"color: #00af00; text-decoration-color: #00af00\">66,368</span> │ add_positional_e… │\n",
              "│ (<span style=\"color: #0087ff; text-decoration-color: #0087ff\">MultiHeadAttentio…</span> │                   │            │ add_positional_e… │\n",
              "├─────────────────────┼───────────────────┼────────────┼───────────────────┤\n",
              "│ add (<span style=\"color: #0087ff; text-decoration-color: #0087ff\">Add</span>)           │ (<span style=\"color: #00d7ff; text-decoration-color: #00d7ff\">None</span>, <span style=\"color: #00af00; text-decoration-color: #00af00\">64</span>, <span style=\"color: #00af00; text-decoration-color: #00af00\">64</span>)    │          <span style=\"color: #00af00; text-decoration-color: #00af00\">0</span> │ add_positional_e… │\n",
              "│                     │                   │            │ multi_head_atten… │\n",
              "├─────────────────────┼───────────────────┼────────────┼───────────────────┤\n",
              "│ layer_normalization │ (<span style=\"color: #00d7ff; text-decoration-color: #00d7ff\">None</span>, <span style=\"color: #00af00; text-decoration-color: #00af00\">64</span>, <span style=\"color: #00af00; text-decoration-color: #00af00\">64</span>)    │        <span style=\"color: #00af00; text-decoration-color: #00af00\">128</span> │ add[<span style=\"color: #00af00; text-decoration-color: #00af00\">0</span>][<span style=\"color: #00af00; text-decoration-color: #00af00\">0</span>]         │\n",
              "│ (<span style=\"color: #0087ff; text-decoration-color: #0087ff\">LayerNormalizatio…</span> │                   │            │                   │\n",
              "├─────────────────────┼───────────────────┼────────────┼───────────────────┤\n",
              "│ dense_1 (<span style=\"color: #0087ff; text-decoration-color: #0087ff\">Dense</span>)     │ (<span style=\"color: #00d7ff; text-decoration-color: #00d7ff\">None</span>, <span style=\"color: #00af00; text-decoration-color: #00af00\">64</span>, <span style=\"color: #00af00; text-decoration-color: #00af00\">128</span>)   │      <span style=\"color: #00af00; text-decoration-color: #00af00\">8,320</span> │ layer_normalizat… │\n",
              "├─────────────────────┼───────────────────┼────────────┼───────────────────┤\n",
              "│ dropout_1 (<span style=\"color: #0087ff; text-decoration-color: #0087ff\">Dropout</span>) │ (<span style=\"color: #00d7ff; text-decoration-color: #00d7ff\">None</span>, <span style=\"color: #00af00; text-decoration-color: #00af00\">64</span>, <span style=\"color: #00af00; text-decoration-color: #00af00\">128</span>)   │          <span style=\"color: #00af00; text-decoration-color: #00af00\">0</span> │ dense_1[<span style=\"color: #00af00; text-decoration-color: #00af00\">0</span>][<span style=\"color: #00af00; text-decoration-color: #00af00\">0</span>]     │\n",
              "├─────────────────────┼───────────────────┼────────────┼───────────────────┤\n",
              "│ dense_2 (<span style=\"color: #0087ff; text-decoration-color: #0087ff\">Dense</span>)     │ (<span style=\"color: #00d7ff; text-decoration-color: #00d7ff\">None</span>, <span style=\"color: #00af00; text-decoration-color: #00af00\">64</span>, <span style=\"color: #00af00; text-decoration-color: #00af00\">64</span>)    │      <span style=\"color: #00af00; text-decoration-color: #00af00\">8,256</span> │ dropout_1[<span style=\"color: #00af00; text-decoration-color: #00af00\">0</span>][<span style=\"color: #00af00; text-decoration-color: #00af00\">0</span>]   │\n",
              "├─────────────────────┼───────────────────┼────────────┼───────────────────┤\n",
              "│ add_1 (<span style=\"color: #0087ff; text-decoration-color: #0087ff\">Add</span>)         │ (<span style=\"color: #00d7ff; text-decoration-color: #00d7ff\">None</span>, <span style=\"color: #00af00; text-decoration-color: #00af00\">64</span>, <span style=\"color: #00af00; text-decoration-color: #00af00\">64</span>)    │          <span style=\"color: #00af00; text-decoration-color: #00af00\">0</span> │ layer_normalizat… │\n",
              "│                     │                   │            │ dense_2[<span style=\"color: #00af00; text-decoration-color: #00af00\">0</span>][<span style=\"color: #00af00; text-decoration-color: #00af00\">0</span>]     │\n",
              "├─────────────────────┼───────────────────┼────────────┼───────────────────┤\n",
              "│ layer_normalizatio… │ (<span style=\"color: #00d7ff; text-decoration-color: #00d7ff\">None</span>, <span style=\"color: #00af00; text-decoration-color: #00af00\">64</span>, <span style=\"color: #00af00; text-decoration-color: #00af00\">64</span>)    │        <span style=\"color: #00af00; text-decoration-color: #00af00\">128</span> │ add_1[<span style=\"color: #00af00; text-decoration-color: #00af00\">0</span>][<span style=\"color: #00af00; text-decoration-color: #00af00\">0</span>]       │\n",
              "│ (<span style=\"color: #0087ff; text-decoration-color: #0087ff\">LayerNormalizatio…</span> │                   │            │                   │\n",
              "├─────────────────────┼───────────────────┼────────────┼───────────────────┤\n",
              "│ multi_head_attenti… │ (<span style=\"color: #00d7ff; text-decoration-color: #00d7ff\">None</span>, <span style=\"color: #00af00; text-decoration-color: #00af00\">64</span>, <span style=\"color: #00af00; text-decoration-color: #00af00\">64</span>)    │     <span style=\"color: #00af00; text-decoration-color: #00af00\">66,368</span> │ layer_normalizat… │\n",
              "│ (<span style=\"color: #0087ff; text-decoration-color: #0087ff\">MultiHeadAttentio…</span> │                   │            │ layer_normalizat… │\n",
              "├─────────────────────┼───────────────────┼────────────┼───────────────────┤\n",
              "│ add_2 (<span style=\"color: #0087ff; text-decoration-color: #0087ff\">Add</span>)         │ (<span style=\"color: #00d7ff; text-decoration-color: #00d7ff\">None</span>, <span style=\"color: #00af00; text-decoration-color: #00af00\">64</span>, <span style=\"color: #00af00; text-decoration-color: #00af00\">64</span>)    │          <span style=\"color: #00af00; text-decoration-color: #00af00\">0</span> │ layer_normalizat… │\n",
              "│                     │                   │            │ multi_head_atten… │\n",
              "├─────────────────────┼───────────────────┼────────────┼───────────────────┤\n",
              "│ layer_normalizatio… │ (<span style=\"color: #00d7ff; text-decoration-color: #00d7ff\">None</span>, <span style=\"color: #00af00; text-decoration-color: #00af00\">64</span>, <span style=\"color: #00af00; text-decoration-color: #00af00\">64</span>)    │        <span style=\"color: #00af00; text-decoration-color: #00af00\">128</span> │ add_2[<span style=\"color: #00af00; text-decoration-color: #00af00\">0</span>][<span style=\"color: #00af00; text-decoration-color: #00af00\">0</span>]       │\n",
              "│ (<span style=\"color: #0087ff; text-decoration-color: #0087ff\">LayerNormalizatio…</span> │                   │            │                   │\n",
              "├─────────────────────┼───────────────────┼────────────┼───────────────────┤\n",
              "│ dense_3 (<span style=\"color: #0087ff; text-decoration-color: #0087ff\">Dense</span>)     │ (<span style=\"color: #00d7ff; text-decoration-color: #00d7ff\">None</span>, <span style=\"color: #00af00; text-decoration-color: #00af00\">64</span>, <span style=\"color: #00af00; text-decoration-color: #00af00\">128</span>)   │      <span style=\"color: #00af00; text-decoration-color: #00af00\">8,320</span> │ layer_normalizat… │\n",
              "├─────────────────────┼───────────────────┼────────────┼───────────────────┤\n",
              "│ dropout_3 (<span style=\"color: #0087ff; text-decoration-color: #0087ff\">Dropout</span>) │ (<span style=\"color: #00d7ff; text-decoration-color: #00d7ff\">None</span>, <span style=\"color: #00af00; text-decoration-color: #00af00\">64</span>, <span style=\"color: #00af00; text-decoration-color: #00af00\">128</span>)   │          <span style=\"color: #00af00; text-decoration-color: #00af00\">0</span> │ dense_3[<span style=\"color: #00af00; text-decoration-color: #00af00\">0</span>][<span style=\"color: #00af00; text-decoration-color: #00af00\">0</span>]     │\n",
              "├─────────────────────┼───────────────────┼────────────┼───────────────────┤\n",
              "│ dense_4 (<span style=\"color: #0087ff; text-decoration-color: #0087ff\">Dense</span>)     │ (<span style=\"color: #00d7ff; text-decoration-color: #00d7ff\">None</span>, <span style=\"color: #00af00; text-decoration-color: #00af00\">64</span>, <span style=\"color: #00af00; text-decoration-color: #00af00\">64</span>)    │      <span style=\"color: #00af00; text-decoration-color: #00af00\">8,256</span> │ dropout_3[<span style=\"color: #00af00; text-decoration-color: #00af00\">0</span>][<span style=\"color: #00af00; text-decoration-color: #00af00\">0</span>]   │\n",
              "├─────────────────────┼───────────────────┼────────────┼───────────────────┤\n",
              "│ add_3 (<span style=\"color: #0087ff; text-decoration-color: #0087ff\">Add</span>)         │ (<span style=\"color: #00d7ff; text-decoration-color: #00d7ff\">None</span>, <span style=\"color: #00af00; text-decoration-color: #00af00\">64</span>, <span style=\"color: #00af00; text-decoration-color: #00af00\">64</span>)    │          <span style=\"color: #00af00; text-decoration-color: #00af00\">0</span> │ layer_normalizat… │\n",
              "│                     │                   │            │ dense_4[<span style=\"color: #00af00; text-decoration-color: #00af00\">0</span>][<span style=\"color: #00af00; text-decoration-color: #00af00\">0</span>]     │\n",
              "├─────────────────────┼───────────────────┼────────────┼───────────────────┤\n",
              "│ layer_normalizatio… │ (<span style=\"color: #00d7ff; text-decoration-color: #00d7ff\">None</span>, <span style=\"color: #00af00; text-decoration-color: #00af00\">64</span>, <span style=\"color: #00af00; text-decoration-color: #00af00\">64</span>)    │        <span style=\"color: #00af00; text-decoration-color: #00af00\">128</span> │ add_3[<span style=\"color: #00af00; text-decoration-color: #00af00\">0</span>][<span style=\"color: #00af00; text-decoration-color: #00af00\">0</span>]       │\n",
              "│ (<span style=\"color: #0087ff; text-decoration-color: #0087ff\">LayerNormalizatio…</span> │                   │            │                   │\n",
              "├─────────────────────┼───────────────────┼────────────┼───────────────────┤\n",
              "│ global_average_poo… │ (<span style=\"color: #00d7ff; text-decoration-color: #00d7ff\">None</span>, <span style=\"color: #00af00; text-decoration-color: #00af00\">64</span>)        │          <span style=\"color: #00af00; text-decoration-color: #00af00\">0</span> │ layer_normalizat… │\n",
              "│ (<span style=\"color: #0087ff; text-decoration-color: #0087ff\">GlobalAveragePool…</span> │                   │            │                   │\n",
              "├─────────────────────┼───────────────────┼────────────┼───────────────────┤\n",
              "│ dropout_4 (<span style=\"color: #0087ff; text-decoration-color: #0087ff\">Dropout</span>) │ (<span style=\"color: #00d7ff; text-decoration-color: #00d7ff\">None</span>, <span style=\"color: #00af00; text-decoration-color: #00af00\">64</span>)        │          <span style=\"color: #00af00; text-decoration-color: #00af00\">0</span> │ global_average_p… │\n",
              "├─────────────────────┼───────────────────┼────────────┼───────────────────┤\n",
              "│ dense_5 (<span style=\"color: #0087ff; text-decoration-color: #0087ff\">Dense</span>)     │ (<span style=\"color: #00d7ff; text-decoration-color: #00d7ff\">None</span>, <span style=\"color: #00af00; text-decoration-color: #00af00\">64</span>)        │      <span style=\"color: #00af00; text-decoration-color: #00af00\">4,160</span> │ dropout_4[<span style=\"color: #00af00; text-decoration-color: #00af00\">0</span>][<span style=\"color: #00af00; text-decoration-color: #00af00\">0</span>]   │\n",
              "├─────────────────────┼───────────────────┼────────────┼───────────────────┤\n",
              "│ dropout_5 (<span style=\"color: #0087ff; text-decoration-color: #0087ff\">Dropout</span>) │ (<span style=\"color: #00d7ff; text-decoration-color: #00d7ff\">None</span>, <span style=\"color: #00af00; text-decoration-color: #00af00\">64</span>)        │          <span style=\"color: #00af00; text-decoration-color: #00af00\">0</span> │ dense_5[<span style=\"color: #00af00; text-decoration-color: #00af00\">0</span>][<span style=\"color: #00af00; text-decoration-color: #00af00\">0</span>]     │\n",
              "├─────────────────────┼───────────────────┼────────────┼───────────────────┤\n",
              "│ dense_6 (<span style=\"color: #0087ff; text-decoration-color: #0087ff\">Dense</span>)     │ (<span style=\"color: #00d7ff; text-decoration-color: #00d7ff\">None</span>, <span style=\"color: #00af00; text-decoration-color: #00af00\">1</span>)         │         <span style=\"color: #00af00; text-decoration-color: #00af00\">65</span> │ dropout_5[<span style=\"color: #00af00; text-decoration-color: #00af00\">0</span>][<span style=\"color: #00af00; text-decoration-color: #00af00\">0</span>]   │\n",
              "└─────────────────────┴───────────────────┴────────────┴───────────────────┘\n",
              "</pre>\n"
            ]
          },
          "metadata": {}
        },
        {
          "output_type": "display_data",
          "data": {
            "text/plain": [
              "\u001b[1m Total params: \u001b[0m\u001b[38;5;34m172,097\u001b[0m (672.25 KB)\n"
            ],
            "text/html": [
              "<pre style=\"white-space:pre;overflow-x:auto;line-height:normal;font-family:Menlo,'DejaVu Sans Mono',consolas,'Courier New',monospace\"><span style=\"font-weight: bold\"> Total params: </span><span style=\"color: #00af00; text-decoration-color: #00af00\">172,097</span> (672.25 KB)\n",
              "</pre>\n"
            ]
          },
          "metadata": {}
        },
        {
          "output_type": "display_data",
          "data": {
            "text/plain": [
              "\u001b[1m Trainable params: \u001b[0m\u001b[38;5;34m172,097\u001b[0m (672.25 KB)\n"
            ],
            "text/html": [
              "<pre style=\"white-space:pre;overflow-x:auto;line-height:normal;font-family:Menlo,'DejaVu Sans Mono',consolas,'Courier New',monospace\"><span style=\"font-weight: bold\"> Trainable params: </span><span style=\"color: #00af00; text-decoration-color: #00af00\">172,097</span> (672.25 KB)\n",
              "</pre>\n"
            ]
          },
          "metadata": {}
        },
        {
          "output_type": "display_data",
          "data": {
            "text/plain": [
              "\u001b[1m Non-trainable params: \u001b[0m\u001b[38;5;34m0\u001b[0m (0.00 B)\n"
            ],
            "text/html": [
              "<pre style=\"white-space:pre;overflow-x:auto;line-height:normal;font-family:Menlo,'DejaVu Sans Mono',consolas,'Courier New',monospace\"><span style=\"font-weight: bold\"> Non-trainable params: </span><span style=\"color: #00af00; text-decoration-color: #00af00\">0</span> (0.00 B)\n",
              "</pre>\n"
            ]
          },
          "metadata": {}
        },
        {
          "output_type": "stream",
          "name": "stdout",
          "text": [
            "Epoch 1/100\n",
            "\u001b[1m158/158\u001b[0m \u001b[32m━━━━━━━━━━━━━━━━━━━━\u001b[0m\u001b[37m\u001b[0m \u001b[1m0s\u001b[0m 62ms/step - loss: 17282598912.0000 - mean_absolute_error: 130579.5312 - mean_absolute_percentage_error: 99.9803"
          ]
        },
        {
          "output_type": "stream",
          "name": "stderr",
          "text": [
            "WARNING:absl:You are saving your model as an HDF5 file via `model.save()` or `keras.saving.save_model(model)`. This file format is considered legacy. We recommend using instead the native Keras format, e.g. `model.save('my_model.keras')` or `keras.saving.save_model(model, 'my_model.keras')`. \n"
          ]
        },
        {
          "output_type": "stream",
          "name": "stdout",
          "text": [
            "\b\b\b\b\b\b\b\b\b\b\b\b\b\b\b\b\b\b\b\b\b\b\b\b\b\b\b\b\b\b\b\b\b\b\b\b\b\b\b\b\b\b\b\b\b\b\b\b\b\b\b\b\b\b\b\b\b\b\b\b\b\b\b\b\b\b\b\b\b\b\b\b\b\b\b\b\b\b\b\b\b\b\b\b\b\b\b\b\b\b\b\b\b\b\b\b\b\b\b\b\b\b\b\b\b\b\b\b\b\b\b\b\b\b\b\b\b\b\b\b\b\b\b\b\b\b\b\b\b\b\b\b\b\b\b\b\b\b\b\b\b\b\b\r\u001b[1m158/158\u001b[0m \u001b[32m━━━━━━━━━━━━━━━━━━━━\u001b[0m\u001b[37m\u001b[0m \u001b[1m26s\u001b[0m 78ms/step - loss: 17282598912.0000 - mean_absolute_error: 130579.4375 - mean_absolute_percentage_error: 99.9801 - val_loss: 25060179968.0000 - val_mean_absolute_error: 157118.6719 - val_mean_absolute_percentage_error: 99.8645 - learning_rate: 0.0010\n",
            "Epoch 2/100\n",
            "\u001b[1m157/158\u001b[0m \u001b[32m━━━━━━━━━━━━━━━━━━━\u001b[0m\u001b[37m━\u001b[0m \u001b[1m0s\u001b[0m 20ms/step - loss: 17187137536.0000 - mean_absolute_error: 130213.4297 - mean_absolute_percentage_error: 99.6967"
          ]
        },
        {
          "output_type": "stream",
          "name": "stderr",
          "text": [
            "WARNING:absl:You are saving your model as an HDF5 file via `model.save()` or `keras.saving.save_model(model)`. This file format is considered legacy. We recommend using instead the native Keras format, e.g. `model.save('my_model.keras')` or `keras.saving.save_model(model, 'my_model.keras')`. \n"
          ]
        },
        {
          "output_type": "stream",
          "name": "stdout",
          "text": [
            "\b\b\b\b\b\b\b\b\b\b\b\b\b\b\b\b\b\b\b\b\b\b\b\b\b\b\b\b\b\b\b\b\b\b\b\b\b\b\b\b\b\b\b\b\b\b\b\b\b\b\b\b\b\b\b\b\b\b\b\b\b\b\b\b\b\b\b\b\b\b\b\b\b\b\b\b\b\b\b\b\b\b\b\b\b\b\b\b\b\b\b\b\b\b\b\b\b\b\b\b\b\b\b\b\b\b\b\b\b\b\b\b\b\b\b\b\b\b\b\b\b\b\b\b\b\b\b\b\b\b\b\b\b\b\b\b\b\b\b\b\b\b\b\r\u001b[1m158/158\u001b[0m \u001b[32m━━━━━━━━━━━━━━━━━━━━\u001b[0m\u001b[37m\u001b[0m \u001b[1m4s\u001b[0m 23ms/step - loss: 17186476032.0000 - mean_absolute_error: 130210.6875 - mean_absolute_percentage_error: 99.6943 - val_loss: 24723961856.0000 - val_mean_absolute_error: 156045.0938 - val_mean_absolute_percentage_error: 99.1721 - learning_rate: 0.0010\n",
            "Epoch 3/100\n",
            "\u001b[1m156/158\u001b[0m \u001b[32m━━━━━━━━━━━━━━━━━━━\u001b[0m\u001b[37m━\u001b[0m \u001b[1m0s\u001b[0m 21ms/step - loss: 16820592640.0000 - mean_absolute_error: 128797.2031 - mean_absolute_percentage_error: 98.5994"
          ]
        },
        {
          "output_type": "stream",
          "name": "stderr",
          "text": [
            "WARNING:absl:You are saving your model as an HDF5 file via `model.save()` or `keras.saving.save_model(model)`. This file format is considered legacy. We recommend using instead the native Keras format, e.g. `model.save('my_model.keras')` or `keras.saving.save_model(model, 'my_model.keras')`. \n"
          ]
        },
        {
          "output_type": "stream",
          "name": "stdout",
          "text": [
            "\b\b\b\b\b\b\b\b\b\b\b\b\b\b\b\b\b\b\b\b\b\b\b\b\b\b\b\b\b\b\b\b\b\b\b\b\b\b\b\b\b\b\b\b\b\b\b\b\b\b\b\b\b\b\b\b\b\b\b\b\b\b\b\b\b\b\b\b\b\b\b\b\b\b\b\b\b\b\b\b\b\b\b\b\b\b\b\b\b\b\b\b\b\b\b\b\b\b\b\b\b\b\b\b\b\b\b\b\b\b\b\b\b\b\b\b\b\b\b\b\b\b\b\b\b\b\b\b\b\b\b\b\b\b\b\b\b\b\b\b\b\b\b\r\u001b[1m158/158\u001b[0m \u001b[32m━━━━━━━━━━━━━━━━━━━━\u001b[0m\u001b[37m\u001b[0m \u001b[1m4s\u001b[0m 23ms/step - loss: 16817748992.0000 - mean_absolute_error: 128785.8203 - mean_absolute_percentage_error: 98.5901 - val_loss: 23900661760.0000 - val_mean_absolute_error: 153384.3750 - val_mean_absolute_percentage_error: 97.4561 - learning_rate: 0.0010\n",
            "Epoch 4/100\n",
            "\u001b[1m157/158\u001b[0m \u001b[32m━━━━━━━━━━━━━━━━━━━\u001b[0m\u001b[37m━\u001b[0m \u001b[1m0s\u001b[0m 20ms/step - loss: 16016974848.0000 - mean_absolute_error: 125635.5938 - mean_absolute_percentage_error: 96.1495"
          ]
        },
        {
          "output_type": "stream",
          "name": "stderr",
          "text": [
            "WARNING:absl:You are saving your model as an HDF5 file via `model.save()` or `keras.saving.save_model(model)`. This file format is considered legacy. We recommend using instead the native Keras format, e.g. `model.save('my_model.keras')` or `keras.saving.save_model(model, 'my_model.keras')`. \n"
          ]
        },
        {
          "output_type": "stream",
          "name": "stdout",
          "text": [
            "\b\b\b\b\b\b\b\b\b\b\b\b\b\b\b\b\b\b\b\b\b\b\b\b\b\b\b\b\b\b\b\b\b\b\b\b\b\b\b\b\b\b\b\b\b\b\b\b\b\b\b\b\b\b\b\b\b\b\b\b\b\b\b\b\b\b\b\b\b\b\b\b\b\b\b\b\b\b\b\b\b\b\b\b\b\b\b\b\b\b\b\b\b\b\b\b\b\b\b\b\b\b\b\b\b\b\b\b\b\b\b\b\b\b\b\b\b\b\b\b\b\b\b\b\b\b\b\b\b\b\b\b\b\b\b\b\b\b\b\b\b\b\b\r\u001b[1m158/158\u001b[0m \u001b[32m━━━━━━━━━━━━━━━━━━━━\u001b[0m\u001b[37m\u001b[0m \u001b[1m4s\u001b[0m 22ms/step - loss: 16013479936.0000 - mean_absolute_error: 125621.3828 - mean_absolute_percentage_error: 96.1382 - val_loss: 22445737984.0000 - val_mean_absolute_error: 148565.9219 - val_mean_absolute_percentage_error: 94.3484 - learning_rate: 0.0010\n",
            "Epoch 5/100\n",
            "\u001b[1m157/158\u001b[0m \u001b[32m━━━━━━━━━━━━━━━━━━━\u001b[0m\u001b[37m━\u001b[0m \u001b[1m0s\u001b[0m 20ms/step - loss: 14684663808.0000 - mean_absolute_error: 120208.3516 - mean_absolute_percentage_error: 91.9438"
          ]
        },
        {
          "output_type": "stream",
          "name": "stderr",
          "text": [
            "WARNING:absl:You are saving your model as an HDF5 file via `model.save()` or `keras.saving.save_model(model)`. This file format is considered legacy. We recommend using instead the native Keras format, e.g. `model.save('my_model.keras')` or `keras.saving.save_model(model, 'my_model.keras')`. \n"
          ]
        },
        {
          "output_type": "stream",
          "name": "stdout",
          "text": [
            "\b\b\b\b\b\b\b\b\b\b\b\b\b\b\b\b\b\b\b\b\b\b\b\b\b\b\b\b\b\b\b\b\b\b\b\b\b\b\b\b\b\b\b\b\b\b\b\b\b\b\b\b\b\b\b\b\b\b\b\b\b\b\b\b\b\b\b\b\b\b\b\b\b\b\b\b\b\b\b\b\b\b\b\b\b\b\b\b\b\b\b\b\b\b\b\b\b\b\b\b\b\b\b\b\b\b\b\b\b\b\b\b\b\b\b\b\b\b\b\b\b\b\b\b\b\b\b\b\b\b\b\b\b\b\b\b\b\b\b\b\b\b\b\r\u001b[1m158/158\u001b[0m \u001b[32m━━━━━━━━━━━━━━━━━━━━\u001b[0m\u001b[37m\u001b[0m \u001b[1m4s\u001b[0m 23ms/step - loss: 14679470080.0000 - mean_absolute_error: 120186.2656 - mean_absolute_percentage_error: 91.9264 - val_loss: 20317216768.0000 - val_mean_absolute_error: 141220.8281 - val_mean_absolute_percentage_error: 89.6111 - learning_rate: 0.0010\n",
            "Epoch 6/100\n",
            "\u001b[1m157/158\u001b[0m \u001b[32m━━━━━━━━━━━━━━━━━━━\u001b[0m\u001b[37m━\u001b[0m \u001b[1m0s\u001b[0m 21ms/step - loss: 12832392192.0000 - mean_absolute_error: 112224.6016 - mean_absolute_percentage_error: 85.7571"
          ]
        },
        {
          "output_type": "stream",
          "name": "stderr",
          "text": [
            "WARNING:absl:You are saving your model as an HDF5 file via `model.save()` or `keras.saving.save_model(model)`. This file format is considered legacy. We recommend using instead the native Keras format, e.g. `model.save('my_model.keras')` or `keras.saving.save_model(model, 'my_model.keras')`. \n"
          ]
        },
        {
          "output_type": "stream",
          "name": "stdout",
          "text": [
            "\b\b\b\b\b\b\b\b\b\b\b\b\b\b\b\b\b\b\b\b\b\b\b\b\b\b\b\b\b\b\b\b\b\b\b\b\b\b\b\b\b\b\b\b\b\b\b\b\b\b\b\b\b\b\b\b\b\b\b\b\b\b\b\b\b\b\b\b\b\b\b\b\b\b\b\b\b\b\b\b\b\b\b\b\b\b\b\b\b\b\b\b\b\b\b\b\b\b\b\b\b\b\b\b\b\b\b\b\b\b\b\b\b\b\b\b\b\b\b\b\b\b\b\b\b\b\b\b\b\b\b\b\b\b\b\b\b\b\b\b\b\b\b\r\u001b[1m158/158\u001b[0m \u001b[32m━━━━━━━━━━━━━━━━━━━━\u001b[0m\u001b[37m\u001b[0m \u001b[1m4s\u001b[0m 24ms/step - loss: 12825777152.0000 - mean_absolute_error: 112194.3359 - mean_absolute_percentage_error: 85.7334 - val_loss: 17598703616.0000 - val_mean_absolute_error: 131243.2969 - val_mean_absolute_percentage_error: 83.1760 - learning_rate: 0.0010\n",
            "Epoch 7/100\n",
            "\u001b[1m157/158\u001b[0m \u001b[32m━━━━━━━━━━━━━━━━━━━\u001b[0m\u001b[37m━\u001b[0m \u001b[1m0s\u001b[0m 20ms/step - loss: 10569101312.0000 - mean_absolute_error: 101617.3828 - mean_absolute_percentage_error: 77.5396"
          ]
        },
        {
          "output_type": "stream",
          "name": "stderr",
          "text": [
            "WARNING:absl:You are saving your model as an HDF5 file via `model.save()` or `keras.saving.save_model(model)`. This file format is considered legacy. We recommend using instead the native Keras format, e.g. `model.save('my_model.keras')` or `keras.saving.save_model(model, 'my_model.keras')`. \n"
          ]
        },
        {
          "output_type": "stream",
          "name": "stdout",
          "text": [
            "\b\b\b\b\b\b\b\b\b\b\b\b\b\b\b\b\b\b\b\b\b\b\b\b\b\b\b\b\b\b\b\b\b\b\b\b\b\b\b\b\b\b\b\b\b\b\b\b\b\b\b\b\b\b\b\b\b\b\b\b\b\b\b\b\b\b\b\b\b\b\b\b\b\b\b\b\b\b\b\b\b\b\b\b\b\b\b\b\b\b\b\b\b\b\b\b\b\b\b\b\b\b\b\b\b\b\b\b\b\b\b\b\b\b\b\b\b\b\b\b\b\b\b\b\b\b\b\b\b\b\b\b\b\b\b\b\b\b\b\b\b\b\b\r\u001b[1m158/158\u001b[0m \u001b[32m━━━━━━━━━━━━━━━━━━━━\u001b[0m\u001b[37m\u001b[0m \u001b[1m4s\u001b[0m 23ms/step - loss: 10561588224.0000 - mean_absolute_error: 101579.1719 - mean_absolute_percentage_error: 77.5097 - val_loss: 14486941696.0000 - val_mean_absolute_error: 118798.3281 - val_mean_absolute_percentage_error: 75.1495 - learning_rate: 0.0010\n",
            "Epoch 8/100\n",
            "\u001b[1m157/158\u001b[0m \u001b[32m━━━━━━━━━━━━━━━━━━━\u001b[0m\u001b[37m━\u001b[0m \u001b[1m0s\u001b[0m 20ms/step - loss: 8108400128.0000 - mean_absolute_error: 88642.9766 - mean_absolute_percentage_error: 67.4857"
          ]
        },
        {
          "output_type": "stream",
          "name": "stderr",
          "text": [
            "WARNING:absl:You are saving your model as an HDF5 file via `model.save()` or `keras.saving.save_model(model)`. This file format is considered legacy. We recommend using instead the native Keras format, e.g. `model.save('my_model.keras')` or `keras.saving.save_model(model, 'my_model.keras')`. \n"
          ]
        },
        {
          "output_type": "stream",
          "name": "stdout",
          "text": [
            "\b\b\b\b\b\b\b\b\b\b\b\b\b\b\b\b\b\b\b\b\b\b\b\b\b\b\b\b\b\b\b\b\b\b\b\b\b\b\b\b\b\b\b\b\b\b\b\b\b\b\b\b\b\b\b\b\b\b\b\b\b\b\b\b\b\b\b\b\b\b\b\b\b\b\b\b\b\b\b\b\b\b\b\b\b\b\b\b\b\b\b\b\b\b\b\b\b\b\b\b\b\b\b\b\b\b\b\b\b\b\b\b\b\b\b\b\b\b\b\b\b\b\b\b\b\b\b\b\b\b\b\b\b\b\b\b\b\b\b\b\b\r\u001b[1m158/158\u001b[0m \u001b[32m━━━━━━━━━━━━━━━━━━━━\u001b[0m\u001b[37m\u001b[0m \u001b[1m4s\u001b[0m 23ms/step - loss: 8100813312.0000 - mean_absolute_error: 88598.3906 - mean_absolute_percentage_error: 67.4509 - val_loss: 11270819840.0000 - val_mean_absolute_error: 104388.3047 - val_mean_absolute_percentage_error: 65.8556 - learning_rate: 0.0010\n",
            "Epoch 9/100\n",
            "\u001b[1m157/158\u001b[0m \u001b[32m━━━━━━━━━━━━━━━━━━━\u001b[0m\u001b[37m━\u001b[0m \u001b[1m0s\u001b[0m 20ms/step - loss: 5719867392.0000 - mean_absolute_error: 73881.7812 - mean_absolute_percentage_error: 56.0444"
          ]
        },
        {
          "output_type": "stream",
          "name": "stderr",
          "text": [
            "WARNING:absl:You are saving your model as an HDF5 file via `model.save()` or `keras.saving.save_model(model)`. This file format is considered legacy. We recommend using instead the native Keras format, e.g. `model.save('my_model.keras')` or `keras.saving.save_model(model, 'my_model.keras')`. \n"
          ]
        },
        {
          "output_type": "stream",
          "name": "stdout",
          "text": [
            "\b\b\b\b\b\b\b\b\b\b\b\b\b\b\b\b\b\b\b\b\b\b\b\b\b\b\b\b\b\b\b\b\b\b\b\b\b\b\b\b\b\b\b\b\b\b\b\b\b\b\b\b\b\b\b\b\b\b\b\b\b\b\b\b\b\b\b\b\b\b\b\b\b\b\b\b\b\b\b\b\b\b\b\b\b\b\b\b\b\b\b\b\b\b\b\b\b\b\b\b\b\b\b\b\b\b\b\b\b\b\b\b\b\b\b\b\b\b\b\b\b\b\b\b\b\b\b\b\b\b\b\b\b\b\b\b\b\b\b\b\b\r\u001b[1m158/158\u001b[0m \u001b[32m━━━━━━━━━━━━━━━━━━━━\u001b[0m\u001b[37m\u001b[0m \u001b[1m4s\u001b[0m 23ms/step - loss: 5713148928.0000 - mean_absolute_error: 73833.8281 - mean_absolute_percentage_error: 56.0070 - val_loss: 8270053376.0000 - val_mean_absolute_error: 88860.2969 - val_mean_absolute_percentage_error: 55.8407 - learning_rate: 0.0010\n",
            "Epoch 10/100\n",
            "\u001b[1m156/158\u001b[0m \u001b[32m━━━━━━━━━━━━━━━━━━━\u001b[0m\u001b[37m━\u001b[0m \u001b[1m0s\u001b[0m 21ms/step - loss: 3672762368.0000 - mean_absolute_error: 58314.7188 - mean_absolute_percentage_error: 43.9839"
          ]
        },
        {
          "output_type": "stream",
          "name": "stderr",
          "text": [
            "WARNING:absl:You are saving your model as an HDF5 file via `model.save()` or `keras.saving.save_model(model)`. This file format is considered legacy. We recommend using instead the native Keras format, e.g. `model.save('my_model.keras')` or `keras.saving.save_model(model, 'my_model.keras')`. \n"
          ]
        },
        {
          "output_type": "stream",
          "name": "stdout",
          "text": [
            "\b\b\b\b\b\b\b\b\b\b\b\b\b\b\b\b\b\b\b\b\b\b\b\b\b\b\b\b\b\b\b\b\b\b\b\b\b\b\b\b\b\b\b\b\b\b\b\b\b\b\b\b\b\b\b\b\b\b\b\b\b\b\b\b\b\b\b\b\b\b\b\b\b\b\b\b\b\b\b\b\b\b\b\b\b\b\b\b\b\b\b\b\b\b\b\b\b\b\b\b\b\b\b\b\b\b\b\b\b\b\b\b\b\b\b\b\b\b\b\b\b\b\b\b\b\b\b\b\b\b\b\b\b\b\b\b\b\b\b\b\b\r\u001b[1m158/158\u001b[0m \u001b[32m━━━━━━━━━━━━━━━━━━━━\u001b[0m\u001b[37m\u001b[0m \u001b[1m4s\u001b[0m 23ms/step - loss: 3664805888.0000 - mean_absolute_error: 58241.8086 - mean_absolute_percentage_error: 43.9270 - val_loss: 5754133504.0000 - val_mean_absolute_error: 73350.0781 - val_mean_absolute_percentage_error: 45.8373 - learning_rate: 0.0010\n",
            "Epoch 11/100\n",
            "\u001b[1m157/158\u001b[0m \u001b[32m━━━━━━━━━━━━━━━━━━━\u001b[0m\u001b[37m━\u001b[0m \u001b[1m0s\u001b[0m 20ms/step - loss: 2125479296.0000 - mean_absolute_error: 42941.7617 - mean_absolute_percentage_error: 32.0750"
          ]
        },
        {
          "output_type": "stream",
          "name": "stderr",
          "text": [
            "WARNING:absl:You are saving your model as an HDF5 file via `model.save()` or `keras.saving.save_model(model)`. This file format is considered legacy. We recommend using instead the native Keras format, e.g. `model.save('my_model.keras')` or `keras.saving.save_model(model, 'my_model.keras')`. \n"
          ]
        },
        {
          "output_type": "stream",
          "name": "stdout",
          "text": [
            "\b\b\b\b\b\b\b\b\b\b\b\b\b\b\b\b\b\b\b\b\b\b\b\b\b\b\b\b\b\b\b\b\b\b\b\b\b\b\b\b\b\b\b\b\b\b\b\b\b\b\b\b\b\b\b\b\b\b\b\b\b\b\b\b\b\b\b\b\b\b\b\b\b\b\b\b\b\b\b\b\b\b\b\b\b\b\b\b\b\b\b\b\b\b\b\b\b\b\b\b\b\b\b\b\b\b\b\b\b\b\b\b\b\b\b\b\b\b\b\b\b\b\b\b\b\b\b\b\b\b\b\b\b\b\b\b\b\b\b\b\b\r\u001b[1m158/158\u001b[0m \u001b[32m━━━━━━━━━━━━━━━━━━━━\u001b[0m\u001b[37m\u001b[0m \u001b[1m4s\u001b[0m 23ms/step - loss: 2122059648.0000 - mean_absolute_error: 42898.0898 - mean_absolute_percentage_error: 32.0409 - val_loss: 3874053888.0000 - val_mean_absolute_error: 59162.0859 - val_mean_absolute_percentage_error: 36.6866 - learning_rate: 0.0010\n",
            "Epoch 12/100\n",
            "\u001b[1m157/158\u001b[0m \u001b[32m━━━━━━━━━━━━━━━━━━━\u001b[0m\u001b[37m━\u001b[0m \u001b[1m0s\u001b[0m 20ms/step - loss: 1148518784.0000 - mean_absolute_error: 29404.4727 - mean_absolute_percentage_error: 21.6053"
          ]
        },
        {
          "output_type": "stream",
          "name": "stderr",
          "text": [
            "WARNING:absl:You are saving your model as an HDF5 file via `model.save()` or `keras.saving.save_model(model)`. This file format is considered legacy. We recommend using instead the native Keras format, e.g. `model.save('my_model.keras')` or `keras.saving.save_model(model, 'my_model.keras')`. \n"
          ]
        },
        {
          "output_type": "stream",
          "name": "stdout",
          "text": [
            "\b\b\b\b\b\b\b\b\b\b\b\b\b\b\b\b\b\b\b\b\b\b\b\b\b\b\b\b\b\b\b\b\b\b\b\b\b\b\b\b\b\b\b\b\b\b\b\b\b\b\b\b\b\b\b\b\b\b\b\b\b\b\b\b\b\b\b\b\b\b\b\b\b\b\b\b\b\b\b\b\b\b\b\b\b\b\b\b\b\b\b\b\b\b\b\b\b\b\b\b\b\b\b\b\b\b\b\b\b\b\b\b\b\b\b\b\b\b\b\b\b\b\b\b\b\b\b\b\b\b\b\b\b\b\b\b\b\b\b\b\b\r\u001b[1m158/158\u001b[0m \u001b[32m━━━━━━━━━━━━━━━━━━━━\u001b[0m\u001b[37m\u001b[0m \u001b[1m4s\u001b[0m 23ms/step - loss: 1146635648.0000 - mean_absolute_error: 29369.2656 - mean_absolute_percentage_error: 21.5779 - val_loss: 2602097664.0000 - val_mean_absolute_error: 47203.7852 - val_mean_absolute_percentage_error: 28.9740 - learning_rate: 0.0010\n",
            "Epoch 13/100\n",
            "\u001b[1m155/158\u001b[0m \u001b[32m━━━━━━━━━━━━━━━━━━━\u001b[0m\u001b[37m━\u001b[0m \u001b[1m0s\u001b[0m 21ms/step - loss: 631908544.0000 - mean_absolute_error: 19351.6270 - mean_absolute_percentage_error: 13.9232"
          ]
        },
        {
          "output_type": "stream",
          "name": "stderr",
          "text": [
            "WARNING:absl:You are saving your model as an HDF5 file via `model.save()` or `keras.saving.save_model(model)`. This file format is considered legacy. We recommend using instead the native Keras format, e.g. `model.save('my_model.keras')` or `keras.saving.save_model(model, 'my_model.keras')`. \n"
          ]
        },
        {
          "output_type": "stream",
          "name": "stdout",
          "text": [
            "\b\b\b\b\b\b\b\b\b\b\b\b\b\b\b\b\b\b\b\b\b\b\b\b\b\b\b\b\b\b\b\b\b\b\b\b\b\b\b\b\b\b\b\b\b\b\b\b\b\b\b\b\b\b\b\b\b\b\b\b\b\b\b\b\b\b\b\b\b\b\b\b\b\b\b\b\b\b\b\b\b\b\b\b\b\b\b\b\b\b\b\b\b\b\b\b\b\b\b\b\b\b\b\b\b\b\b\b\b\b\b\b\b\b\b\b\b\b\b\b\b\b\b\b\b\b\b\b\b\b\b\b\b\b\b\b\b\b\b\b\r\u001b[1m158/158\u001b[0m \u001b[32m━━━━━━━━━━━━━━━━━━━━\u001b[0m\u001b[37m\u001b[0m \u001b[1m4s\u001b[0m 24ms/step - loss: 630220224.0000 - mean_absolute_error: 19312.0664 - mean_absolute_percentage_error: 13.8933 - val_loss: 1858812928.0000 - val_mean_absolute_error: 38534.5664 - val_mean_absolute_percentage_error: 23.3827 - learning_rate: 0.0010\n",
            "Epoch 14/100\n",
            "\u001b[1m157/158\u001b[0m \u001b[32m━━━━━━━━━━━━━━━━━━━\u001b[0m\u001b[37m━\u001b[0m \u001b[1m0s\u001b[0m 20ms/step - loss: 412665504.0000 - mean_absolute_error: 14547.1436 - mean_absolute_percentage_error: 10.4259"
          ]
        },
        {
          "output_type": "stream",
          "name": "stderr",
          "text": [
            "WARNING:absl:You are saving your model as an HDF5 file via `model.save()` or `keras.saving.save_model(model)`. This file format is considered legacy. We recommend using instead the native Keras format, e.g. `model.save('my_model.keras')` or `keras.saving.save_model(model, 'my_model.keras')`. \n"
          ]
        },
        {
          "output_type": "stream",
          "name": "stdout",
          "text": [
            "\b\b\b\b\b\b\b\b\b\b\b\b\b\b\b\b\b\b\b\b\b\b\b\b\b\b\b\b\b\b\b\b\b\b\b\b\b\b\b\b\b\b\b\b\b\b\b\b\b\b\b\b\b\b\b\b\b\b\b\b\b\b\b\b\b\b\b\b\b\b\b\b\b\b\b\b\b\b\b\b\b\b\b\b\b\b\b\b\b\b\b\b\b\b\b\b\b\b\b\b\b\b\b\b\b\b\b\b\b\b\b\b\b\b\b\b\b\b\b\b\b\b\b\b\b\b\b\b\b\b\b\b\b\b\b\b\b\b\b\b\r\u001b[1m158/158\u001b[0m \u001b[32m━━━━━━━━━━━━━━━━━━━━\u001b[0m\u001b[37m\u001b[0m \u001b[1m4s\u001b[0m 23ms/step - loss: 412419296.0000 - mean_absolute_error: 14541.6885 - mean_absolute_percentage_error: 10.4221 - val_loss: 1461797376.0000 - val_mean_absolute_error: 32983.2852 - val_mean_absolute_percentage_error: 19.8024 - learning_rate: 0.0010\n",
            "Epoch 15/100\n",
            "\u001b[1m156/158\u001b[0m \u001b[32m━━━━━━━━━━━━━━━━━━━\u001b[0m\u001b[37m━\u001b[0m \u001b[1m0s\u001b[0m 21ms/step - loss: 345606560.0000 - mean_absolute_error: 13422.2119 - mean_absolute_percentage_error: 9.7455"
          ]
        },
        {
          "output_type": "stream",
          "name": "stderr",
          "text": [
            "WARNING:absl:You are saving your model as an HDF5 file via `model.save()` or `keras.saving.save_model(model)`. This file format is considered legacy. We recommend using instead the native Keras format, e.g. `model.save('my_model.keras')` or `keras.saving.save_model(model, 'my_model.keras')`. \n"
          ]
        },
        {
          "output_type": "stream",
          "name": "stdout",
          "text": [
            "\b\b\b\b\b\b\b\b\b\b\b\b\b\b\b\b\b\b\b\b\b\b\b\b\b\b\b\b\b\b\b\b\b\b\b\b\b\b\b\b\b\b\b\b\b\b\b\b\b\b\b\b\b\b\b\b\b\b\b\b\b\b\b\b\b\b\b\b\b\b\b\b\b\b\b\b\b\b\b\b\b\b\b\b\b\b\b\b\b\b\b\b\b\b\b\b\b\b\b\b\b\b\b\b\b\b\b\b\b\b\b\b\b\b\b\b\b\b\b\b\b\b\b\b\b\b\b\b\b\b\b\b\b\b\b\b\b\b\b\r\u001b[1m158/158\u001b[0m \u001b[32m━━━━━━━━━━━━━━━━━━━━\u001b[0m\u001b[37m\u001b[0m \u001b[1m4s\u001b[0m 23ms/step - loss: 345505184.0000 - mean_absolute_error: 13420.8594 - mean_absolute_percentage_error: 9.7448 - val_loss: 1266539904.0000 - val_mean_absolute_error: 29883.0859 - val_mean_absolute_percentage_error: 17.8037 - learning_rate: 0.0010\n",
            "Epoch 16/100\n",
            "\u001b[1m157/158\u001b[0m \u001b[32m━━━━━━━━━━━━━━━━━━━\u001b[0m\u001b[37m━\u001b[0m \u001b[1m0s\u001b[0m 21ms/step - loss: 329014016.0000 - mean_absolute_error: 13304.3330 - mean_absolute_percentage_error: 9.7681"
          ]
        },
        {
          "output_type": "stream",
          "name": "stderr",
          "text": [
            "WARNING:absl:You are saving your model as an HDF5 file via `model.save()` or `keras.saving.save_model(model)`. This file format is considered legacy. We recommend using instead the native Keras format, e.g. `model.save('my_model.keras')` or `keras.saving.save_model(model, 'my_model.keras')`. \n"
          ]
        },
        {
          "output_type": "stream",
          "name": "stdout",
          "text": [
            "\b\b\b\b\b\b\b\b\b\b\b\b\b\b\b\b\b\b\b\b\b\b\b\b\b\b\b\b\b\b\b\b\b\b\b\b\b\b\b\b\b\b\b\b\b\b\b\b\b\b\b\b\b\b\b\b\b\b\b\b\b\b\b\b\b\b\b\b\b\b\b\b\b\b\b\b\b\b\b\b\b\b\b\b\b\b\b\b\b\b\b\b\b\b\b\b\b\b\b\b\b\b\b\b\b\b\b\b\b\b\b\b\b\b\b\b\b\b\b\b\b\b\b\b\b\b\b\b\b\b\b\b\b\b\b\b\b\b\b\r\u001b[1m158/158\u001b[0m \u001b[32m━━━━━━━━━━━━━━━━━━━━\u001b[0m\u001b[37m\u001b[0m \u001b[1m4s\u001b[0m 23ms/step - loss: 329018080.0000 - mean_absolute_error: 13305.3047 - mean_absolute_percentage_error: 9.7690 - val_loss: 1184466816.0000 - val_mean_absolute_error: 28609.7520 - val_mean_absolute_percentage_error: 17.0009 - learning_rate: 0.0010\n",
            "Epoch 17/100\n",
            "\u001b[1m157/158\u001b[0m \u001b[32m━━━━━━━━━━━━━━━━━━━\u001b[0m\u001b[37m━\u001b[0m \u001b[1m0s\u001b[0m 20ms/step - loss: 315696768.0000 - mean_absolute_error: 13134.4570 - mean_absolute_percentage_error: 9.6777"
          ]
        },
        {
          "output_type": "stream",
          "name": "stderr",
          "text": [
            "WARNING:absl:You are saving your model as an HDF5 file via `model.save()` or `keras.saving.save_model(model)`. This file format is considered legacy. We recommend using instead the native Keras format, e.g. `model.save('my_model.keras')` or `keras.saving.save_model(model, 'my_model.keras')`. \n"
          ]
        },
        {
          "output_type": "stream",
          "name": "stdout",
          "text": [
            "\b\b\b\b\b\b\b\b\b\b\b\b\b\b\b\b\b\b\b\b\b\b\b\b\b\b\b\b\b\b\b\b\b\b\b\b\b\b\b\b\b\b\b\b\b\b\b\b\b\b\b\b\b\b\b\b\b\b\b\b\b\b\b\b\b\b\b\b\b\b\b\b\b\b\b\b\b\b\b\b\b\b\b\b\b\b\b\b\b\b\b\b\b\b\b\b\b\b\b\b\b\b\b\b\b\b\b\b\b\b\b\b\b\b\b\b\b\b\b\b\b\b\b\b\b\b\b\b\b\b\b\b\b\b\b\b\b\b\b\r\u001b[1m158/158\u001b[0m \u001b[32m━━━━━━━━━━━━━━━━━━━━\u001b[0m\u001b[37m\u001b[0m \u001b[1m4s\u001b[0m 23ms/step - loss: 315504736.0000 - mean_absolute_error: 13127.8984 - mean_absolute_percentage_error: 9.6720 - val_loss: 1057573120.0000 - val_mean_absolute_error: 26660.6895 - val_mean_absolute_percentage_error: 15.7924 - learning_rate: 0.0010\n",
            "Epoch 18/100\n",
            "\u001b[1m157/158\u001b[0m \u001b[32m━━━━━━━━━━━━━━━━━━━\u001b[0m\u001b[37m━\u001b[0m \u001b[1m0s\u001b[0m 20ms/step - loss: 239859728.0000 - mean_absolute_error: 10876.4424 - mean_absolute_percentage_error: 7.8271"
          ]
        },
        {
          "output_type": "stream",
          "name": "stderr",
          "text": [
            "WARNING:absl:You are saving your model as an HDF5 file via `model.save()` or `keras.saving.save_model(model)`. This file format is considered legacy. We recommend using instead the native Keras format, e.g. `model.save('my_model.keras')` or `keras.saving.save_model(model, 'my_model.keras')`. \n"
          ]
        },
        {
          "output_type": "stream",
          "name": "stdout",
          "text": [
            "\b\b\b\b\b\b\b\b\b\b\b\b\b\b\b\b\b\b\b\b\b\b\b\b\b\b\b\b\b\b\b\b\b\b\b\b\b\b\b\b\b\b\b\b\b\b\b\b\b\b\b\b\b\b\b\b\b\b\b\b\b\b\b\b\b\b\b\b\b\b\b\b\b\b\b\b\b\b\b\b\b\b\b\b\b\b\b\b\b\b\b\b\b\b\b\b\b\b\b\b\b\b\b\b\b\b\b\b\b\b\b\b\b\b\b\b\b\b\b\b\b\b\b\b\b\b\b\b\b\b\b\b\b\b\b\b\b\b\b\r\u001b[1m158/158\u001b[0m \u001b[32m━━━━━━━━━━━━━━━━━━━━\u001b[0m\u001b[37m\u001b[0m \u001b[1m4s\u001b[0m 23ms/step - loss: 239762624.0000 - mean_absolute_error: 10875.1807 - mean_absolute_percentage_error: 7.8263 - val_loss: 843349312.0000 - val_mean_absolute_error: 22931.6133 - val_mean_absolute_percentage_error: 13.4667 - learning_rate: 0.0010\n",
            "Epoch 19/100\n",
            "\u001b[1m157/158\u001b[0m \u001b[32m━━━━━━━━━━━━━━━━━━━\u001b[0m\u001b[37m━\u001b[0m \u001b[1m0s\u001b[0m 21ms/step - loss: 202946400.0000 - mean_absolute_error: 10299.7549 - mean_absolute_percentage_error: 7.4828"
          ]
        },
        {
          "output_type": "stream",
          "name": "stderr",
          "text": [
            "WARNING:absl:You are saving your model as an HDF5 file via `model.save()` or `keras.saving.save_model(model)`. This file format is considered legacy. We recommend using instead the native Keras format, e.g. `model.save('my_model.keras')` or `keras.saving.save_model(model, 'my_model.keras')`. \n"
          ]
        },
        {
          "output_type": "stream",
          "name": "stdout",
          "text": [
            "\b\b\b\b\b\b\b\b\b\b\b\b\b\b\b\b\b\b\b\b\b\b\b\b\b\b\b\b\b\b\b\b\b\b\b\b\b\b\b\b\b\b\b\b\b\b\b\b\b\b\b\b\b\b\b\b\b\b\b\b\b\b\b\b\b\b\b\b\b\b\b\b\b\b\b\b\b\b\b\b\b\b\b\b\b\b\b\b\b\b\b\b\b\b\b\b\b\b\b\b\b\b\b\b\b\b\b\b\b\b\b\b\b\b\b\b\b\b\b\b\b\b\b\b\b\b\b\b\b\b\b\b\b\b\b\b\b\b\b\r\u001b[1m158/158\u001b[0m \u001b[32m━━━━━━━━━━━━━━━━━━━━\u001b[0m\u001b[37m\u001b[0m \u001b[1m4s\u001b[0m 24ms/step - loss: 202863648.0000 - mean_absolute_error: 10298.2500 - mean_absolute_percentage_error: 7.4818 - val_loss: 669332800.0000 - val_mean_absolute_error: 19246.9121 - val_mean_absolute_percentage_error: 11.1493 - learning_rate: 0.0010\n",
            "Epoch 20/100\n",
            "\u001b[1m155/158\u001b[0m \u001b[32m━━━━━━━━━━━━━━━━━━━\u001b[0m\u001b[37m━\u001b[0m \u001b[1m0s\u001b[0m 23ms/step - loss: 175455264.0000 - mean_absolute_error: 9764.5176 - mean_absolute_percentage_error: 7.1514"
          ]
        },
        {
          "output_type": "stream",
          "name": "stderr",
          "text": [
            "WARNING:absl:You are saving your model as an HDF5 file via `model.save()` or `keras.saving.save_model(model)`. This file format is considered legacy. We recommend using instead the native Keras format, e.g. `model.save('my_model.keras')` or `keras.saving.save_model(model, 'my_model.keras')`. \n"
          ]
        },
        {
          "output_type": "stream",
          "name": "stdout",
          "text": [
            "\b\b\b\b\b\b\b\b\b\b\b\b\b\b\b\b\b\b\b\b\b\b\b\b\b\b\b\b\b\b\b\b\b\b\b\b\b\b\b\b\b\b\b\b\b\b\b\b\b\b\b\b\b\b\b\b\b\b\b\b\b\b\b\b\b\b\b\b\b\b\b\b\b\b\b\b\b\b\b\b\b\b\b\b\b\b\b\b\b\b\b\b\b\b\b\b\b\b\b\b\b\b\b\b\b\b\b\b\b\b\b\b\b\b\b\b\b\b\b\b\b\b\b\b\b\b\b\b\b\b\b\b\b\b\b\b\b\b\r\u001b[1m158/158\u001b[0m \u001b[32m━━━━━━━━━━━━━━━━━━━━\u001b[0m\u001b[37m\u001b[0m \u001b[1m4s\u001b[0m 25ms/step - loss: 175344448.0000 - mean_absolute_error: 9762.2432 - mean_absolute_percentage_error: 7.1500 - val_loss: 534215232.0000 - val_mean_absolute_error: 16465.4766 - val_mean_absolute_percentage_error: 9.4707 - learning_rate: 0.0010\n",
            "Epoch 21/100\n",
            "\u001b[1m157/158\u001b[0m \u001b[32m━━━━━━━━━━━━━━━━━━━\u001b[0m\u001b[37m━\u001b[0m \u001b[1m0s\u001b[0m 20ms/step - loss: 153697152.0000 - mean_absolute_error: 9290.4775 - mean_absolute_percentage_error: 6.8660"
          ]
        },
        {
          "output_type": "stream",
          "name": "stderr",
          "text": [
            "WARNING:absl:You are saving your model as an HDF5 file via `model.save()` or `keras.saving.save_model(model)`. This file format is considered legacy. We recommend using instead the native Keras format, e.g. `model.save('my_model.keras')` or `keras.saving.save_model(model, 'my_model.keras')`. \n"
          ]
        },
        {
          "output_type": "stream",
          "name": "stdout",
          "text": [
            "\b\b\b\b\b\b\b\b\b\b\b\b\b\b\b\b\b\b\b\b\b\b\b\b\b\b\b\b\b\b\b\b\b\b\b\b\b\b\b\b\b\b\b\b\b\b\b\b\b\b\b\b\b\b\b\b\b\b\b\b\b\b\b\b\b\b\b\b\b\b\b\b\b\b\b\b\b\b\b\b\b\b\b\b\b\b\b\b\b\b\b\b\b\b\b\b\b\b\b\b\b\b\b\b\b\b\b\b\b\b\b\b\b\b\b\b\b\b\b\b\b\b\b\b\b\b\b\b\b\b\b\b\b\b\b\b\b\b\r\u001b[1m158/158\u001b[0m \u001b[32m━━━━━━━━━━━━━━━━━━━━\u001b[0m\u001b[37m\u001b[0m \u001b[1m4s\u001b[0m 23ms/step - loss: 153656064.0000 - mean_absolute_error: 9289.8457 - mean_absolute_percentage_error: 6.8657 - val_loss: 428129568.0000 - val_mean_absolute_error: 13702.8906 - val_mean_absolute_percentage_error: 7.7680 - learning_rate: 0.0010\n",
            "Epoch 22/100\n",
            "\u001b[1m157/158\u001b[0m \u001b[32m━━━━━━━━━━━━━━━━━━━\u001b[0m\u001b[37m━\u001b[0m \u001b[1m0s\u001b[0m 20ms/step - loss: 134680112.0000 - mean_absolute_error: 8838.0518 - mean_absolute_percentage_error: 6.5915"
          ]
        },
        {
          "output_type": "stream",
          "name": "stderr",
          "text": [
            "WARNING:absl:You are saving your model as an HDF5 file via `model.save()` or `keras.saving.save_model(model)`. This file format is considered legacy. We recommend using instead the native Keras format, e.g. `model.save('my_model.keras')` or `keras.saving.save_model(model, 'my_model.keras')`. \n"
          ]
        },
        {
          "output_type": "stream",
          "name": "stdout",
          "text": [
            "\b\b\b\b\b\b\b\b\b\b\b\b\b\b\b\b\b\b\b\b\b\b\b\b\b\b\b\b\b\b\b\b\b\b\b\b\b\b\b\b\b\b\b\b\b\b\b\b\b\b\b\b\b\b\b\b\b\b\b\b\b\b\b\b\b\b\b\b\b\b\b\b\b\b\b\b\b\b\b\b\b\b\b\b\b\b\b\b\b\b\b\b\b\b\b\b\b\b\b\b\b\b\b\b\b\b\b\b\b\b\b\b\b\b\b\b\b\b\b\b\b\b\b\b\b\b\b\b\b\b\b\b\b\b\b\b\b\b\r\u001b[1m158/158\u001b[0m \u001b[32m━━━━━━━━━━━━━━━━━━━━\u001b[0m\u001b[37m\u001b[0m \u001b[1m4s\u001b[0m 23ms/step - loss: 134661616.0000 - mean_absolute_error: 8837.7402 - mean_absolute_percentage_error: 6.5914 - val_loss: 348846816.0000 - val_mean_absolute_error: 11795.4336 - val_mean_absolute_percentage_error: 6.6266 - learning_rate: 0.0010\n",
            "Epoch 23/100\n",
            "\u001b[1m157/158\u001b[0m \u001b[32m━━━━━━━━━━━━━━━━━━━\u001b[0m\u001b[37m━\u001b[0m \u001b[1m0s\u001b[0m 21ms/step - loss: 125873952.0000 - mean_absolute_error: 8641.4893 - mean_absolute_percentage_error: 6.4901"
          ]
        },
        {
          "output_type": "stream",
          "name": "stderr",
          "text": [
            "WARNING:absl:You are saving your model as an HDF5 file via `model.save()` or `keras.saving.save_model(model)`. This file format is considered legacy. We recommend using instead the native Keras format, e.g. `model.save('my_model.keras')` or `keras.saving.save_model(model, 'my_model.keras')`. \n"
          ]
        },
        {
          "output_type": "stream",
          "name": "stdout",
          "text": [
            "\b\b\b\b\b\b\b\b\b\b\b\b\b\b\b\b\b\b\b\b\b\b\b\b\b\b\b\b\b\b\b\b\b\b\b\b\b\b\b\b\b\b\b\b\b\b\b\b\b\b\b\b\b\b\b\b\b\b\b\b\b\b\b\b\b\b\b\b\b\b\b\b\b\b\b\b\b\b\b\b\b\b\b\b\b\b\b\b\b\b\b\b\b\b\b\b\b\b\b\b\b\b\b\b\b\b\b\b\b\b\b\b\b\b\b\b\b\b\b\b\b\b\b\b\b\b\b\b\b\b\b\b\b\b\b\b\b\b\r\u001b[1m158/158\u001b[0m \u001b[32m━━━━━━━━━━━━━━━━━━━━\u001b[0m\u001b[37m\u001b[0m \u001b[1m4s\u001b[0m 23ms/step - loss: 125853416.0000 - mean_absolute_error: 8640.9424 - mean_absolute_percentage_error: 6.4898 - val_loss: 292069504.0000 - val_mean_absolute_error: 10993.7275 - val_mean_absolute_percentage_error: 6.2311 - learning_rate: 0.0010\n",
            "Epoch 24/100\n",
            "\u001b[1m157/158\u001b[0m \u001b[32m━━━━━━━━━━━━━━━━━━━\u001b[0m\u001b[37m━\u001b[0m \u001b[1m0s\u001b[0m 20ms/step - loss: 116662720.0000 - mean_absolute_error: 8398.9873 - mean_absolute_percentage_error: 6.3442"
          ]
        },
        {
          "output_type": "stream",
          "name": "stderr",
          "text": [
            "WARNING:absl:You are saving your model as an HDF5 file via `model.save()` or `keras.saving.save_model(model)`. This file format is considered legacy. We recommend using instead the native Keras format, e.g. `model.save('my_model.keras')` or `keras.saving.save_model(model, 'my_model.keras')`. \n"
          ]
        },
        {
          "output_type": "stream",
          "name": "stdout",
          "text": [
            "\b\b\b\b\b\b\b\b\b\b\b\b\b\b\b\b\b\b\b\b\b\b\b\b\b\b\b\b\b\b\b\b\b\b\b\b\b\b\b\b\b\b\b\b\b\b\b\b\b\b\b\b\b\b\b\b\b\b\b\b\b\b\b\b\b\b\b\b\b\b\b\b\b\b\b\b\b\b\b\b\b\b\b\b\b\b\b\b\b\b\b\b\b\b\b\b\b\b\b\b\b\b\b\b\b\b\b\b\b\b\b\b\b\b\b\b\b\b\b\b\b\b\b\b\b\b\b\b\b\b\b\b\b\b\b\b\b\b\r\u001b[1m158/158\u001b[0m \u001b[32m━━━━━━━━━━━━━━━━━━━━\u001b[0m\u001b[37m\u001b[0m \u001b[1m4s\u001b[0m 23ms/step - loss: 116646184.0000 - mean_absolute_error: 8398.3516 - mean_absolute_percentage_error: 6.3438 - val_loss: 250937632.0000 - val_mean_absolute_error: 10205.2568 - val_mean_absolute_percentage_error: 5.8006 - learning_rate: 0.0010\n",
            "Epoch 25/100\n",
            "\u001b[1m157/158\u001b[0m \u001b[32m━━━━━━━━━━━━━━━━━━━\u001b[0m\u001b[37m━\u001b[0m \u001b[1m0s\u001b[0m 20ms/step - loss: 111464464.0000 - mean_absolute_error: 8242.2510 - mean_absolute_percentage_error: 6.2516"
          ]
        },
        {
          "output_type": "stream",
          "name": "stderr",
          "text": [
            "WARNING:absl:You are saving your model as an HDF5 file via `model.save()` or `keras.saving.save_model(model)`. This file format is considered legacy. We recommend using instead the native Keras format, e.g. `model.save('my_model.keras')` or `keras.saving.save_model(model, 'my_model.keras')`. \n"
          ]
        },
        {
          "output_type": "stream",
          "name": "stdout",
          "text": [
            "\b\b\b\b\b\b\b\b\b\b\b\b\b\b\b\b\b\b\b\b\b\b\b\b\b\b\b\b\b\b\b\b\b\b\b\b\b\b\b\b\b\b\b\b\b\b\b\b\b\b\b\b\b\b\b\b\b\b\b\b\b\b\b\b\b\b\b\b\b\b\b\b\b\b\b\b\b\b\b\b\b\b\b\b\b\b\b\b\b\b\b\b\b\b\b\b\b\b\b\b\b\b\b\b\b\b\b\b\b\b\b\b\b\b\b\b\b\b\b\b\b\b\b\b\b\b\b\b\b\b\b\b\b\b\b\b\b\b\r\u001b[1m158/158\u001b[0m \u001b[32m━━━━━━━━━━━━━━━━━━━━\u001b[0m\u001b[37m\u001b[0m \u001b[1m4s\u001b[0m 23ms/step - loss: 111459984.0000 - mean_absolute_error: 8242.3594 - mean_absolute_percentage_error: 6.2517 - val_loss: 220814288.0000 - val_mean_absolute_error: 9732.1768 - val_mean_absolute_percentage_error: 5.5642 - learning_rate: 0.0010\n",
            "Epoch 26/100\n",
            "\u001b[1m156/158\u001b[0m \u001b[32m━━━━━━━━━━━━━━━━━━━\u001b[0m\u001b[37m━\u001b[0m \u001b[1m0s\u001b[0m 21ms/step - loss: 107817920.0000 - mean_absolute_error: 8137.0391 - mean_absolute_percentage_error: 6.1876"
          ]
        },
        {
          "output_type": "stream",
          "name": "stderr",
          "text": [
            "WARNING:absl:You are saving your model as an HDF5 file via `model.save()` or `keras.saving.save_model(model)`. This file format is considered legacy. We recommend using instead the native Keras format, e.g. `model.save('my_model.keras')` or `keras.saving.save_model(model, 'my_model.keras')`. \n"
          ]
        },
        {
          "output_type": "stream",
          "name": "stdout",
          "text": [
            "\b\b\b\b\b\b\b\b\b\b\b\b\b\b\b\b\b\b\b\b\b\b\b\b\b\b\b\b\b\b\b\b\b\b\b\b\b\b\b\b\b\b\b\b\b\b\b\b\b\b\b\b\b\b\b\b\b\b\b\b\b\b\b\b\b\b\b\b\b\b\b\b\b\b\b\b\b\b\b\b\b\b\b\b\b\b\b\b\b\b\b\b\b\b\b\b\b\b\b\b\b\b\b\b\b\b\b\b\b\b\b\b\b\b\b\b\b\b\b\b\b\b\b\b\b\b\b\b\b\b\b\b\b\b\b\b\b\b\r\u001b[1m158/158\u001b[0m \u001b[32m━━━━━━━━━━━━━━━━━━━━\u001b[0m\u001b[37m\u001b[0m \u001b[1m4s\u001b[0m 24ms/step - loss: 107820056.0000 - mean_absolute_error: 8137.1616 - mean_absolute_percentage_error: 6.1877 - val_loss: 200283680.0000 - val_mean_absolute_error: 9529.0713 - val_mean_absolute_percentage_error: 5.4922 - learning_rate: 0.0010\n",
            "Epoch 27/100\n",
            "\u001b[1m157/158\u001b[0m \u001b[32m━━━━━━━━━━━━━━━━━━━\u001b[0m\u001b[37m━\u001b[0m \u001b[1m0s\u001b[0m 20ms/step - loss: 105244672.0000 - mean_absolute_error: 8077.4375 - mean_absolute_percentage_error: 6.1648"
          ]
        },
        {
          "output_type": "stream",
          "name": "stderr",
          "text": [
            "WARNING:absl:You are saving your model as an HDF5 file via `model.save()` or `keras.saving.save_model(model)`. This file format is considered legacy. We recommend using instead the native Keras format, e.g. `model.save('my_model.keras')` or `keras.saving.save_model(model, 'my_model.keras')`. \n"
          ]
        },
        {
          "output_type": "stream",
          "name": "stdout",
          "text": [
            "\b\b\b\b\b\b\b\b\b\b\b\b\b\b\b\b\b\b\b\b\b\b\b\b\b\b\b\b\b\b\b\b\b\b\b\b\b\b\b\b\b\b\b\b\b\b\b\b\b\b\b\b\b\b\b\b\b\b\b\b\b\b\b\b\b\b\b\b\b\b\b\b\b\b\b\b\b\b\b\b\b\b\b\b\b\b\b\b\b\b\b\b\b\b\b\b\b\b\b\b\b\b\b\b\b\b\b\b\b\b\b\b\b\b\b\b\b\b\b\b\b\b\b\b\b\b\b\b\b\b\b\b\b\b\b\b\b\b\r\u001b[1m158/158\u001b[0m \u001b[32m━━━━━━━━━━━━━━━━━━━━\u001b[0m\u001b[37m\u001b[0m \u001b[1m4s\u001b[0m 23ms/step - loss: 105246376.0000 - mean_absolute_error: 8077.5493 - mean_absolute_percentage_error: 6.1649 - val_loss: 178457952.0000 - val_mean_absolute_error: 8306.5146 - val_mean_absolute_percentage_error: 4.6959 - learning_rate: 0.0010\n",
            "Epoch 28/100\n",
            "\u001b[1m157/158\u001b[0m \u001b[32m━━━━━━━━━━━━━━━━━━━\u001b[0m\u001b[37m━\u001b[0m \u001b[1m0s\u001b[0m 20ms/step - loss: 104869288.0000 - mean_absolute_error: 8065.5908 - mean_absolute_percentage_error: 6.1575"
          ]
        },
        {
          "output_type": "stream",
          "name": "stderr",
          "text": [
            "WARNING:absl:You are saving your model as an HDF5 file via `model.save()` or `keras.saving.save_model(model)`. This file format is considered legacy. We recommend using instead the native Keras format, e.g. `model.save('my_model.keras')` or `keras.saving.save_model(model, 'my_model.keras')`. \n"
          ]
        },
        {
          "output_type": "stream",
          "name": "stdout",
          "text": [
            "\b\b\b\b\b\b\b\b\b\b\b\b\b\b\b\b\b\b\b\b\b\b\b\b\b\b\b\b\b\b\b\b\b\b\b\b\b\b\b\b\b\b\b\b\b\b\b\b\b\b\b\b\b\b\b\b\b\b\b\b\b\b\b\b\b\b\b\b\b\b\b\b\b\b\b\b\b\b\b\b\b\b\b\b\b\b\b\b\b\b\b\b\b\b\b\b\b\b\b\b\b\b\b\b\b\b\b\b\b\b\b\b\b\b\b\b\b\b\b\b\b\b\b\b\b\b\b\b\b\b\b\b\b\b\b\b\b\b\r\u001b[1m158/158\u001b[0m \u001b[32m━━━━━━━━━━━━━━━━━━━━\u001b[0m\u001b[37m\u001b[0m \u001b[1m4s\u001b[0m 23ms/step - loss: 104875840.0000 - mean_absolute_error: 8065.8970 - mean_absolute_percentage_error: 6.1578 - val_loss: 160082960.0000 - val_mean_absolute_error: 7428.4600 - val_mean_absolute_percentage_error: 4.1516 - learning_rate: 0.0010\n",
            "Epoch 29/100\n",
            "\u001b[1m158/158\u001b[0m \u001b[32m━━━━━━━━━━━━━━━━━━━━\u001b[0m\u001b[37m\u001b[0m \u001b[1m0s\u001b[0m 21ms/step - loss: 102552448.0000 - mean_absolute_error: 8014.4043 - mean_absolute_percentage_error: 6.1236"
          ]
        },
        {
          "output_type": "stream",
          "name": "stderr",
          "text": [
            "WARNING:absl:You are saving your model as an HDF5 file via `model.save()` or `keras.saving.save_model(model)`. This file format is considered legacy. We recommend using instead the native Keras format, e.g. `model.save('my_model.keras')` or `keras.saving.save_model(model, 'my_model.keras')`. \n"
          ]
        },
        {
          "output_type": "stream",
          "name": "stdout",
          "text": [
            "\b\b\b\b\b\b\b\b\b\b\b\b\b\b\b\b\b\b\b\b\b\b\b\b\b\b\b\b\b\b\b\b\b\b\b\b\b\b\b\b\b\b\b\b\b\b\b\b\b\b\b\b\b\b\b\b\b\b\b\b\b\b\b\b\b\b\b\b\b\b\b\b\b\b\b\b\b\b\b\b\b\b\b\b\b\b\b\b\b\b\b\b\b\b\b\b\b\b\b\b\b\b\b\b\b\b\b\b\b\b\b\b\b\b\b\b\b\b\b\b\b\b\b\b\b\b\b\b\b\b\b\b\b\b\b\b\b\b\r\u001b[1m158/158\u001b[0m \u001b[32m━━━━━━━━━━━━━━━━━━━━\u001b[0m\u001b[37m\u001b[0m \u001b[1m4s\u001b[0m 24ms/step - loss: 102556776.0000 - mean_absolute_error: 8014.5718 - mean_absolute_percentage_error: 6.1237 - val_loss: 144172240.0000 - val_mean_absolute_error: 6934.9531 - val_mean_absolute_percentage_error: 3.8673 - learning_rate: 0.0010\n",
            "Epoch 30/100\n",
            "\u001b[1m157/158\u001b[0m \u001b[32m━━━━━━━━━━━━━━━━━━━\u001b[0m\u001b[37m━\u001b[0m \u001b[1m0s\u001b[0m 20ms/step - loss: 102667088.0000 - mean_absolute_error: 8019.7397 - mean_absolute_percentage_error: 6.1331"
          ]
        },
        {
          "output_type": "stream",
          "name": "stderr",
          "text": [
            "WARNING:absl:You are saving your model as an HDF5 file via `model.save()` or `keras.saving.save_model(model)`. This file format is considered legacy. We recommend using instead the native Keras format, e.g. `model.save('my_model.keras')` or `keras.saving.save_model(model, 'my_model.keras')`. \n"
          ]
        },
        {
          "output_type": "stream",
          "name": "stdout",
          "text": [
            "\b\b\b\b\b\b\b\b\b\b\b\b\b\b\b\b\b\b\b\b\b\b\b\b\b\b\b\b\b\b\b\b\b\b\b\b\b\b\b\b\b\b\b\b\b\b\b\b\b\b\b\b\b\b\b\b\b\b\b\b\b\b\b\b\b\b\b\b\b\b\b\b\b\b\b\b\b\b\b\b\b\b\b\b\b\b\b\b\b\b\b\b\b\b\b\b\b\b\b\b\b\b\b\b\b\b\b\b\b\b\b\b\b\b\b\b\b\b\b\b\b\b\b\b\b\b\b\b\b\b\b\b\b\b\b\b\b\b\r\u001b[1m158/158\u001b[0m \u001b[32m━━━━━━━━━━━━━━━━━━━━\u001b[0m\u001b[37m\u001b[0m \u001b[1m4s\u001b[0m 23ms/step - loss: 102679312.0000 - mean_absolute_error: 8020.2041 - mean_absolute_percentage_error: 6.1335 - val_loss: 139376080.0000 - val_mean_absolute_error: 7146.4072 - val_mean_absolute_percentage_error: 4.0446 - learning_rate: 0.0010\n",
            "Epoch 31/100\n",
            "\u001b[1m157/158\u001b[0m \u001b[32m━━━━━━━━━━━━━━━━━━━\u001b[0m\u001b[37m━\u001b[0m \u001b[1m0s\u001b[0m 20ms/step - loss: 102504320.0000 - mean_absolute_error: 8036.0488 - mean_absolute_percentage_error: 6.1513"
          ]
        },
        {
          "output_type": "stream",
          "name": "stderr",
          "text": [
            "WARNING:absl:You are saving your model as an HDF5 file via `model.save()` or `keras.saving.save_model(model)`. This file format is considered legacy. We recommend using instead the native Keras format, e.g. `model.save('my_model.keras')` or `keras.saving.save_model(model, 'my_model.keras')`. \n"
          ]
        },
        {
          "output_type": "stream",
          "name": "stdout",
          "text": [
            "\b\b\b\b\b\b\b\b\b\b\b\b\b\b\b\b\b\b\b\b\b\b\b\b\b\b\b\b\b\b\b\b\b\b\b\b\b\b\b\b\b\b\b\b\b\b\b\b\b\b\b\b\b\b\b\b\b\b\b\b\b\b\b\b\b\b\b\b\b\b\b\b\b\b\b\b\b\b\b\b\b\b\b\b\b\b\b\b\b\b\b\b\b\b\b\b\b\b\b\b\b\b\b\b\b\b\b\b\b\b\b\b\b\b\b\b\b\b\b\b\b\b\b\b\b\b\b\b\b\b\b\b\b\b\b\b\b\b\r\u001b[1m158/158\u001b[0m \u001b[32m━━━━━━━━━━━━━━━━━━━━\u001b[0m\u001b[37m\u001b[0m \u001b[1m4s\u001b[0m 23ms/step - loss: 102498792.0000 - mean_absolute_error: 8035.7686 - mean_absolute_percentage_error: 6.1511 - val_loss: 130388352.0000 - val_mean_absolute_error: 6677.8091 - val_mean_absolute_percentage_error: 3.7367 - learning_rate: 0.0010\n",
            "Epoch 32/100\n",
            "\u001b[1m158/158\u001b[0m \u001b[32m━━━━━━━━━━━━━━━━━━━━\u001b[0m\u001b[37m\u001b[0m \u001b[1m4s\u001b[0m 23ms/step - loss: 102857696.0000 - mean_absolute_error: 8051.3838 - mean_absolute_percentage_error: 6.1674 - val_loss: 134189544.0000 - val_mean_absolute_error: 7165.0840 - val_mean_absolute_percentage_error: 4.0565 - learning_rate: 0.0010\n",
            "Epoch 33/100\n",
            "\u001b[1m157/158\u001b[0m \u001b[32m━━━━━━━━━━━━━━━━━━━\u001b[0m\u001b[37m━\u001b[0m \u001b[1m0s\u001b[0m 21ms/step - loss: 101116208.0000 - mean_absolute_error: 7979.3481 - mean_absolute_percentage_error: 6.1058"
          ]
        },
        {
          "output_type": "stream",
          "name": "stderr",
          "text": [
            "WARNING:absl:You are saving your model as an HDF5 file via `model.save()` or `keras.saving.save_model(model)`. This file format is considered legacy. We recommend using instead the native Keras format, e.g. `model.save('my_model.keras')` or `keras.saving.save_model(model, 'my_model.keras')`. \n"
          ]
        },
        {
          "output_type": "stream",
          "name": "stdout",
          "text": [
            "\b\b\b\b\b\b\b\b\b\b\b\b\b\b\b\b\b\b\b\b\b\b\b\b\b\b\b\b\b\b\b\b\b\b\b\b\b\b\b\b\b\b\b\b\b\b\b\b\b\b\b\b\b\b\b\b\b\b\b\b\b\b\b\b\b\b\b\b\b\b\b\b\b\b\b\b\b\b\b\b\b\b\b\b\b\b\b\b\b\b\b\b\b\b\b\b\b\b\b\b\b\b\b\b\b\b\b\b\b\b\b\b\b\b\b\b\b\b\b\b\b\b\b\b\b\b\b\b\b\b\b\b\b\b\b\b\b\b\r\u001b[1m158/158\u001b[0m \u001b[32m━━━━━━━━━━━━━━━━━━━━\u001b[0m\u001b[37m\u001b[0m \u001b[1m4s\u001b[0m 23ms/step - loss: 101115672.0000 - mean_absolute_error: 7979.1328 - mean_absolute_percentage_error: 6.1057 - val_loss: 117763288.0000 - val_mean_absolute_error: 6174.6807 - val_mean_absolute_percentage_error: 3.4448 - learning_rate: 0.0010\n",
            "Epoch 34/100\n",
            "\u001b[1m157/158\u001b[0m \u001b[32m━━━━━━━━━━━━━━━━━━━\u001b[0m\u001b[37m━\u001b[0m \u001b[1m0s\u001b[0m 20ms/step - loss: 102806360.0000 - mean_absolute_error: 8028.0767 - mean_absolute_percentage_error: 6.1421"
          ]
        },
        {
          "output_type": "stream",
          "name": "stderr",
          "text": [
            "WARNING:absl:You are saving your model as an HDF5 file via `model.save()` or `keras.saving.save_model(model)`. This file format is considered legacy. We recommend using instead the native Keras format, e.g. `model.save('my_model.keras')` or `keras.saving.save_model(model, 'my_model.keras')`. \n"
          ]
        },
        {
          "output_type": "stream",
          "name": "stdout",
          "text": [
            "\b\b\b\b\b\b\b\b\b\b\b\b\b\b\b\b\b\b\b\b\b\b\b\b\b\b\b\b\b\b\b\b\b\b\b\b\b\b\b\b\b\b\b\b\b\b\b\b\b\b\b\b\b\b\b\b\b\b\b\b\b\b\b\b\b\b\b\b\b\b\b\b\b\b\b\b\b\b\b\b\b\b\b\b\b\b\b\b\b\b\b\b\b\b\b\b\b\b\b\b\b\b\b\b\b\b\b\b\b\b\b\b\b\b\b\b\b\b\b\b\b\b\b\b\b\b\b\b\b\b\b\b\b\b\b\b\b\b\r\u001b[1m158/158\u001b[0m \u001b[32m━━━━━━━━━━━━━━━━━━━━\u001b[0m\u001b[37m\u001b[0m \u001b[1m4s\u001b[0m 23ms/step - loss: 102792256.0000 - mean_absolute_error: 8027.5654 - mean_absolute_percentage_error: 6.1417 - val_loss: 112303400.0000 - val_mean_absolute_error: 6078.8354 - val_mean_absolute_percentage_error: 3.4184 - learning_rate: 0.0010\n",
            "Epoch 35/100\n",
            "\u001b[1m157/158\u001b[0m \u001b[32m━━━━━━━━━━━━━━━━━━━\u001b[0m\u001b[37m━\u001b[0m \u001b[1m0s\u001b[0m 20ms/step - loss: 99828728.0000 - mean_absolute_error: 7958.2002 - mean_absolute_percentage_error: 6.0969"
          ]
        },
        {
          "output_type": "stream",
          "name": "stderr",
          "text": [
            "WARNING:absl:You are saving your model as an HDF5 file via `model.save()` or `keras.saving.save_model(model)`. This file format is considered legacy. We recommend using instead the native Keras format, e.g. `model.save('my_model.keras')` or `keras.saving.save_model(model, 'my_model.keras')`. \n"
          ]
        },
        {
          "output_type": "stream",
          "name": "stdout",
          "text": [
            "\b\b\b\b\b\b\b\b\b\b\b\b\b\b\b\b\b\b\b\b\b\b\b\b\b\b\b\b\b\b\b\b\b\b\b\b\b\b\b\b\b\b\b\b\b\b\b\b\b\b\b\b\b\b\b\b\b\b\b\b\b\b\b\b\b\b\b\b\b\b\b\b\b\b\b\b\b\b\b\b\b\b\b\b\b\b\b\b\b\b\b\b\b\b\b\b\b\b\b\b\b\b\b\b\b\b\b\b\b\b\b\b\b\b\b\b\b\b\b\b\b\b\b\b\b\b\b\b\b\b\b\b\b\b\b\b\b\r\u001b[1m158/158\u001b[0m \u001b[32m━━━━━━━━━━━━━━━━━━━━\u001b[0m\u001b[37m\u001b[0m \u001b[1m4s\u001b[0m 23ms/step - loss: 99835416.0000 - mean_absolute_error: 7958.1963 - mean_absolute_percentage_error: 6.0968 - val_loss: 106324008.0000 - val_mean_absolute_error: 5652.4873 - val_mean_absolute_percentage_error: 3.1347 - learning_rate: 0.0010\n",
            "Epoch 36/100\n",
            "\u001b[1m157/158\u001b[0m \u001b[32m━━━━━━━━━━━━━━━━━━━\u001b[0m\u001b[37m━\u001b[0m \u001b[1m0s\u001b[0m 21ms/step - loss: 99719208.0000 - mean_absolute_error: 7905.2671 - mean_absolute_percentage_error: 6.0546"
          ]
        },
        {
          "output_type": "stream",
          "name": "stderr",
          "text": [
            "WARNING:absl:You are saving your model as an HDF5 file via `model.save()` or `keras.saving.save_model(model)`. This file format is considered legacy. We recommend using instead the native Keras format, e.g. `model.save('my_model.keras')` or `keras.saving.save_model(model, 'my_model.keras')`. \n"
          ]
        },
        {
          "output_type": "stream",
          "name": "stdout",
          "text": [
            "\b\b\b\b\b\b\b\b\b\b\b\b\b\b\b\b\b\b\b\b\b\b\b\b\b\b\b\b\b\b\b\b\b\b\b\b\b\b\b\b\b\b\b\b\b\b\b\b\b\b\b\b\b\b\b\b\b\b\b\b\b\b\b\b\b\b\b\b\b\b\b\b\b\b\b\b\b\b\b\b\b\b\b\b\b\b\b\b\b\b\b\b\b\b\b\b\b\b\b\b\b\b\b\b\b\b\b\b\b\b\b\b\b\b\b\b\b\b\b\b\b\b\b\b\b\b\b\b\b\b\b\b\b\b\b\b\b\r\u001b[1m158/158\u001b[0m \u001b[32m━━━━━━━━━━━━━━━━━━━━\u001b[0m\u001b[37m\u001b[0m \u001b[1m4s\u001b[0m 23ms/step - loss: 99733096.0000 - mean_absolute_error: 7905.9922 - mean_absolute_percentage_error: 6.0551 - val_loss: 102475240.0000 - val_mean_absolute_error: 5489.9321 - val_mean_absolute_percentage_error: 3.0380 - learning_rate: 0.0010\n",
            "Epoch 37/100\n",
            "\u001b[1m157/158\u001b[0m \u001b[32m━━━━━━━━━━━━━━━━━━━\u001b[0m\u001b[37m━\u001b[0m \u001b[1m0s\u001b[0m 20ms/step - loss: 101532440.0000 - mean_absolute_error: 7988.7695 - mean_absolute_percentage_error: 6.1244"
          ]
        },
        {
          "output_type": "stream",
          "name": "stderr",
          "text": [
            "WARNING:absl:You are saving your model as an HDF5 file via `model.save()` or `keras.saving.save_model(model)`. This file format is considered legacy. We recommend using instead the native Keras format, e.g. `model.save('my_model.keras')` or `keras.saving.save_model(model, 'my_model.keras')`. \n"
          ]
        },
        {
          "output_type": "stream",
          "name": "stdout",
          "text": [
            "\b\b\b\b\b\b\b\b\b\b\b\b\b\b\b\b\b\b\b\b\b\b\b\b\b\b\b\b\b\b\b\b\b\b\b\b\b\b\b\b\b\b\b\b\b\b\b\b\b\b\b\b\b\b\b\b\b\b\b\b\b\b\b\b\b\b\b\b\b\b\b\b\b\b\b\b\b\b\b\b\b\b\b\b\b\b\b\b\b\b\b\b\b\b\b\b\b\b\b\b\b\b\b\b\b\b\b\b\b\b\b\b\b\b\b\b\b\b\b\b\b\b\b\b\b\b\b\b\b\b\b\b\b\b\b\b\b\b\r\u001b[1m158/158\u001b[0m \u001b[32m━━━━━━━━━━━━━━━━━━━━\u001b[0m\u001b[37m\u001b[0m \u001b[1m4s\u001b[0m 24ms/step - loss: 101517752.0000 - mean_absolute_error: 7988.3081 - mean_absolute_percentage_error: 6.1241 - val_loss: 96724624.0000 - val_mean_absolute_error: 5309.5166 - val_mean_absolute_percentage_error: 2.9487 - learning_rate: 0.0010\n",
            "Epoch 38/100\n",
            "\u001b[1m157/158\u001b[0m \u001b[32m━━━━━━━━━━━━━━━━━━━\u001b[0m\u001b[37m━\u001b[0m \u001b[1m0s\u001b[0m 21ms/step - loss: 100146808.0000 - mean_absolute_error: 7953.7441 - mean_absolute_percentage_error: 6.1008"
          ]
        },
        {
          "output_type": "stream",
          "name": "stderr",
          "text": [
            "WARNING:absl:You are saving your model as an HDF5 file via `model.save()` or `keras.saving.save_model(model)`. This file format is considered legacy. We recommend using instead the native Keras format, e.g. `model.save('my_model.keras')` or `keras.saving.save_model(model, 'my_model.keras')`. \n"
          ]
        },
        {
          "output_type": "stream",
          "name": "stdout",
          "text": [
            "\b\b\b\b\b\b\b\b\b\b\b\b\b\b\b\b\b\b\b\b\b\b\b\b\b\b\b\b\b\b\b\b\b\b\b\b\b\b\b\b\b\b\b\b\b\b\b\b\b\b\b\b\b\b\b\b\b\b\b\b\b\b\b\b\b\b\b\b\b\b\b\b\b\b\b\b\b\b\b\b\b\b\b\b\b\b\b\b\b\b\b\b\b\b\b\b\b\b\b\b\b\b\b\b\b\b\b\b\b\b\b\b\b\b\b\b\b\b\b\b\b\b\b\b\b\b\b\b\b\b\b\b\b\b\b\b\b\b\r\u001b[1m158/158\u001b[0m \u001b[32m━━━━━━━━━━━━━━━━━━━━\u001b[0m\u001b[37m\u001b[0m \u001b[1m4s\u001b[0m 23ms/step - loss: 100142424.0000 - mean_absolute_error: 7953.3945 - mean_absolute_percentage_error: 6.1005 - val_loss: 96283144.0000 - val_mean_absolute_error: 5432.3110 - val_mean_absolute_percentage_error: 3.0283 - learning_rate: 0.0010\n",
            "Epoch 39/100\n",
            "\u001b[1m157/158\u001b[0m \u001b[32m━━━━━━━━━━━━━━━━━━━\u001b[0m\u001b[37m━\u001b[0m \u001b[1m0s\u001b[0m 21ms/step - loss: 97993608.0000 - mean_absolute_error: 7840.3877 - mean_absolute_percentage_error: 6.0150"
          ]
        },
        {
          "output_type": "stream",
          "name": "stderr",
          "text": [
            "WARNING:absl:You are saving your model as an HDF5 file via `model.save()` or `keras.saving.save_model(model)`. This file format is considered legacy. We recommend using instead the native Keras format, e.g. `model.save('my_model.keras')` or `keras.saving.save_model(model, 'my_model.keras')`. \n"
          ]
        },
        {
          "output_type": "stream",
          "name": "stdout",
          "text": [
            "\b\b\b\b\b\b\b\b\b\b\b\b\b\b\b\b\b\b\b\b\b\b\b\b\b\b\b\b\b\b\b\b\b\b\b\b\b\b\b\b\b\b\b\b\b\b\b\b\b\b\b\b\b\b\b\b\b\b\b\b\b\b\b\b\b\b\b\b\b\b\b\b\b\b\b\b\b\b\b\b\b\b\b\b\b\b\b\b\b\b\b\b\b\b\b\b\b\b\b\b\b\b\b\b\b\b\b\b\b\b\b\b\b\b\b\b\b\b\b\b\b\b\b\b\b\b\b\b\b\b\b\b\b\b\b\b\b\r\u001b[1m158/158\u001b[0m \u001b[32m━━━━━━━━━━━━━━━━━━━━\u001b[0m\u001b[37m\u001b[0m \u001b[1m4s\u001b[0m 24ms/step - loss: 97990392.0000 - mean_absolute_error: 7840.2871 - mean_absolute_percentage_error: 6.0149 - val_loss: 93703168.0000 - val_mean_absolute_error: 5168.1792 - val_mean_absolute_percentage_error: 2.8776 - learning_rate: 0.0010\n",
            "Epoch 40/100\n",
            "\u001b[1m157/158\u001b[0m \u001b[32m━━━━━━━━━━━━━━━━━━━\u001b[0m\u001b[37m━\u001b[0m \u001b[1m0s\u001b[0m 20ms/step - loss: 98571448.0000 - mean_absolute_error: 7869.8130 - mean_absolute_percentage_error: 6.0334"
          ]
        },
        {
          "output_type": "stream",
          "name": "stderr",
          "text": [
            "WARNING:absl:You are saving your model as an HDF5 file via `model.save()` or `keras.saving.save_model(model)`. This file format is considered legacy. We recommend using instead the native Keras format, e.g. `model.save('my_model.keras')` or `keras.saving.save_model(model, 'my_model.keras')`. \n"
          ]
        },
        {
          "output_type": "stream",
          "name": "stdout",
          "text": [
            "\b\b\b\b\b\b\b\b\b\b\b\b\b\b\b\b\b\b\b\b\b\b\b\b\b\b\b\b\b\b\b\b\b\b\b\b\b\b\b\b\b\b\b\b\b\b\b\b\b\b\b\b\b\b\b\b\b\b\b\b\b\b\b\b\b\b\b\b\b\b\b\b\b\b\b\b\b\b\b\b\b\b\b\b\b\b\b\b\b\b\b\b\b\b\b\b\b\b\b\b\b\b\b\b\b\b\b\b\b\b\b\b\b\b\b\b\b\b\b\b\b\b\b\b\b\b\b\b\b\b\b\b\b\b\b\b\b\r\u001b[1m158/158\u001b[0m \u001b[32m━━━━━━━━━━━━━━━━━━━━\u001b[0m\u001b[37m\u001b[0m \u001b[1m4s\u001b[0m 23ms/step - loss: 98580512.0000 - mean_absolute_error: 7870.1411 - mean_absolute_percentage_error: 6.0337 - val_loss: 89523920.0000 - val_mean_absolute_error: 5036.4722 - val_mean_absolute_percentage_error: 2.8098 - learning_rate: 0.0010\n",
            "Epoch 41/100\n",
            "\u001b[1m157/158\u001b[0m \u001b[32m━━━━━━━━━━━━━━━━━━━\u001b[0m\u001b[37m━\u001b[0m \u001b[1m0s\u001b[0m 20ms/step - loss: 98080024.0000 - mean_absolute_error: 7864.4478 - mean_absolute_percentage_error: 6.0197"
          ]
        },
        {
          "output_type": "stream",
          "name": "stderr",
          "text": [
            "WARNING:absl:You are saving your model as an HDF5 file via `model.save()` or `keras.saving.save_model(model)`. This file format is considered legacy. We recommend using instead the native Keras format, e.g. `model.save('my_model.keras')` or `keras.saving.save_model(model, 'my_model.keras')`. \n"
          ]
        },
        {
          "output_type": "stream",
          "name": "stdout",
          "text": [
            "\b\b\b\b\b\b\b\b\b\b\b\b\b\b\b\b\b\b\b\b\b\b\b\b\b\b\b\b\b\b\b\b\b\b\b\b\b\b\b\b\b\b\b\b\b\b\b\b\b\b\b\b\b\b\b\b\b\b\b\b\b\b\b\b\b\b\b\b\b\b\b\b\b\b\b\b\b\b\b\b\b\b\b\b\b\b\b\b\b\b\b\b\b\b\b\b\b\b\b\b\b\b\b\b\b\b\b\b\b\b\b\b\b\b\b\b\b\b\b\b\b\b\b\b\b\b\b\b\b\b\b\b\b\b\b\b\b\r\u001b[1m158/158\u001b[0m \u001b[32m━━━━━━━━━━━━━━━━━━━━\u001b[0m\u001b[37m\u001b[0m \u001b[1m4s\u001b[0m 23ms/step - loss: 98075872.0000 - mean_absolute_error: 7863.9937 - mean_absolute_percentage_error: 6.0194 - val_loss: 87332240.0000 - val_mean_absolute_error: 4918.9297 - val_mean_absolute_percentage_error: 2.7303 - learning_rate: 0.0010\n",
            "Epoch 42/100\n",
            "\u001b[1m158/158\u001b[0m \u001b[32m━━━━━━━━━━━━━━━━━━━━\u001b[0m\u001b[37m\u001b[0m \u001b[1m0s\u001b[0m 21ms/step - loss: 95987648.0000 - mean_absolute_error: 7781.3306 - mean_absolute_percentage_error: 5.9660"
          ]
        },
        {
          "output_type": "stream",
          "name": "stderr",
          "text": [
            "WARNING:absl:You are saving your model as an HDF5 file via `model.save()` or `keras.saving.save_model(model)`. This file format is considered legacy. We recommend using instead the native Keras format, e.g. `model.save('my_model.keras')` or `keras.saving.save_model(model, 'my_model.keras')`. \n"
          ]
        },
        {
          "output_type": "stream",
          "name": "stdout",
          "text": [
            "\b\b\b\b\b\b\b\b\b\b\b\b\b\b\b\b\b\b\b\b\b\b\b\b\b\b\b\b\b\b\b\b\b\b\b\b\b\b\b\b\b\b\b\b\b\b\b\b\b\b\b\b\b\b\b\b\b\b\b\b\b\b\b\b\b\b\b\b\b\b\b\b\b\b\b\b\b\b\b\b\b\b\b\b\b\b\b\b\b\b\b\b\b\b\b\b\b\b\b\b\b\b\b\b\b\b\b\b\b\b\b\b\b\b\b\b\b\b\b\b\b\b\b\b\b\b\b\b\b\b\b\b\b\b\b\b\b\r\u001b[1m158/158\u001b[0m \u001b[32m━━━━━━━━━━━━━━━━━━━━\u001b[0m\u001b[37m\u001b[0m \u001b[1m4s\u001b[0m 24ms/step - loss: 95988664.0000 - mean_absolute_error: 7781.3940 - mean_absolute_percentage_error: 5.9661 - val_loss: 83155616.0000 - val_mean_absolute_error: 4313.1997 - val_mean_absolute_percentage_error: 2.3383 - learning_rate: 0.0010\n",
            "Epoch 43/100\n",
            "\u001b[1m158/158\u001b[0m \u001b[32m━━━━━━━━━━━━━━━━━━━━\u001b[0m\u001b[37m\u001b[0m \u001b[1m3s\u001b[0m 22ms/step - loss: 96113112.0000 - mean_absolute_error: 7777.9824 - mean_absolute_percentage_error: 5.9608 - val_loss: 85409544.0000 - val_mean_absolute_error: 5338.5576 - val_mean_absolute_percentage_error: 3.0369 - learning_rate: 0.0010\n",
            "Epoch 44/100\n",
            "\u001b[1m157/158\u001b[0m \u001b[32m━━━━━━━━━━━━━━━━━━━\u001b[0m\u001b[37m━\u001b[0m \u001b[1m0s\u001b[0m 20ms/step - loss: 95806896.0000 - mean_absolute_error: 7756.7681 - mean_absolute_percentage_error: 5.9446"
          ]
        },
        {
          "output_type": "stream",
          "name": "stderr",
          "text": [
            "WARNING:absl:You are saving your model as an HDF5 file via `model.save()` or `keras.saving.save_model(model)`. This file format is considered legacy. We recommend using instead the native Keras format, e.g. `model.save('my_model.keras')` or `keras.saving.save_model(model, 'my_model.keras')`. \n"
          ]
        },
        {
          "output_type": "stream",
          "name": "stdout",
          "text": [
            "\b\b\b\b\b\b\b\b\b\b\b\b\b\b\b\b\b\b\b\b\b\b\b\b\b\b\b\b\b\b\b\b\b\b\b\b\b\b\b\b\b\b\b\b\b\b\b\b\b\b\b\b\b\b\b\b\b\b\b\b\b\b\b\b\b\b\b\b\b\b\b\b\b\b\b\b\b\b\b\b\b\b\b\b\b\b\b\b\b\b\b\b\b\b\b\b\b\b\b\b\b\b\b\b\b\b\b\b\b\b\b\b\b\b\b\b\b\b\b\b\b\b\b\b\b\b\b\b\b\b\b\b\b\b\b\b\b\r\u001b[1m158/158\u001b[0m \u001b[32m━━━━━━━━━━━━━━━━━━━━\u001b[0m\u001b[37m\u001b[0m \u001b[1m4s\u001b[0m 23ms/step - loss: 95811776.0000 - mean_absolute_error: 7756.8926 - mean_absolute_percentage_error: 5.9446 - val_loss: 82700440.0000 - val_mean_absolute_error: 4684.0781 - val_mean_absolute_percentage_error: 2.5671 - learning_rate: 0.0010\n",
            "Epoch 45/100\n",
            "\u001b[1m157/158\u001b[0m \u001b[32m━━━━━━━━━━━━━━━━━━━\u001b[0m\u001b[37m━\u001b[0m \u001b[1m0s\u001b[0m 22ms/step - loss: 96244184.0000 - mean_absolute_error: 7783.6699 - mean_absolute_percentage_error: 5.9679"
          ]
        },
        {
          "output_type": "stream",
          "name": "stderr",
          "text": [
            "WARNING:absl:You are saving your model as an HDF5 file via `model.save()` or `keras.saving.save_model(model)`. This file format is considered legacy. We recommend using instead the native Keras format, e.g. `model.save('my_model.keras')` or `keras.saving.save_model(model, 'my_model.keras')`. \n"
          ]
        },
        {
          "output_type": "stream",
          "name": "stdout",
          "text": [
            "\b\b\b\b\b\b\b\b\b\b\b\b\b\b\b\b\b\b\b\b\b\b\b\b\b\b\b\b\b\b\b\b\b\b\b\b\b\b\b\b\b\b\b\b\b\b\b\b\b\b\b\b\b\b\b\b\b\b\b\b\b\b\b\b\b\b\b\b\b\b\b\b\b\b\b\b\b\b\b\b\b\b\b\b\b\b\b\b\b\b\b\b\b\b\b\b\b\b\b\b\b\b\b\b\b\b\b\b\b\b\b\b\b\b\b\b\b\b\b\b\b\b\b\b\b\b\b\b\b\b\b\b\b\b\b\b\b\r\u001b[1m158/158\u001b[0m \u001b[32m━━━━━━━━━━━━━━━━━━━━\u001b[0m\u001b[37m\u001b[0m \u001b[1m4s\u001b[0m 25ms/step - loss: 96238600.0000 - mean_absolute_error: 7783.5547 - mean_absolute_percentage_error: 5.9678 - val_loss: 81749304.0000 - val_mean_absolute_error: 4992.1475 - val_mean_absolute_percentage_error: 2.8219 - learning_rate: 0.0010\n",
            "Epoch 46/100\n",
            "\u001b[1m156/158\u001b[0m \u001b[32m━━━━━━━━━━━━━━━━━━━\u001b[0m\u001b[37m━\u001b[0m \u001b[1m0s\u001b[0m 21ms/step - loss: 95660704.0000 - mean_absolute_error: 7751.5664 - mean_absolute_percentage_error: 5.9395"
          ]
        },
        {
          "output_type": "stream",
          "name": "stderr",
          "text": [
            "WARNING:absl:You are saving your model as an HDF5 file via `model.save()` or `keras.saving.save_model(model)`. This file format is considered legacy. We recommend using instead the native Keras format, e.g. `model.save('my_model.keras')` or `keras.saving.save_model(model, 'my_model.keras')`. \n"
          ]
        },
        {
          "output_type": "stream",
          "name": "stdout",
          "text": [
            "\b\b\b\b\b\b\b\b\b\b\b\b\b\b\b\b\b\b\b\b\b\b\b\b\b\b\b\b\b\b\b\b\b\b\b\b\b\b\b\b\b\b\b\b\b\b\b\b\b\b\b\b\b\b\b\b\b\b\b\b\b\b\b\b\b\b\b\b\b\b\b\b\b\b\b\b\b\b\b\b\b\b\b\b\b\b\b\b\b\b\b\b\b\b\b\b\b\b\b\b\b\b\b\b\b\b\b\b\b\b\b\b\b\b\b\b\b\b\b\b\b\b\b\b\b\b\b\b\b\b\b\b\b\b\b\b\b\r\u001b[1m158/158\u001b[0m \u001b[32m━━━━━━━━━━━━━━━━━━━━\u001b[0m\u001b[37m\u001b[0m \u001b[1m4s\u001b[0m 23ms/step - loss: 95666408.0000 - mean_absolute_error: 7751.8994 - mean_absolute_percentage_error: 5.9397 - val_loss: 80429064.0000 - val_mean_absolute_error: 4966.5308 - val_mean_absolute_percentage_error: 2.7579 - learning_rate: 0.0010\n",
            "Epoch 47/100\n",
            "\u001b[1m157/158\u001b[0m \u001b[32m━━━━━━━━━━━━━━━━━━━\u001b[0m\u001b[37m━\u001b[0m \u001b[1m0s\u001b[0m 20ms/step - loss: 95479320.0000 - mean_absolute_error: 7778.8965 - mean_absolute_percentage_error: 5.9654"
          ]
        },
        {
          "output_type": "stream",
          "name": "stderr",
          "text": [
            "WARNING:absl:You are saving your model as an HDF5 file via `model.save()` or `keras.saving.save_model(model)`. This file format is considered legacy. We recommend using instead the native Keras format, e.g. `model.save('my_model.keras')` or `keras.saving.save_model(model, 'my_model.keras')`. \n"
          ]
        },
        {
          "output_type": "stream",
          "name": "stdout",
          "text": [
            "\b\b\b\b\b\b\b\b\b\b\b\b\b\b\b\b\b\b\b\b\b\b\b\b\b\b\b\b\b\b\b\b\b\b\b\b\b\b\b\b\b\b\b\b\b\b\b\b\b\b\b\b\b\b\b\b\b\b\b\b\b\b\b\b\b\b\b\b\b\b\b\b\b\b\b\b\b\b\b\b\b\b\b\b\b\b\b\b\b\b\b\b\b\b\b\b\b\b\b\b\b\b\b\b\b\b\b\b\b\b\b\b\b\b\b\b\b\b\b\b\b\b\b\b\b\b\b\b\b\b\b\b\b\b\b\b\b\r\u001b[1m158/158\u001b[0m \u001b[32m━━━━━━━━━━━━━━━━━━━━\u001b[0m\u001b[37m\u001b[0m \u001b[1m4s\u001b[0m 23ms/step - loss: 95479320.0000 - mean_absolute_error: 7778.6523 - mean_absolute_percentage_error: 5.9651 - val_loss: 74061848.0000 - val_mean_absolute_error: 4333.0640 - val_mean_absolute_percentage_error: 2.3817 - learning_rate: 0.0010\n",
            "Epoch 48/100\n",
            "\u001b[1m158/158\u001b[0m \u001b[32m━━━━━━━━━━━━━━━━━━━━\u001b[0m\u001b[37m\u001b[0m \u001b[1m3s\u001b[0m 22ms/step - loss: 93413768.0000 - mean_absolute_error: 7677.1997 - mean_absolute_percentage_error: 5.8836 - val_loss: 82816216.0000 - val_mean_absolute_error: 5298.7285 - val_mean_absolute_percentage_error: 3.0335 - learning_rate: 0.0010\n",
            "Epoch 49/100\n",
            "\u001b[1m157/158\u001b[0m \u001b[32m━━━━━━━━━━━━━━━━━━━\u001b[0m\u001b[37m━\u001b[0m \u001b[1m0s\u001b[0m 21ms/step - loss: 94774232.0000 - mean_absolute_error: 7712.2598 - mean_absolute_percentage_error: 5.9026"
          ]
        },
        {
          "output_type": "stream",
          "name": "stderr",
          "text": [
            "WARNING:absl:You are saving your model as an HDF5 file via `model.save()` or `keras.saving.save_model(model)`. This file format is considered legacy. We recommend using instead the native Keras format, e.g. `model.save('my_model.keras')` or `keras.saving.save_model(model, 'my_model.keras')`. \n"
          ]
        },
        {
          "output_type": "stream",
          "name": "stdout",
          "text": [
            "\b\b\b\b\b\b\b\b\b\b\b\b\b\b\b\b\b\b\b\b\b\b\b\b\b\b\b\b\b\b\b\b\b\b\b\b\b\b\b\b\b\b\b\b\b\b\b\b\b\b\b\b\b\b\b\b\b\b\b\b\b\b\b\b\b\b\b\b\b\b\b\b\b\b\b\b\b\b\b\b\b\b\b\b\b\b\b\b\b\b\b\b\b\b\b\b\b\b\b\b\b\b\b\b\b\b\b\b\b\b\b\b\b\b\b\b\b\b\b\b\b\b\b\b\b\b\b\b\b\b\b\b\b\b\b\b\b\r\u001b[1m158/158\u001b[0m \u001b[32m━━━━━━━━━━━━━━━━━━━━\u001b[0m\u001b[37m\u001b[0m \u001b[1m4s\u001b[0m 24ms/step - loss: 94764088.0000 - mean_absolute_error: 7712.0278 - mean_absolute_percentage_error: 5.9024 - val_loss: 68172584.0000 - val_mean_absolute_error: 3870.5510 - val_mean_absolute_percentage_error: 2.1018 - learning_rate: 0.0010\n",
            "Epoch 50/100\n",
            "\u001b[1m158/158\u001b[0m \u001b[32m━━━━━━━━━━━━━━━━━━━━\u001b[0m\u001b[37m\u001b[0m \u001b[1m3s\u001b[0m 22ms/step - loss: 93643392.0000 - mean_absolute_error: 7693.6064 - mean_absolute_percentage_error: 5.8958 - val_loss: 72456568.0000 - val_mean_absolute_error: 4622.4214 - val_mean_absolute_percentage_error: 2.6210 - learning_rate: 0.0010\n",
            "Epoch 51/100\n",
            "\u001b[1m157/158\u001b[0m \u001b[32m━━━━━━━━━━━━━━━━━━━\u001b[0m\u001b[37m━\u001b[0m \u001b[1m0s\u001b[0m 20ms/step - loss: 91685560.0000 - mean_absolute_error: 7590.8047 - mean_absolute_percentage_error: 5.8132"
          ]
        },
        {
          "output_type": "stream",
          "name": "stderr",
          "text": [
            "WARNING:absl:You are saving your model as an HDF5 file via `model.save()` or `keras.saving.save_model(model)`. This file format is considered legacy. We recommend using instead the native Keras format, e.g. `model.save('my_model.keras')` or `keras.saving.save_model(model, 'my_model.keras')`. \n"
          ]
        },
        {
          "output_type": "stream",
          "name": "stdout",
          "text": [
            "\b\b\b\b\b\b\b\b\b\b\b\b\b\b\b\b\b\b\b\b\b\b\b\b\b\b\b\b\b\b\b\b\b\b\b\b\b\b\b\b\b\b\b\b\b\b\b\b\b\b\b\b\b\b\b\b\b\b\b\b\b\b\b\b\b\b\b\b\b\b\b\b\b\b\b\b\b\b\b\b\b\b\b\b\b\b\b\b\b\b\b\b\b\b\b\b\b\b\b\b\b\b\b\b\b\b\b\b\b\b\b\b\b\b\b\b\b\b\b\b\b\b\b\b\b\b\b\b\b\b\b\b\b\b\b\b\b\r\u001b[1m158/158\u001b[0m \u001b[32m━━━━━━━━━━━━━━━━━━━━\u001b[0m\u001b[37m\u001b[0m \u001b[1m4s\u001b[0m 23ms/step - loss: 91680888.0000 - mean_absolute_error: 7590.5283 - mean_absolute_percentage_error: 5.8129 - val_loss: 67824696.0000 - val_mean_absolute_error: 4071.1260 - val_mean_absolute_percentage_error: 2.2577 - learning_rate: 0.0010\n",
            "Epoch 52/100\n",
            "\u001b[1m157/158\u001b[0m \u001b[32m━━━━━━━━━━━━━━━━━━━\u001b[0m\u001b[37m━\u001b[0m \u001b[1m0s\u001b[0m 21ms/step - loss: 89966224.0000 - mean_absolute_error: 7536.8706 - mean_absolute_percentage_error: 5.7757"
          ]
        },
        {
          "output_type": "stream",
          "name": "stderr",
          "text": [
            "WARNING:absl:You are saving your model as an HDF5 file via `model.save()` or `keras.saving.save_model(model)`. This file format is considered legacy. We recommend using instead the native Keras format, e.g. `model.save('my_model.keras')` or `keras.saving.save_model(model, 'my_model.keras')`. \n"
          ]
        },
        {
          "output_type": "stream",
          "name": "stdout",
          "text": [
            "\b\b\b\b\b\b\b\b\b\b\b\b\b\b\b\b\b\b\b\b\b\b\b\b\b\b\b\b\b\b\b\b\b\b\b\b\b\b\b\b\b\b\b\b\b\b\b\b\b\b\b\b\b\b\b\b\b\b\b\b\b\b\b\b\b\b\b\b\b\b\b\b\b\b\b\b\b\b\b\b\b\b\b\b\b\b\b\b\b\b\b\b\b\b\b\b\b\b\b\b\b\b\b\b\b\b\b\b\b\b\b\b\b\b\b\b\b\b\b\b\b\b\b\b\b\b\b\b\b\b\b\b\b\b\b\b\b\r\u001b[1m158/158\u001b[0m \u001b[32m━━━━━━━━━━━━━━━━━━━━\u001b[0m\u001b[37m\u001b[0m \u001b[1m4s\u001b[0m 24ms/step - loss: 89994168.0000 - mean_absolute_error: 7537.7690 - mean_absolute_percentage_error: 5.7763 - val_loss: 67473760.0000 - val_mean_absolute_error: 4061.5215 - val_mean_absolute_percentage_error: 2.2431 - learning_rate: 0.0010\n",
            "Epoch 53/100\n",
            "\u001b[1m157/158\u001b[0m \u001b[32m━━━━━━━━━━━━━━━━━━━\u001b[0m\u001b[37m━\u001b[0m \u001b[1m0s\u001b[0m 20ms/step - loss: 91380304.0000 - mean_absolute_error: 7568.3618 - mean_absolute_percentage_error: 5.7993"
          ]
        },
        {
          "output_type": "stream",
          "name": "stderr",
          "text": [
            "WARNING:absl:You are saving your model as an HDF5 file via `model.save()` or `keras.saving.save_model(model)`. This file format is considered legacy. We recommend using instead the native Keras format, e.g. `model.save('my_model.keras')` or `keras.saving.save_model(model, 'my_model.keras')`. \n"
          ]
        },
        {
          "output_type": "stream",
          "name": "stdout",
          "text": [
            "\b\b\b\b\b\b\b\b\b\b\b\b\b\b\b\b\b\b\b\b\b\b\b\b\b\b\b\b\b\b\b\b\b\b\b\b\b\b\b\b\b\b\b\b\b\b\b\b\b\b\b\b\b\b\b\b\b\b\b\b\b\b\b\b\b\b\b\b\b\b\b\b\b\b\b\b\b\b\b\b\b\b\b\b\b\b\b\b\b\b\b\b\b\b\b\b\b\b\b\b\b\b\b\b\b\b\b\b\b\b\b\b\b\b\b\b\b\b\b\b\b\b\b\b\b\b\b\b\b\b\b\b\b\b\b\b\b\r\u001b[1m158/158\u001b[0m \u001b[32m━━━━━━━━━━━━━━━━━━━━\u001b[0m\u001b[37m\u001b[0m \u001b[1m4s\u001b[0m 23ms/step - loss: 91390264.0000 - mean_absolute_error: 7568.7671 - mean_absolute_percentage_error: 5.7996 - val_loss: 64534588.0000 - val_mean_absolute_error: 3609.1189 - val_mean_absolute_percentage_error: 1.9554 - learning_rate: 0.0010\n",
            "Epoch 54/100\n",
            "\u001b[1m158/158\u001b[0m \u001b[32m━━━━━━━━━━━━━━━━━━━━\u001b[0m\u001b[37m\u001b[0m \u001b[1m4s\u001b[0m 22ms/step - loss: 93316448.0000 - mean_absolute_error: 7643.0303 - mean_absolute_percentage_error: 5.8550 - val_loss: 73270800.0000 - val_mean_absolute_error: 4982.7944 - val_mean_absolute_percentage_error: 2.7837 - learning_rate: 0.0010\n",
            "Epoch 55/100\n",
            "\u001b[1m158/158\u001b[0m \u001b[32m━━━━━━━━━━━━━━━━━━━━\u001b[0m\u001b[37m\u001b[0m \u001b[1m4s\u001b[0m 23ms/step - loss: 92004776.0000 - mean_absolute_error: 7599.4043 - mean_absolute_percentage_error: 5.8136 - val_loss: 65526584.0000 - val_mean_absolute_error: 4099.4189 - val_mean_absolute_percentage_error: 2.2823 - learning_rate: 0.0010\n",
            "Epoch 56/100\n",
            "\u001b[1m158/158\u001b[0m \u001b[32m━━━━━━━━━━━━━━━━━━━━\u001b[0m\u001b[37m\u001b[0m \u001b[1m4s\u001b[0m 23ms/step - loss: 91110264.0000 - mean_absolute_error: 7557.9399 - mean_absolute_percentage_error: 5.7873 - val_loss: 64602396.0000 - val_mean_absolute_error: 4422.1484 - val_mean_absolute_percentage_error: 2.5027 - learning_rate: 0.0010\n",
            "Epoch 57/100\n",
            "\u001b[1m157/158\u001b[0m \u001b[32m━━━━━━━━━━━━━━━━━━━\u001b[0m\u001b[37m━\u001b[0m \u001b[1m0s\u001b[0m 20ms/step - loss: 92786104.0000 - mean_absolute_error: 7637.3013 - mean_absolute_percentage_error: 5.8396"
          ]
        },
        {
          "output_type": "stream",
          "name": "stderr",
          "text": [
            "WARNING:absl:You are saving your model as an HDF5 file via `model.save()` or `keras.saving.save_model(model)`. This file format is considered legacy. We recommend using instead the native Keras format, e.g. `model.save('my_model.keras')` or `keras.saving.save_model(model, 'my_model.keras')`. \n"
          ]
        },
        {
          "output_type": "stream",
          "name": "stdout",
          "text": [
            "\b\b\b\b\b\b\b\b\b\b\b\b\b\b\b\b\b\b\b\b\b\b\b\b\b\b\b\b\b\b\b\b\b\b\b\b\b\b\b\b\b\b\b\b\b\b\b\b\b\b\b\b\b\b\b\b\b\b\b\b\b\b\b\b\b\b\b\b\b\b\b\b\b\b\b\b\b\b\b\b\b\b\b\b\b\b\b\b\b\b\b\b\b\b\b\b\b\b\b\b\b\b\b\b\b\b\b\b\b\b\b\b\b\b\b\b\b\b\b\b\b\b\b\b\b\b\b\b\b\b\b\b\b\b\b\b\b\r\u001b[1m158/158\u001b[0m \u001b[32m━━━━━━━━━━━━━━━━━━━━\u001b[0m\u001b[37m\u001b[0m \u001b[1m4s\u001b[0m 23ms/step - loss: 92783312.0000 - mean_absolute_error: 7637.2163 - mean_absolute_percentage_error: 5.8396 - val_loss: 63553776.0000 - val_mean_absolute_error: 4247.3696 - val_mean_absolute_percentage_error: 2.3892 - learning_rate: 0.0010\n",
            "Epoch 58/100\n",
            "\u001b[1m157/158\u001b[0m \u001b[32m━━━━━━━━━━━━━━━━━━━\u001b[0m\u001b[37m━\u001b[0m \u001b[1m0s\u001b[0m 20ms/step - loss: 91038104.0000 - mean_absolute_error: 7564.2788 - mean_absolute_percentage_error: 5.7964"
          ]
        },
        {
          "output_type": "stream",
          "name": "stderr",
          "text": [
            "WARNING:absl:You are saving your model as an HDF5 file via `model.save()` or `keras.saving.save_model(model)`. This file format is considered legacy. We recommend using instead the native Keras format, e.g. `model.save('my_model.keras')` or `keras.saving.save_model(model, 'my_model.keras')`. \n"
          ]
        },
        {
          "output_type": "stream",
          "name": "stdout",
          "text": [
            "\b\b\b\b\b\b\b\b\b\b\b\b\b\b\b\b\b\b\b\b\b\b\b\b\b\b\b\b\b\b\b\b\b\b\b\b\b\b\b\b\b\b\b\b\b\b\b\b\b\b\b\b\b\b\b\b\b\b\b\b\b\b\b\b\b\b\b\b\b\b\b\b\b\b\b\b\b\b\b\b\b\b\b\b\b\b\b\b\b\b\b\b\b\b\b\b\b\b\b\b\b\b\b\b\b\b\b\b\b\b\b\b\b\b\b\b\b\b\b\b\b\b\b\b\b\b\b\b\b\b\b\b\b\b\b\b\b\r\u001b[1m158/158\u001b[0m \u001b[32m━━━━━━━━━━━━━━━━━━━━\u001b[0m\u001b[37m\u001b[0m \u001b[1m4s\u001b[0m 23ms/step - loss: 91043416.0000 - mean_absolute_error: 7564.3931 - mean_absolute_percentage_error: 5.7964 - val_loss: 61199108.0000 - val_mean_absolute_error: 3958.0588 - val_mean_absolute_percentage_error: 2.1729 - learning_rate: 0.0010\n",
            "Epoch 59/100\n",
            "\u001b[1m158/158\u001b[0m \u001b[32m━━━━━━━━━━━━━━━━━━━━\u001b[0m\u001b[37m\u001b[0m \u001b[1m4s\u001b[0m 23ms/step - loss: 92278808.0000 - mean_absolute_error: 7615.9634 - mean_absolute_percentage_error: 5.8273 - val_loss: 61402836.0000 - val_mean_absolute_error: 3958.1445 - val_mean_absolute_percentage_error: 2.1723 - learning_rate: 0.0010\n",
            "Epoch 60/100\n",
            "\u001b[1m158/158\u001b[0m \u001b[32m━━━━━━━━━━━━━━━━━━━━\u001b[0m\u001b[37m\u001b[0m \u001b[1m3s\u001b[0m 22ms/step - loss: 91894472.0000 - mean_absolute_error: 7603.4551 - mean_absolute_percentage_error: 5.8196 - val_loss: 61500928.0000 - val_mean_absolute_error: 3974.3545 - val_mean_absolute_percentage_error: 2.2154 - learning_rate: 0.0010\n",
            "Epoch 61/100\n",
            "\u001b[1m157/158\u001b[0m \u001b[32m━━━━━━━━━━━━━━━━━━━\u001b[0m\u001b[37m━\u001b[0m \u001b[1m0s\u001b[0m 20ms/step - loss: 92476752.0000 - mean_absolute_error: 7602.4502 - mean_absolute_percentage_error: 5.8208"
          ]
        },
        {
          "output_type": "stream",
          "name": "stderr",
          "text": [
            "WARNING:absl:You are saving your model as an HDF5 file via `model.save()` or `keras.saving.save_model(model)`. This file format is considered legacy. We recommend using instead the native Keras format, e.g. `model.save('my_model.keras')` or `keras.saving.save_model(model, 'my_model.keras')`. \n"
          ]
        },
        {
          "output_type": "stream",
          "name": "stdout",
          "text": [
            "\b\b\b\b\b\b\b\b\b\b\b\b\b\b\b\b\b\b\b\b\b\b\b\b\b\b\b\b\b\b\b\b\b\b\b\b\b\b\b\b\b\b\b\b\b\b\b\b\b\b\b\b\b\b\b\b\b\b\b\b\b\b\b\b\b\b\b\b\b\b\b\b\b\b\b\b\b\b\b\b\b\b\b\b\b\b\b\b\b\b\b\b\b\b\b\b\b\b\b\b\b\b\b\b\b\b\b\b\b\b\b\b\b\b\b\b\b\b\b\b\b\b\b\b\b\b\b\b\b\b\b\b\b\b\b\b\b\r\u001b[1m158/158\u001b[0m \u001b[32m━━━━━━━━━━━━━━━━━━━━\u001b[0m\u001b[37m\u001b[0m \u001b[1m4s\u001b[0m 23ms/step - loss: 92468328.0000 - mean_absolute_error: 7602.2134 - mean_absolute_percentage_error: 5.8206 - val_loss: 57818516.0000 - val_mean_absolute_error: 3639.0938 - val_mean_absolute_percentage_error: 1.9975 - learning_rate: 0.0010\n",
            "Epoch 62/100\n",
            "\u001b[1m158/158\u001b[0m \u001b[32m━━━━━━━━━━━━━━━━━━━━\u001b[0m\u001b[37m\u001b[0m \u001b[1m4s\u001b[0m 23ms/step - loss: 90127048.0000 - mean_absolute_error: 7536.9785 - mean_absolute_percentage_error: 5.7696 - val_loss: 58630036.0000 - val_mean_absolute_error: 4234.1050 - val_mean_absolute_percentage_error: 2.4130 - learning_rate: 0.0010\n",
            "Epoch 63/100\n",
            "\u001b[1m158/158\u001b[0m \u001b[32m━━━━━━━━━━━━━━━━━━━━\u001b[0m\u001b[37m\u001b[0m \u001b[1m3s\u001b[0m 22ms/step - loss: 92321648.0000 - mean_absolute_error: 7603.1875 - mean_absolute_percentage_error: 5.8148 - val_loss: 61760376.0000 - val_mean_absolute_error: 4654.2993 - val_mean_absolute_percentage_error: 2.6257 - learning_rate: 0.0010\n",
            "Epoch 64/100\n",
            "\u001b[1m157/158\u001b[0m \u001b[32m━━━━━━━━━━━━━━━━━━━\u001b[0m\u001b[37m━\u001b[0m \u001b[1m0s\u001b[0m 20ms/step - loss: 91029424.0000 - mean_absolute_error: 7562.2402 - mean_absolute_percentage_error: 5.7880"
          ]
        },
        {
          "output_type": "stream",
          "name": "stderr",
          "text": [
            "WARNING:absl:You are saving your model as an HDF5 file via `model.save()` or `keras.saving.save_model(model)`. This file format is considered legacy. We recommend using instead the native Keras format, e.g. `model.save('my_model.keras')` or `keras.saving.save_model(model, 'my_model.keras')`. \n"
          ]
        },
        {
          "output_type": "stream",
          "name": "stdout",
          "text": [
            "\b\b\b\b\b\b\b\b\b\b\b\b\b\b\b\b\b\b\b\b\b\b\b\b\b\b\b\b\b\b\b\b\b\b\b\b\b\b\b\b\b\b\b\b\b\b\b\b\b\b\b\b\b\b\b\b\b\b\b\b\b\b\b\b\b\b\b\b\b\b\b\b\b\b\b\b\b\b\b\b\b\b\b\b\b\b\b\b\b\b\b\b\b\b\b\b\b\b\b\b\b\b\b\b\b\b\b\b\b\b\b\b\b\b\b\b\b\b\b\b\b\b\b\b\b\b\b\b\b\b\b\b\b\b\b\b\b\r\u001b[1m158/158\u001b[0m \u001b[32m━━━━━━━━━━━━━━━━━━━━\u001b[0m\u001b[37m\u001b[0m \u001b[1m4s\u001b[0m 23ms/step - loss: 91029504.0000 - mean_absolute_error: 7562.3726 - mean_absolute_percentage_error: 5.7881 - val_loss: 57628848.0000 - val_mean_absolute_error: 3235.7964 - val_mean_absolute_percentage_error: 1.7362 - learning_rate: 0.0010\n",
            "Epoch 65/100\n",
            "\u001b[1m158/158\u001b[0m \u001b[32m━━━━━━━━━━━━━━━━━━━━\u001b[0m\u001b[37m\u001b[0m \u001b[1m4s\u001b[0m 23ms/step - loss: 90492408.0000 - mean_absolute_error: 7539.1333 - mean_absolute_percentage_error: 5.7752 - val_loss: 64100588.0000 - val_mean_absolute_error: 4784.0337 - val_mean_absolute_percentage_error: 2.6899 - learning_rate: 0.0010\n",
            "Epoch 66/100\n",
            "\u001b[1m157/158\u001b[0m \u001b[32m━━━━━━━━━━━━━━━━━━━\u001b[0m\u001b[37m━\u001b[0m \u001b[1m0s\u001b[0m 20ms/step - loss: 91960344.0000 - mean_absolute_error: 7604.1548 - mean_absolute_percentage_error: 5.8218"
          ]
        },
        {
          "output_type": "stream",
          "name": "stderr",
          "text": [
            "WARNING:absl:You are saving your model as an HDF5 file via `model.save()` or `keras.saving.save_model(model)`. This file format is considered legacy. We recommend using instead the native Keras format, e.g. `model.save('my_model.keras')` or `keras.saving.save_model(model, 'my_model.keras')`. \n"
          ]
        },
        {
          "output_type": "stream",
          "name": "stdout",
          "text": [
            "\b\b\b\b\b\b\b\b\b\b\b\b\b\b\b\b\b\b\b\b\b\b\b\b\b\b\b\b\b\b\b\b\b\b\b\b\b\b\b\b\b\b\b\b\b\b\b\b\b\b\b\b\b\b\b\b\b\b\b\b\b\b\b\b\b\b\b\b\b\b\b\b\b\b\b\b\b\b\b\b\b\b\b\b\b\b\b\b\b\b\b\b\b\b\b\b\b\b\b\b\b\b\b\b\b\b\b\b\b\b\b\b\b\b\b\b\b\b\b\b\b\b\b\b\b\b\b\b\b\b\b\b\b\b\b\b\b\r\u001b[1m158/158\u001b[0m \u001b[32m━━━━━━━━━━━━━━━━━━━━\u001b[0m\u001b[37m\u001b[0m \u001b[1m4s\u001b[0m 23ms/step - loss: 91962464.0000 - mean_absolute_error: 7604.0513 - mean_absolute_percentage_error: 5.8217 - val_loss: 57323724.0000 - val_mean_absolute_error: 3595.0359 - val_mean_absolute_percentage_error: 1.9582 - learning_rate: 0.0010\n",
            "Epoch 67/100\n",
            "\u001b[1m157/158\u001b[0m \u001b[32m━━━━━━━━━━━━━━━━━━━\u001b[0m\u001b[37m━\u001b[0m \u001b[1m0s\u001b[0m 20ms/step - loss: 90785912.0000 - mean_absolute_error: 7546.4233 - mean_absolute_percentage_error: 5.7842"
          ]
        },
        {
          "output_type": "stream",
          "name": "stderr",
          "text": [
            "WARNING:absl:You are saving your model as an HDF5 file via `model.save()` or `keras.saving.save_model(model)`. This file format is considered legacy. We recommend using instead the native Keras format, e.g. `model.save('my_model.keras')` or `keras.saving.save_model(model, 'my_model.keras')`. \n"
          ]
        },
        {
          "output_type": "stream",
          "name": "stdout",
          "text": [
            "\b\b\b\b\b\b\b\b\b\b\b\b\b\b\b\b\b\b\b\b\b\b\b\b\b\b\b\b\b\b\b\b\b\b\b\b\b\b\b\b\b\b\b\b\b\b\b\b\b\b\b\b\b\b\b\b\b\b\b\b\b\b\b\b\b\b\b\b\b\b\b\b\b\b\b\b\b\b\b\b\b\b\b\b\b\b\b\b\b\b\b\b\b\b\b\b\b\b\b\b\b\b\b\b\b\b\b\b\b\b\b\b\b\b\b\b\b\b\b\b\b\b\b\b\b\b\b\b\b\b\b\b\b\b\b\b\b\r\u001b[1m158/158\u001b[0m \u001b[32m━━━━━━━━━━━━━━━━━━━━\u001b[0m\u001b[37m\u001b[0m \u001b[1m4s\u001b[0m 23ms/step - loss: 90791056.0000 - mean_absolute_error: 7546.6323 - mean_absolute_percentage_error: 5.7843 - val_loss: 56018316.0000 - val_mean_absolute_error: 3521.5688 - val_mean_absolute_percentage_error: 1.9283 - learning_rate: 0.0010\n",
            "Epoch 68/100\n",
            "\u001b[1m158/158\u001b[0m \u001b[32m━━━━━━━━━━━━━━━━━━━━\u001b[0m\u001b[37m\u001b[0m \u001b[1m4s\u001b[0m 23ms/step - loss: 92563512.0000 - mean_absolute_error: 7617.4995 - mean_absolute_percentage_error: 5.8338 - val_loss: 57776076.0000 - val_mean_absolute_error: 3953.3955 - val_mean_absolute_percentage_error: 2.2194 - learning_rate: 0.0010\n",
            "Epoch 69/100\n",
            "\u001b[1m158/158\u001b[0m \u001b[32m━━━━━━━━━━━━━━━━━━━━\u001b[0m\u001b[37m\u001b[0m \u001b[1m4s\u001b[0m 23ms/step - loss: 92879840.0000 - mean_absolute_error: 7655.3013 - mean_absolute_percentage_error: 5.8587 - val_loss: 59093732.0000 - val_mean_absolute_error: 3787.0425 - val_mean_absolute_percentage_error: 2.0625 - learning_rate: 0.0010\n",
            "Epoch 70/100\n",
            "\u001b[1m158/158\u001b[0m \u001b[32m━━━━━━━━━━━━━━━━━━━━\u001b[0m\u001b[37m\u001b[0m \u001b[1m3s\u001b[0m 22ms/step - loss: 88448664.0000 - mean_absolute_error: 7451.7456 - mean_absolute_percentage_error: 5.7032 - val_loss: 58504780.0000 - val_mean_absolute_error: 4101.7241 - val_mean_absolute_percentage_error: 2.2810 - learning_rate: 0.0010\n",
            "Epoch 71/100\n",
            "\u001b[1m157/158\u001b[0m \u001b[32m━━━━━━━━━━━━━━━━━━━\u001b[0m\u001b[37m━\u001b[0m \u001b[1m0s\u001b[0m 20ms/step - loss: 89928216.0000 - mean_absolute_error: 7520.9995 - mean_absolute_percentage_error: 5.7560"
          ]
        },
        {
          "output_type": "stream",
          "name": "stderr",
          "text": [
            "WARNING:absl:You are saving your model as an HDF5 file via `model.save()` or `keras.saving.save_model(model)`. This file format is considered legacy. We recommend using instead the native Keras format, e.g. `model.save('my_model.keras')` or `keras.saving.save_model(model, 'my_model.keras')`. \n"
          ]
        },
        {
          "output_type": "stream",
          "name": "stdout",
          "text": [
            "\b\b\b\b\b\b\b\b\b\b\b\b\b\b\b\b\b\b\b\b\b\b\b\b\b\b\b\b\b\b\b\b\b\b\b\b\b\b\b\b\b\b\b\b\b\b\b\b\b\b\b\b\b\b\b\b\b\b\b\b\b\b\b\b\b\b\b\b\b\b\b\b\b\b\b\b\b\b\b\b\b\b\b\b\b\b\b\b\b\b\b\b\b\b\b\b\b\b\b\b\b\b\b\b\b\b\b\b\b\b\b\b\b\b\b\b\b\b\b\b\b\b\b\b\b\b\b\b\b\b\b\b\b\b\b\b\b\r\u001b[1m158/158\u001b[0m \u001b[32m━━━━━━━━━━━━━━━━━━━━\u001b[0m\u001b[37m\u001b[0m \u001b[1m4s\u001b[0m 23ms/step - loss: 89943168.0000 - mean_absolute_error: 7521.6260 - mean_absolute_percentage_error: 5.7564 - val_loss: 55900524.0000 - val_mean_absolute_error: 3490.6255 - val_mean_absolute_percentage_error: 1.8999 - learning_rate: 0.0010\n",
            "Epoch 72/100\n",
            "\u001b[1m156/158\u001b[0m \u001b[32m━━━━━━━━━━━━━━━━━━━\u001b[0m\u001b[37m━\u001b[0m \u001b[1m0s\u001b[0m 21ms/step - loss: 91975256.0000 - mean_absolute_error: 7588.5464 - mean_absolute_percentage_error: 5.8088"
          ]
        },
        {
          "output_type": "stream",
          "name": "stderr",
          "text": [
            "WARNING:absl:You are saving your model as an HDF5 file via `model.save()` or `keras.saving.save_model(model)`. This file format is considered legacy. We recommend using instead the native Keras format, e.g. `model.save('my_model.keras')` or `keras.saving.save_model(model, 'my_model.keras')`. \n"
          ]
        },
        {
          "output_type": "stream",
          "name": "stdout",
          "text": [
            "\b\b\b\b\b\b\b\b\b\b\b\b\b\b\b\b\b\b\b\b\b\b\b\b\b\b\b\b\b\b\b\b\b\b\b\b\b\b\b\b\b\b\b\b\b\b\b\b\b\b\b\b\b\b\b\b\b\b\b\b\b\b\b\b\b\b\b\b\b\b\b\b\b\b\b\b\b\b\b\b\b\b\b\b\b\b\b\b\b\b\b\b\b\b\b\b\b\b\b\b\b\b\b\b\b\b\b\b\b\b\b\b\b\b\b\b\b\b\b\b\b\b\b\b\b\b\b\b\b\b\b\b\b\b\b\b\b\r\u001b[1m158/158\u001b[0m \u001b[32m━━━━━━━━━━━━━━━━━━━━\u001b[0m\u001b[37m\u001b[0m \u001b[1m4s\u001b[0m 24ms/step - loss: 91948968.0000 - mean_absolute_error: 7587.8237 - mean_absolute_percentage_error: 5.8082 - val_loss: 55687516.0000 - val_mean_absolute_error: 3664.4817 - val_mean_absolute_percentage_error: 2.0182 - learning_rate: 0.0010\n",
            "Epoch 73/100\n",
            "\u001b[1m158/158\u001b[0m \u001b[32m━━━━━━━━━━━━━━━━━━━━\u001b[0m\u001b[37m\u001b[0m \u001b[1m5s\u001b[0m 22ms/step - loss: 90624136.0000 - mean_absolute_error: 7522.6963 - mean_absolute_percentage_error: 5.7561 - val_loss: 57752856.0000 - val_mean_absolute_error: 4022.4565 - val_mean_absolute_percentage_error: 2.2347 - learning_rate: 0.0010\n",
            "Epoch 74/100\n",
            "\u001b[1m157/158\u001b[0m \u001b[32m━━━━━━━━━━━━━━━━━━━\u001b[0m\u001b[37m━\u001b[0m \u001b[1m0s\u001b[0m 20ms/step - loss: 90321016.0000 - mean_absolute_error: 7534.5308 - mean_absolute_percentage_error: 5.7658"
          ]
        },
        {
          "output_type": "stream",
          "name": "stderr",
          "text": [
            "WARNING:absl:You are saving your model as an HDF5 file via `model.save()` or `keras.saving.save_model(model)`. This file format is considered legacy. We recommend using instead the native Keras format, e.g. `model.save('my_model.keras')` or `keras.saving.save_model(model, 'my_model.keras')`. \n"
          ]
        },
        {
          "output_type": "stream",
          "name": "stdout",
          "text": [
            "\b\b\b\b\b\b\b\b\b\b\b\b\b\b\b\b\b\b\b\b\b\b\b\b\b\b\b\b\b\b\b\b\b\b\b\b\b\b\b\b\b\b\b\b\b\b\b\b\b\b\b\b\b\b\b\b\b\b\b\b\b\b\b\b\b\b\b\b\b\b\b\b\b\b\b\b\b\b\b\b\b\b\b\b\b\b\b\b\b\b\b\b\b\b\b\b\b\b\b\b\b\b\b\b\b\b\b\b\b\b\b\b\b\b\b\b\b\b\b\b\b\b\b\b\b\b\b\b\b\b\b\b\b\b\b\b\b\r\u001b[1m158/158\u001b[0m \u001b[32m━━━━━━━━━━━━━━━━━━━━\u001b[0m\u001b[37m\u001b[0m \u001b[1m4s\u001b[0m 23ms/step - loss: 90330680.0000 - mean_absolute_error: 7534.7959 - mean_absolute_percentage_error: 5.7660 - val_loss: 55638252.0000 - val_mean_absolute_error: 3434.2737 - val_mean_absolute_percentage_error: 1.8732 - learning_rate: 0.0010\n",
            "Epoch 75/100\n",
            "\u001b[1m158/158\u001b[0m \u001b[32m━━━━━━━━━━━━━━━━━━━━\u001b[0m\u001b[37m\u001b[0m \u001b[1m4s\u001b[0m 23ms/step - loss: 90089848.0000 - mean_absolute_error: 7534.3452 - mean_absolute_percentage_error: 5.7684 - val_loss: 59152656.0000 - val_mean_absolute_error: 3653.9797 - val_mean_absolute_percentage_error: 2.0452 - learning_rate: 0.0010\n",
            "Epoch 76/100\n",
            "\u001b[1m157/158\u001b[0m \u001b[32m━━━━━━━━━━━━━━━━━━━\u001b[0m\u001b[37m━\u001b[0m \u001b[1m0s\u001b[0m 20ms/step - loss: 92230064.0000 - mean_absolute_error: 7608.0034 - mean_absolute_percentage_error: 5.8211"
          ]
        },
        {
          "output_type": "stream",
          "name": "stderr",
          "text": [
            "WARNING:absl:You are saving your model as an HDF5 file via `model.save()` or `keras.saving.save_model(model)`. This file format is considered legacy. We recommend using instead the native Keras format, e.g. `model.save('my_model.keras')` or `keras.saving.save_model(model, 'my_model.keras')`. \n"
          ]
        },
        {
          "output_type": "stream",
          "name": "stdout",
          "text": [
            "\b\b\b\b\b\b\b\b\b\b\b\b\b\b\b\b\b\b\b\b\b\b\b\b\b\b\b\b\b\b\b\b\b\b\b\b\b\b\b\b\b\b\b\b\b\b\b\b\b\b\b\b\b\b\b\b\b\b\b\b\b\b\b\b\b\b\b\b\b\b\b\b\b\b\b\b\b\b\b\b\b\b\b\b\b\b\b\b\b\b\b\b\b\b\b\b\b\b\b\b\b\b\b\b\b\b\b\b\b\b\b\b\b\b\b\b\b\b\b\b\b\b\b\b\b\b\b\b\b\b\b\b\b\b\b\b\b\r\u001b[1m158/158\u001b[0m \u001b[32m━━━━━━━━━━━━━━━━━━━━\u001b[0m\u001b[37m\u001b[0m \u001b[1m4s\u001b[0m 23ms/step - loss: 92227632.0000 - mean_absolute_error: 7608.0161 - mean_absolute_percentage_error: 5.8211 - val_loss: 55295884.0000 - val_mean_absolute_error: 3468.4556 - val_mean_absolute_percentage_error: 1.8972 - learning_rate: 0.0010\n",
            "Epoch 77/100\n",
            "\u001b[1m158/158\u001b[0m \u001b[32m━━━━━━━━━━━━━━━━━━━━\u001b[0m\u001b[37m\u001b[0m \u001b[1m3s\u001b[0m 22ms/step - loss: 90900152.0000 - mean_absolute_error: 7544.2471 - mean_absolute_percentage_error: 5.7776 - val_loss: 56126124.0000 - val_mean_absolute_error: 4063.3145 - val_mean_absolute_percentage_error: 2.2497 - learning_rate: 0.0010\n",
            "Epoch 78/100\n",
            "\u001b[1m157/158\u001b[0m \u001b[32m━━━━━━━━━━━━━━━━━━━\u001b[0m\u001b[37m━\u001b[0m \u001b[1m0s\u001b[0m 21ms/step - loss: 90319120.0000 - mean_absolute_error: 7539.9370 - mean_absolute_percentage_error: 5.7732"
          ]
        },
        {
          "output_type": "stream",
          "name": "stderr",
          "text": [
            "WARNING:absl:You are saving your model as an HDF5 file via `model.save()` or `keras.saving.save_model(model)`. This file format is considered legacy. We recommend using instead the native Keras format, e.g. `model.save('my_model.keras')` or `keras.saving.save_model(model, 'my_model.keras')`. \n"
          ]
        },
        {
          "output_type": "stream",
          "name": "stdout",
          "text": [
            "\b\b\b\b\b\b\b\b\b\b\b\b\b\b\b\b\b\b\b\b\b\b\b\b\b\b\b\b\b\b\b\b\b\b\b\b\b\b\b\b\b\b\b\b\b\b\b\b\b\b\b\b\b\b\b\b\b\b\b\b\b\b\b\b\b\b\b\b\b\b\b\b\b\b\b\b\b\b\b\b\b\b\b\b\b\b\b\b\b\b\b\b\b\b\b\b\b\b\b\b\b\b\b\b\b\b\b\b\b\b\b\b\b\b\b\b\b\b\b\b\b\b\b\b\b\b\b\b\b\b\b\b\b\b\b\b\b\r\u001b[1m158/158\u001b[0m \u001b[32m━━━━━━━━━━━━━━━━━━━━\u001b[0m\u001b[37m\u001b[0m \u001b[1m4s\u001b[0m 24ms/step - loss: 90325184.0000 - mean_absolute_error: 7540.1689 - mean_absolute_percentage_error: 5.7734 - val_loss: 53718624.0000 - val_mean_absolute_error: 3579.3816 - val_mean_absolute_percentage_error: 1.9807 - learning_rate: 0.0010\n",
            "Epoch 79/100\n",
            "\u001b[1m158/158\u001b[0m \u001b[32m━━━━━━━━━━━━━━━━━━━━\u001b[0m\u001b[37m\u001b[0m \u001b[1m3s\u001b[0m 22ms/step - loss: 91453704.0000 - mean_absolute_error: 7603.6704 - mean_absolute_percentage_error: 5.8202 - val_loss: 55508668.0000 - val_mean_absolute_error: 3283.4502 - val_mean_absolute_percentage_error: 1.7788 - learning_rate: 0.0010\n",
            "Epoch 80/100\n",
            "\u001b[1m158/158\u001b[0m \u001b[32m━━━━━━━━━━━━━━━━━━━━\u001b[0m\u001b[37m\u001b[0m \u001b[1m4s\u001b[0m 22ms/step - loss: 92687792.0000 - mean_absolute_error: 7624.0532 - mean_absolute_percentage_error: 5.8361 - val_loss: 54333124.0000 - val_mean_absolute_error: 3627.7539 - val_mean_absolute_percentage_error: 1.9998 - learning_rate: 0.0010\n",
            "Epoch 81/100\n",
            "\u001b[1m158/158\u001b[0m \u001b[32m━━━━━━━━━━━━━━━━━━━━\u001b[0m\u001b[37m\u001b[0m \u001b[1m4s\u001b[0m 23ms/step - loss: 90714768.0000 - mean_absolute_error: 7543.3306 - mean_absolute_percentage_error: 5.7754 - val_loss: 54823372.0000 - val_mean_absolute_error: 3466.3733 - val_mean_absolute_percentage_error: 1.9023 - learning_rate: 0.0010\n",
            "Epoch 82/100\n",
            "\u001b[1m158/158\u001b[0m \u001b[32m━━━━━━━━━━━━━━━━━━━━\u001b[0m\u001b[37m\u001b[0m \u001b[1m4s\u001b[0m 23ms/step - loss: 89724160.0000 - mean_absolute_error: 7526.7549 - mean_absolute_percentage_error: 5.7597 - val_loss: 54467344.0000 - val_mean_absolute_error: 3779.4409 - val_mean_absolute_percentage_error: 2.0888 - learning_rate: 0.0010\n",
            "Epoch 83/100\n",
            "\u001b[1m157/158\u001b[0m \u001b[32m━━━━━━━━━━━━━━━━━━━\u001b[0m\u001b[37m━\u001b[0m \u001b[1m0s\u001b[0m 20ms/step - loss: 91088056.0000 - mean_absolute_error: 7579.2563 - mean_absolute_percentage_error: 5.8061"
          ]
        },
        {
          "output_type": "stream",
          "name": "stderr",
          "text": [
            "WARNING:absl:You are saving your model as an HDF5 file via `model.save()` or `keras.saving.save_model(model)`. This file format is considered legacy. We recommend using instead the native Keras format, e.g. `model.save('my_model.keras')` or `keras.saving.save_model(model, 'my_model.keras')`. \n"
          ]
        },
        {
          "output_type": "stream",
          "name": "stdout",
          "text": [
            "\b\b\b\b\b\b\b\b\b\b\b\b\b\b\b\b\b\b\b\b\b\b\b\b\b\b\b\b\b\b\b\b\b\b\b\b\b\b\b\b\b\b\b\b\b\b\b\b\b\b\b\b\b\b\b\b\b\b\b\b\b\b\b\b\b\b\b\b\b\b\b\b\b\b\b\b\b\b\b\b\b\b\b\b\b\b\b\b\b\b\b\b\b\b\b\b\b\b\b\b\b\b\b\b\b\b\b\b\b\b\b\b\b\b\b\b\b\b\b\b\b\b\b\b\b\b\b\b\b\b\b\b\b\b\b\b\b\r\u001b[1m158/158\u001b[0m \u001b[32m━━━━━━━━━━━━━━━━━━━━\u001b[0m\u001b[37m\u001b[0m \u001b[1m5s\u001b[0m 23ms/step - loss: 91084472.0000 - mean_absolute_error: 7578.8794 - mean_absolute_percentage_error: 5.8058 - val_loss: 52306532.0000 - val_mean_absolute_error: 3308.0713 - val_mean_absolute_percentage_error: 1.7878 - learning_rate: 0.0010\n",
            "Epoch 84/100\n",
            "\u001b[1m158/158\u001b[0m \u001b[32m━━━━━━━━━━━━━━━━━━━━\u001b[0m\u001b[37m\u001b[0m \u001b[1m4s\u001b[0m 23ms/step - loss: 92426272.0000 - mean_absolute_error: 7597.1562 - mean_absolute_percentage_error: 5.8160 - val_loss: 57221572.0000 - val_mean_absolute_error: 4537.0781 - val_mean_absolute_percentage_error: 2.5829 - learning_rate: 0.0010\n",
            "Epoch 85/100\n",
            "\u001b[1m158/158\u001b[0m \u001b[32m━━━━━━━━━━━━━━━━━━━━\u001b[0m\u001b[37m\u001b[0m \u001b[1m4s\u001b[0m 23ms/step - loss: 91936496.0000 - mean_absolute_error: 7604.4448 - mean_absolute_percentage_error: 5.8231 - val_loss: 52684304.0000 - val_mean_absolute_error: 3448.8789 - val_mean_absolute_percentage_error: 1.8942 - learning_rate: 0.0010\n",
            "Epoch 86/100\n",
            "\u001b[1m157/158\u001b[0m \u001b[32m━━━━━━━━━━━━━━━━━━━\u001b[0m\u001b[37m━\u001b[0m \u001b[1m0s\u001b[0m 20ms/step - loss: 92089136.0000 - mean_absolute_error: 7601.2114 - mean_absolute_percentage_error: 5.8146"
          ]
        },
        {
          "output_type": "stream",
          "name": "stderr",
          "text": [
            "WARNING:absl:You are saving your model as an HDF5 file via `model.save()` or `keras.saving.save_model(model)`. This file format is considered legacy. We recommend using instead the native Keras format, e.g. `model.save('my_model.keras')` or `keras.saving.save_model(model, 'my_model.keras')`. \n"
          ]
        },
        {
          "output_type": "stream",
          "name": "stdout",
          "text": [
            "\b\b\b\b\b\b\b\b\b\b\b\b\b\b\b\b\b\b\b\b\b\b\b\b\b\b\b\b\b\b\b\b\b\b\b\b\b\b\b\b\b\b\b\b\b\b\b\b\b\b\b\b\b\b\b\b\b\b\b\b\b\b\b\b\b\b\b\b\b\b\b\b\b\b\b\b\b\b\b\b\b\b\b\b\b\b\b\b\b\b\b\b\b\b\b\b\b\b\b\b\b\b\b\b\b\b\b\b\b\b\b\b\b\b\b\b\b\b\b\b\b\b\b\b\b\b\b\b\b\b\b\b\b\b\b\b\b\r\u001b[1m158/158\u001b[0m \u001b[32m━━━━━━━━━━━━━━━━━━━━\u001b[0m\u001b[37m\u001b[0m \u001b[1m4s\u001b[0m 23ms/step - loss: 92076304.0000 - mean_absolute_error: 7600.6699 - mean_absolute_percentage_error: 5.8142 - val_loss: 51993084.0000 - val_mean_absolute_error: 3264.1665 - val_mean_absolute_percentage_error: 1.7760 - learning_rate: 0.0010\n",
            "Epoch 87/100\n",
            "\u001b[1m158/158\u001b[0m \u001b[32m━━━━━━━━━━━━━━━━━━━━\u001b[0m\u001b[37m\u001b[0m \u001b[1m4s\u001b[0m 23ms/step - loss: 91129216.0000 - mean_absolute_error: 7562.4619 - mean_absolute_percentage_error: 5.7860 - val_loss: 61062292.0000 - val_mean_absolute_error: 4286.9004 - val_mean_absolute_percentage_error: 2.3756 - learning_rate: 0.0010\n",
            "Epoch 88/100\n",
            "\u001b[1m156/158\u001b[0m \u001b[32m━━━━━━━━━━━━━━━━━━━\u001b[0m\u001b[37m━\u001b[0m \u001b[1m0s\u001b[0m 21ms/step - loss: 89450280.0000 - mean_absolute_error: 7483.6768 - mean_absolute_percentage_error: 5.7281"
          ]
        },
        {
          "output_type": "stream",
          "name": "stderr",
          "text": [
            "WARNING:absl:You are saving your model as an HDF5 file via `model.save()` or `keras.saving.save_model(model)`. This file format is considered legacy. We recommend using instead the native Keras format, e.g. `model.save('my_model.keras')` or `keras.saving.save_model(model, 'my_model.keras')`. \n"
          ]
        },
        {
          "output_type": "stream",
          "name": "stdout",
          "text": [
            "\b\b\b\b\b\b\b\b\b\b\b\b\b\b\b\b\b\b\b\b\b\b\b\b\b\b\b\b\b\b\b\b\b\b\b\b\b\b\b\b\b\b\b\b\b\b\b\b\b\b\b\b\b\b\b\b\b\b\b\b\b\b\b\b\b\b\b\b\b\b\b\b\b\b\b\b\b\b\b\b\b\b\b\b\b\b\b\b\b\b\b\b\b\b\b\b\b\b\b\b\b\b\b\b\b\b\b\b\b\b\b\b\b\b\b\b\b\b\b\b\b\b\b\b\b\b\b\b\b\b\b\b\b\b\b\b\b\r\u001b[1m158/158\u001b[0m \u001b[32m━━━━━━━━━━━━━━━━━━━━\u001b[0m\u001b[37m\u001b[0m \u001b[1m4s\u001b[0m 24ms/step - loss: 89459320.0000 - mean_absolute_error: 7484.2246 - mean_absolute_percentage_error: 5.7286 - val_loss: 51825876.0000 - val_mean_absolute_error: 3431.0818 - val_mean_absolute_percentage_error: 1.9140 - learning_rate: 0.0010\n",
            "Epoch 89/100\n",
            "\u001b[1m158/158\u001b[0m \u001b[32m━━━━━━━━━━━━━━━━━━━━\u001b[0m\u001b[37m\u001b[0m \u001b[1m4s\u001b[0m 22ms/step - loss: 90280264.0000 - mean_absolute_error: 7547.4116 - mean_absolute_percentage_error: 5.7821 - val_loss: 53632480.0000 - val_mean_absolute_error: 3405.6990 - val_mean_absolute_percentage_error: 1.8645 - learning_rate: 0.0010\n",
            "Epoch 90/100\n",
            "\u001b[1m158/158\u001b[0m \u001b[32m━━━━━━━━━━━━━━━━━━━━\u001b[0m\u001b[37m\u001b[0m \u001b[1m4s\u001b[0m 22ms/step - loss: 89831400.0000 - mean_absolute_error: 7520.6455 - mean_absolute_percentage_error: 5.7621 - val_loss: 52319796.0000 - val_mean_absolute_error: 3516.9341 - val_mean_absolute_percentage_error: 1.9232 - learning_rate: 0.0010\n",
            "Epoch 91/100\n",
            "\u001b[1m158/158\u001b[0m \u001b[32m━━━━━━━━━━━━━━━━━━━━\u001b[0m\u001b[37m\u001b[0m \u001b[1m4s\u001b[0m 23ms/step - loss: 91970144.0000 - mean_absolute_error: 7589.4321 - mean_absolute_percentage_error: 5.8049 - val_loss: 52918212.0000 - val_mean_absolute_error: 3528.8516 - val_mean_absolute_percentage_error: 1.9481 - learning_rate: 0.0010\n",
            "Epoch 92/100\n",
            "\u001b[1m158/158\u001b[0m \u001b[32m━━━━━━━━━━━━━━━━━━━━\u001b[0m\u001b[37m\u001b[0m \u001b[1m3s\u001b[0m 22ms/step - loss: 90260888.0000 - mean_absolute_error: 7540.1157 - mean_absolute_percentage_error: 5.7747 - val_loss: 57153588.0000 - val_mean_absolute_error: 3240.5225 - val_mean_absolute_percentage_error: 1.7494 - learning_rate: 0.0010\n",
            "Epoch 93/100\n",
            "\u001b[1m158/158\u001b[0m \u001b[32m━━━━━━━━━━━━━━━━━━━━\u001b[0m\u001b[37m\u001b[0m \u001b[1m3s\u001b[0m 22ms/step - loss: 89933736.0000 - mean_absolute_error: 7524.7573 - mean_absolute_percentage_error: 5.7647 - val_loss: 52434148.0000 - val_mean_absolute_error: 3414.3081 - val_mean_absolute_percentage_error: 1.8683 - learning_rate: 0.0010\n",
            "Epoch 94/100\n",
            "\u001b[1m158/158\u001b[0m \u001b[32m━━━━━━━━━━━━━━━━━━━━\u001b[0m\u001b[37m\u001b[0m \u001b[1m4s\u001b[0m 25ms/step - loss: 91925360.0000 - mean_absolute_error: 7610.7520 - mean_absolute_percentage_error: 5.8288 - val_loss: 53617512.0000 - val_mean_absolute_error: 3859.9517 - val_mean_absolute_percentage_error: 2.1342 - learning_rate: 5.0000e-04\n",
            "Epoch 95/100\n",
            "\u001b[1m157/158\u001b[0m \u001b[32m━━━━━━━━━━━━━━━━━━━\u001b[0m\u001b[37m━\u001b[0m \u001b[1m0s\u001b[0m 20ms/step - loss: 89607056.0000 - mean_absolute_error: 7484.3301 - mean_absolute_percentage_error: 5.7295"
          ]
        },
        {
          "output_type": "stream",
          "name": "stderr",
          "text": [
            "WARNING:absl:You are saving your model as an HDF5 file via `model.save()` or `keras.saving.save_model(model)`. This file format is considered legacy. We recommend using instead the native Keras format, e.g. `model.save('my_model.keras')` or `keras.saving.save_model(model, 'my_model.keras')`. \n"
          ]
        },
        {
          "output_type": "stream",
          "name": "stdout",
          "text": [
            "\b\b\b\b\b\b\b\b\b\b\b\b\b\b\b\b\b\b\b\b\b\b\b\b\b\b\b\b\b\b\b\b\b\b\b\b\b\b\b\b\b\b\b\b\b\b\b\b\b\b\b\b\b\b\b\b\b\b\b\b\b\b\b\b\b\b\b\b\b\b\b\b\b\b\b\b\b\b\b\b\b\b\b\b\b\b\b\b\b\b\b\b\b\b\b\b\b\b\b\b\b\b\b\b\b\b\b\b\b\b\b\b\b\b\b\b\b\b\b\b\b\b\b\b\b\b\b\b\b\b\b\b\b\b\b\b\b\r\u001b[1m158/158\u001b[0m \u001b[32m━━━━━━━━━━━━━━━━━━━━\u001b[0m\u001b[37m\u001b[0m \u001b[1m4s\u001b[0m 23ms/step - loss: 89610656.0000 - mean_absolute_error: 7484.5073 - mean_absolute_percentage_error: 5.7297 - val_loss: 49134716.0000 - val_mean_absolute_error: 3082.3240 - val_mean_absolute_percentage_error: 1.6690 - learning_rate: 5.0000e-04\n",
            "Epoch 96/100\n",
            "\u001b[1m158/158\u001b[0m \u001b[32m━━━━━━━━━━━━━━━━━━━━\u001b[0m\u001b[37m\u001b[0m \u001b[1m3s\u001b[0m 22ms/step - loss: 89841656.0000 - mean_absolute_error: 7508.1440 - mean_absolute_percentage_error: 5.7523 - val_loss: 50197948.0000 - val_mean_absolute_error: 3217.9595 - val_mean_absolute_percentage_error: 1.7443 - learning_rate: 5.0000e-04\n",
            "Epoch 97/100\n",
            "\u001b[1m158/158\u001b[0m \u001b[32m━━━━━━━━━━━━━━━━━━━━\u001b[0m\u001b[37m\u001b[0m \u001b[1m4s\u001b[0m 22ms/step - loss: 90879880.0000 - mean_absolute_error: 7577.5596 - mean_absolute_percentage_error: 5.8045 - val_loss: 51625140.0000 - val_mean_absolute_error: 3175.6670 - val_mean_absolute_percentage_error: 1.7318 - learning_rate: 5.0000e-04\n",
            "Epoch 98/100\n",
            "\u001b[1m158/158\u001b[0m \u001b[32m━━━━━━━━━━━━━━━━━━━━\u001b[0m\u001b[37m\u001b[0m \u001b[1m4s\u001b[0m 23ms/step - loss: 89798728.0000 - mean_absolute_error: 7500.6855 - mean_absolute_percentage_error: 5.7466 - val_loss: 52674868.0000 - val_mean_absolute_error: 3234.6577 - val_mean_absolute_percentage_error: 1.7743 - learning_rate: 5.0000e-04\n",
            "Epoch 99/100\n",
            "\u001b[1m158/158\u001b[0m \u001b[32m━━━━━━━━━━━━━━━━━━━━\u001b[0m\u001b[37m\u001b[0m \u001b[1m4s\u001b[0m 23ms/step - loss: 89358320.0000 - mean_absolute_error: 7480.2275 - mean_absolute_percentage_error: 5.7279 - val_loss: 50827884.0000 - val_mean_absolute_error: 3130.4333 - val_mean_absolute_percentage_error: 1.6986 - learning_rate: 5.0000e-04\n",
            "Epoch 100/100\n",
            "\u001b[1m158/158\u001b[0m \u001b[32m━━━━━━━━━━━━━━━━━━━━\u001b[0m\u001b[37m\u001b[0m \u001b[1m3s\u001b[0m 22ms/step - loss: 91032152.0000 - mean_absolute_error: 7569.8042 - mean_absolute_percentage_error: 5.7928 - val_loss: 49707552.0000 - val_mean_absolute_error: 3225.3606 - val_mean_absolute_percentage_error: 1.7636 - learning_rate: 5.0000e-04\n",
            "\u001b[1m34/34\u001b[0m \u001b[32m━━━━━━━━━━━━━━━━━━━━\u001b[0m\u001b[37m\u001b[0m \u001b[1m2s\u001b[0m 40ms/step\n",
            "Test MAE:  7196.3960\n",
            "Test MAPE: 0.0388\n",
            "Test RMSE: 8688.3577\n",
            "\u001b[1m1/1\u001b[0m \u001b[32m━━━━━━━━━━━━━━━━━━━━\u001b[0m\u001b[37m\u001b[0m \u001b[1m1s\u001b[0m 700ms/step\n",
            "Predicted next close: 174999.02\n"
          ]
        },
        {
          "output_type": "stream",
          "name": "stderr",
          "text": [
            "/tmp/ipython-input-2759997566.py:293: DeprecationWarning: Conversion of an array with ndim > 0 to a scalar is deprecated, and will error in future. Ensure you extract a single element from your array before performing this operation. (Deprecated NumPy 1.25.)\n",
            "  next_close_pred = float(model.predict(latest_window))\n"
          ]
        }
      ],
      "source": [
        "import os\n",
        "import math\n",
        "import numpy as np\n",
        "import pandas as pd\n",
        "from datetime import datetime\n",
        "\n",
        "import tensorflow as tf\n",
        "from tensorflow.keras import layers, models, callbacks\n",
        "\n",
        "from sklearn.preprocessing import StandardScaler\n",
        "from sklearn.metrics import mean_absolute_error, mean_absolute_percentage_error\n",
        "\n",
        "# -----------------------------\n",
        "# Config\n",
        "# -----------------------------\n",
        "CSV_FILE = \"/content/XAUUSDh1.csv\"   # ensure this file exists in your working directory\n",
        "DATE_COL = \"Date\"\n",
        "SEQ_LEN = 64\n",
        "VAL_RATIO = 0.15\n",
        "TEST_RATIO = 0.15\n",
        "BATCH_SIZE = 256\n",
        "EPOCHS = 100\n",
        "LR = 1e-3\n",
        "NUM_HEADS = 4\n",
        "KEY_DIM = 64\n",
        "FF_DIM = 128\n",
        "NUM_ENCODER_BLOCKS = 2\n",
        "DROPOUT = 0.1\n",
        "SEED = 42\n",
        "\n",
        "tf.random.set_seed(SEED)\n",
        "np.random.seed(SEED)\n",
        "\n",
        "# -----------------------------\n",
        "# Utilities: Indicators & Feature Engineering\n",
        "# -----------------------------\n",
        "def ema(series: pd.Series, span: int) -> pd.Series:\n",
        "    return series.ewm(span=span, adjust=False).mean()\n",
        "\n",
        "def rsi(series: pd.Series, period: int = 14) -> pd.Series:\n",
        "    delta = series.diff()\n",
        "    gain = np.where(delta > 0, delta, 0.0)\n",
        "    loss = np.where(delta < 0, -delta, 0.0)\n",
        "    gain = pd.Series(gain, index=series.index)\n",
        "    loss = pd.Series(loss, index=series.index)\n",
        "    avg_gain = gain.ewm(alpha=1/period, min_periods=period, adjust=False).mean()\n",
        "    avg_loss = loss.ewm(alpha=1/period, min_periods=period, adjust=False).mean()\n",
        "    rs = avg_gain / (avg_loss + 1e-12)\n",
        "    rsi = 100 - (100 / (1 + rs))\n",
        "    return rsi\n",
        "\n",
        "def true_range(high: pd.Series, low: pd.Series, close: pd.Series) -> pd.Series:\n",
        "    prev_close = close.shift(1)\n",
        "    tr1 = (high - low).abs()\n",
        "    tr2 = (high - prev_close).abs()\n",
        "    tr3 = (low - prev_close).abs()\n",
        "    return pd.concat([tr1, tr2, tr3], axis=1).max(axis=1)\n",
        "\n",
        "def atr(high: pd.Series, low: pd.Series, close: pd.Series, period: int = 14) -> pd.Series:\n",
        "    tr = true_range(high, low, close)\n",
        "    return tr.ewm(alpha=1/period, adjust=False).mean()\n",
        "\n",
        "def macd(close: pd.Series, fast: int = 12, slow: int = 26, signal: int = 9):\n",
        "    ema_fast = ema(close, fast)\n",
        "    ema_slow = ema(close, slow)\n",
        "    macd_line = ema_fast - ema_slow\n",
        "    signal_line = ema(macd_line, signal)\n",
        "    hist = macd_line - signal_line\n",
        "    return macd_line, signal_line, hist\n",
        "\n",
        "def bollinger(close: pd.Series, period: int = 20, num_std: float = 2.0):\n",
        "    ma = close.rolling(window=period, min_periods=period).mean()\n",
        "    sd = close.rolling(window=period, min_periods=period).std()\n",
        "    upper = ma + num_std * sd\n",
        "    lower = ma - num_std * sd\n",
        "    width = upper - lower\n",
        "    pctb = (close - lower) / (upper - lower + 1e-12)\n",
        "    return ma, upper, lower, width, pctb\n",
        "\n",
        "# -----------------------------\n",
        "# Load & Prepare Data\n",
        "# -----------------------------\n",
        "df = pd.read_csv(CSV_FILE)\n",
        "# Basic validation\n",
        "required_cols = {\"open\", \"high\", \"low\", \"close\", \"tick_volume\", DATE_COL}\n",
        "missing = required_cols - set(df.columns)\n",
        "if missing:\n",
        "    raise ValueError(f\"Missing columns in CSV: {missing}\")\n",
        "\n",
        "# Ensure time order\n",
        "df[DATE_COL] = pd.to_datetime(df[DATE_COL])\n",
        "df = df.sort_values(DATE_COL).reset_index(drop=True)\n",
        "\n",
        "# -----------------------------\n",
        "# Feature Engineering\n",
        "# -----------------------------\n",
        "open_ = df[\"open\"].astype(float)\n",
        "high = df[\"high\"].astype(float)\n",
        "low = df[\"low\"].astype(float)\n",
        "close = df[\"close\"].astype(float)\n",
        "vol = df[\"tick_volume\"].astype(float)\n",
        "\n",
        "# Core features\n",
        "df_feat = pd.DataFrame(index=df.index)\n",
        "df_feat[\"close\"] = close\n",
        "df_feat[\"return\"] = close.pct_change().fillna(0.0)\n",
        "df_feat[\"price_change\"] = close.diff().fillna(0.0)\n",
        "df_feat[\"hl_spread\"] = (high - low)\n",
        "df_feat[\"oc_spread\"] = (open_ - close)\n",
        "df_feat[\"vol_chg\"] = vol.diff().fillna(0.0)\n",
        "df_feat[\"log_vol\"] = np.log1p(vol)\n",
        "\n",
        "# Volatility\n",
        "df_feat[\"ret_vol_24\"] = df_feat[\"return\"].rolling(window=24, min_periods=24).std().fillna(method=\"bfill\")\n",
        "df_feat[\"ret_vol_72\"] = df_feat[\"return\"].rolling(window=72, min_periods=72).std().fillna(method=\"bfill\")\n",
        "\n",
        "# ATR\n",
        "df_feat[\"atr_14\"] = atr(high, low, close, period=14).fillna(method=\"bfill\")\n",
        "\n",
        "# RSI\n",
        "df_feat[\"rsi_14\"] = rsi(close, period=14).fillna(method=\"bfill\")\n",
        "\n",
        "# MACD\n",
        "macd_line, signal_line, hist = macd(close, fast=12, slow=26, signal=9)\n",
        "df_feat[\"macd\"] = macd_line.fillna(method=\"bfill\")\n",
        "df_feat[\"macd_signal\"] = signal_line.fillna(method=\"bfill\")\n",
        "df_feat[\"macd_hist\"] = hist.fillna(method=\"bfill\")\n",
        "\n",
        "# EMAs\n",
        "df_feat[\"ema_20\"] = ema(close, 20).fillna(method=\"bfill\")\n",
        "df_feat[\"ema_50\"] = ema(close, 50).fillna(method=\"bfill\")\n",
        "df_feat[\"ema_ratio_20_50\"] = (df_feat[\"ema_20\"] / (df_feat[\"ema_50\"] + 1e-12))\n",
        "\n",
        "# Bollinger Bands\n",
        "ma20, upper20, lower20, width20, pctb20 = bollinger(close, period=20, num_std=2.0)\n",
        "df_feat[\"bb_ma20\"] = ma20.fillna(method=\"bfill\")\n",
        "df_feat[\"bb_upper20\"] = upper20.fillna(method=\"bfill\")\n",
        "df_feat[\"bb_lower20\"] = lower20.fillna(method=\"bfill\")\n",
        "df_feat[\"bb_width20\"] = width20.fillna(method=\"bfill\")\n",
        "df_feat[\"bb_pctb20\"] = pctb20.fillna(method=\"bfill\")\n",
        "\n",
        "# Target: next close\n",
        "df_feat[\"target_next_close\"] = df[\"close\"].shift(-1)\n",
        "\n",
        "# Drop last row with NaN target\n",
        "df_feat = df_feat.iloc[:-1].copy()\n",
        "\n",
        "# -----------------------------\n",
        "# Train/Val/Test Split (time-aware)\n",
        "# -----------------------------\n",
        "N = len(df_feat)\n",
        "test_size = int(N * TEST_RATIO)\n",
        "val_size = int(N * VAL_RATIO)\n",
        "train_size = N - val_size - test_size\n",
        "\n",
        "train_df = df_feat.iloc[:train_size]\n",
        "val_df   = df_feat.iloc[train_size:train_size+val_size]\n",
        "test_df  = df_feat.iloc[train_size+val_size:]\n",
        "\n",
        "feature_cols = [c for c in df_feat.columns if c != \"target_next_close\"]\n",
        "target_col = \"target_next_close\"\n",
        "\n",
        "X_train = train_df[feature_cols].values\n",
        "y_train = train_df[target_col].values\n",
        "\n",
        "X_val = val_df[feature_cols].values\n",
        "y_val = val_df[target_col].values\n",
        "\n",
        "X_test = test_df[feature_cols].values\n",
        "y_test = test_df[target_col].values\n",
        "\n",
        "# -----------------------------\n",
        "# Scaling (fit on train only)\n",
        "# -----------------------------\n",
        "scaler = StandardScaler()\n",
        "X_train_scaled = scaler.fit_transform(X_train)\n",
        "X_val_scaled = scaler.transform(X_val)\n",
        "X_test_scaled = scaler.transform(X_test)\n",
        "\n",
        "# -----------------------------\n",
        "# Sequence Building\n",
        "# -----------------------------\n",
        "def build_sequences(X, y, seq_len=SEQ_LEN):\n",
        "    X_seq, y_seq = [], []\n",
        "    for i in range(len(X) - seq_len + 1):\n",
        "        X_seq.append(X[i:i+seq_len])\n",
        "        # predict next close at the time aligned with the last step in window\n",
        "        y_seq.append(y[i+seq_len-1])\n",
        "    return np.array(X_seq, dtype=np.float32), np.array(y_seq, dtype=np.float32)\n",
        "\n",
        "Xtr_seq, ytr_seq = build_sequences(X_train_scaled, y_train, SEQ_LEN)\n",
        "Xval_seq, yval_seq = build_sequences(X_val_scaled, y_val, SEQ_LEN)\n",
        "Xte_seq, yte_seq = build_sequences(X_test_scaled, y_test, SEQ_LEN)\n",
        "\n",
        "num_features = Xtr_seq.shape[-1]\n",
        "\n",
        "# -----------------------------\n",
        "# Positional Encoding\n",
        "# -----------------------------\n",
        "def positional_encoding(seq_len, d_model):\n",
        "    pos = np.arange(seq_len)[:, np.newaxis]\n",
        "    i = np.arange(d_model)[np.newaxis, :]\n",
        "    angle_rates = 1 / np.power(10000, (2 * (i // 2)) / np.float32(d_model))\n",
        "    angles = pos * angle_rates\n",
        "    pe = np.zeros((seq_len, d_model), dtype=np.float32)\n",
        "    pe[:, 0::2] = np.sin(angles[:, 0::2])\n",
        "    pe[:, 1::2] = np.cos(angles[:, 1::2])\n",
        "    return tf.constant(pe)\n",
        "\n",
        "class AddPositionalEncoding(layers.Layer):\n",
        "    def __init__(self, seq_len, d_model, **kwargs):\n",
        "        super().__init__(**kwargs)\n",
        "        self.seq_len = seq_len\n",
        "        self.d_model = d_model\n",
        "        self.pe = positional_encoding(seq_len, d_model)\n",
        "\n",
        "    def call(self, x):\n",
        "        # x: (batch, seq_len, d_model)\n",
        "        return x + self.pe\n",
        "\n",
        "# -----------------------------\n",
        "# Transformer Encoder Block\n",
        "# -----------------------------\n",
        "def transformer_encoder(x, num_heads=NUM_HEADS, key_dim=KEY_DIM, ff_dim=FF_DIM, dropout=DROPOUT):\n",
        "    attn_out = layers.MultiHeadAttention(num_heads=num_heads, key_dim=key_dim, dropout=dropout)(x, x)\n",
        "    x = layers.Add()([x, attn_out])\n",
        "    x = layers.LayerNormalization(epsilon=1e-6)(x)\n",
        "    ff = layers.Dense(ff_dim, activation=\"relu\")(x)\n",
        "    ff = layers.Dropout(dropout)(ff)\n",
        "    ff = layers.Dense(x.shape[-1], activation=None)(ff)\n",
        "    x = layers.Add()([x, ff])\n",
        "    x = layers.LayerNormalization(epsilon=1e-6)(x)\n",
        "    return x\n",
        "\n",
        "# -----------------------------\n",
        "# Build Model\n",
        "# -----------------------------\n",
        "inputs = layers.Input(shape=(SEQ_LEN, num_features))\n",
        "# Project features to model dimension\n",
        "x = layers.Dense(KEY_DIM, activation=\"linear\")(inputs)\n",
        "x = AddPositionalEncoding(seq_len=SEQ_LEN, d_model=KEY_DIM)(x)\n",
        "\n",
        "for _ in range(NUM_ENCODER_BLOCKS):\n",
        "    x = transformer_encoder(x, num_heads=NUM_HEADS, key_dim=KEY_DIM, ff_dim=FF_DIM, dropout=DROPOUT)\n",
        "\n",
        "x = layers.GlobalAveragePooling1D()(x)\n",
        "x = layers.Dropout(DROPOUT)(x)\n",
        "x = layers.Dense(64, activation=\"relu\")(x)\n",
        "x = layers.Dropout(DROPOUT)(x)\n",
        "outputs = layers.Dense(1, activation=\"linear\")(x)\n",
        "\n",
        "model = models.Model(inputs, outputs)\n",
        "model.compile(optimizer=tf.keras.optimizers.Adam(learning_rate=LR),\n",
        "              loss=\"mse\",\n",
        "              metrics=[tf.keras.metrics.MAE, tf.keras.metrics.MAPE])\n",
        "\n",
        "model.summary()\n",
        "\n",
        "# -----------------------------\n",
        "# Training\n",
        "# -----------------------------\n",
        "es = callbacks.EarlyStopping(monitor=\"val_loss\", patience=10, restore_best_weights=True)\n",
        "rlrp = callbacks.ReduceLROnPlateau(monitor=\"val_loss\", factor=0.5, patience=5, min_lr=1e-5)\n",
        "ckpt = callbacks.ModelCheckpoint(\"xau_transformer_best.h5\", monitor=\"val_loss\", save_best_only=True)\n",
        "\n",
        "history = model.fit(\n",
        "    Xtr_seq, ytr_seq,\n",
        "    validation_data=(Xval_seq, yval_seq),\n",
        "    epochs=EPOCHS,\n",
        "    batch_size=BATCH_SIZE,\n",
        "    callbacks=[es, rlrp, ckpt],\n",
        "    verbose=1\n",
        ")\n",
        "\n",
        "# -----------------------------\n",
        "# Evaluation\n",
        "# -----------------------------\n",
        "y_pred = model.predict(Xte_seq, batch_size=BATCH_SIZE).ravel()\n",
        "mae = mean_absolute_error(yte_seq, y_pred)\n",
        "mape = mean_absolute_percentage_error(yte_seq, y_pred)\n",
        "rmse = math.sqrt(np.mean((y_pred - yte_seq)**2))\n",
        "\n",
        "print(f\"Test MAE:  {mae:.4f}\")\n",
        "print(f\"Test MAPE: {mape:.4f}\")\n",
        "print(f\"Test RMSE: {rmse:.4f}\")\n",
        "\n",
        "# -----------------------------\n",
        "# Inference: next-step prediction from latest window\n",
        "# -----------------------------\n",
        "# Build the last window from test set (or the latest available sequence)\n",
        "latest_window = X_test_scaled[-SEQ_LEN:]\n",
        "latest_window = latest_window[np.newaxis, ...]  # shape (1, SEQ_LEN, num_features)\n",
        "next_close_pred = float(model.predict(latest_window))\n",
        "print(f\"Predicted next close: {next_close_pred:.2f}\")\n"
      ]
    },
    {
      "cell_type": "code",
      "source": [],
      "metadata": {
        "id": "d0Ug5amdjWL2"
      },
      "execution_count": null,
      "outputs": []
    },
    {
      "cell_type": "code",
      "source": [
        "import math\n",
        "import numpy as np\n",
        "import pandas as pd\n",
        "from typing import List, Dict, Tuple\n",
        "import tensorflow\n",
        "from tensorflow.keras import layers, models, callbacks\n",
        "import tensorflow as tf\n",
        "from sklearn.preprocessing import StandardScaler\n",
        "from sklearn.metrics import mean_absolute_error, mean_absolute_percentage_error\n",
        "\n",
        "# -----------------------------\n",
        "# Config\n",
        "# -----------------------------\n",
        "CSV_FILE = \"/content/XAUUSDh1.csv\"   # path to your CSV\n",
        "DATE_COL = \"Date\"\n",
        "SEQ_LEN = 128              # longer context generally helps\n",
        "BATCH_SIZE = 256\n",
        "EPOCHS = 50                # set lower for quick runs; increase after validation\n",
        "LR = 1e-3\n",
        "NUM_HEADS = 4\n",
        "KEY_DIM = 64\n",
        "FF_DIM = 128\n",
        "NUM_ENCODER_BLOCKS = 2\n",
        "DROPOUT = 0.1\n",
        "EMBED_DIM = 32\n",
        "TAU = 0.1           # temperature for InfoNCE\n",
        "ALPHA = 0.2         # weight for contrastive loss vs forecast loss\n",
        "SEED = 42\n",
        "\n",
        "# Walk-forward split ratios (fractions of total samples per fold)\n",
        "INITIAL_TRAIN_RATIO = 0.6\n",
        "VAL_RATIO = 0.1\n",
        "TEST_RATIO = 0.1\n",
        "# The remaining ~0.2 will be covered by subsequent folds via walk-forward\n",
        "\n",
        "tf.random.set_seed(SEED)\n",
        "np.random.seed(SEED)\n",
        "\n",
        "# -----------------------------\n",
        "# Feature Engineering Utilities\n",
        "# -----------------------------\n",
        "def ema(series: pd.Series, span: int) -> pd.Series:\n",
        "    return series.ewm(span=span, adjust=False).mean()\n",
        "\n",
        "def rsi(series: pd.Series, period: int = 14) -> pd.Series:\n",
        "    delta = series.diff()\n",
        "    gain = np.where(delta > 0, delta, 0.0)\n",
        "    loss = np.where(delta < 0, -delta, 0.0)\n",
        "    gain = pd.Series(gain, index=series.index)\n",
        "    loss = pd.Series(loss, index=series.index)\n",
        "    avg_gain = gain.ewm(alpha=1/period, min_periods=period, adjust=False).mean()\n",
        "    avg_loss = loss.ewm(alpha=1/period, min_periods=period, adjust=False).mean()\n",
        "    rs = avg_gain / (avg_loss + 1e-12)\n",
        "    rsi_val = 100 - (100 / (1 + rs))\n",
        "    return rsi_val\n",
        "\n",
        "def true_range(high: pd.Series, low: pd.Series, close: pd.Series) -> pd.Series:\n",
        "    prev_close = close.shift(1)\n",
        "    tr1 = (high - low).abs()\n",
        "    tr2 = (high - prev_close).abs()\n",
        "    tr3 = (low - prev_close).abs()\n",
        "    return pd.concat([tr1, tr2, tr3], axis=1).max(axis=1)\n",
        "\n",
        "def atr(high: pd.Series, low: pd.Series, close: pd.Series, period: int = 14) -> pd.Series:\n",
        "    tr = true_range(high, low, close)\n",
        "    return tr.ewm(alpha=1/period, adjust=False).mean()\n",
        "\n",
        "def macd(close: pd.Series, fast: int = 12, slow: int = 26, signal: int = 9):\n",
        "    ema_fast = ema(close, fast)\n",
        "    ema_slow = ema(close, slow)\n",
        "    macd_line = ema_fast - ema_slow\n",
        "    signal_line = ema(macd_line, signal)\n",
        "    hist = macd_line - signal_line\n",
        "    return macd_line, signal_line, hist\n",
        "\n",
        "def bollinger(close: pd.Series, period: int = 20, num_std: float = 2.0):\n",
        "    ma = close.rolling(window=period, min_periods=period).mean()\n",
        "    sd = close.rolling(window=period, min_periods=period).std()\n",
        "    upper = ma + num_std * sd\n",
        "    lower = ma - num_std * sd\n",
        "    width = upper - lower\n",
        "    pctb = (close - lower) / (upper - lower + 1e-12)\n",
        "    return ma, upper, lower, width, pctb\n",
        "\n",
        "# -----------------------------\n",
        "# Data Loading and Features\n",
        "# -----------------------------\n",
        "def load_and_engineer(csv_file: str, date_col: str) -> pd.DataFrame:\n",
        "    df = pd.read_csv(csv_file)\n",
        "    required_cols = {\"open\", \"high\", \"low\", \"close\", \"tick_volume\", date_col}\n",
        "    missing = required_cols - set(df.columns)\n",
        "    if missing:\n",
        "        raise ValueError(f\"Missing columns in CSV: {missing}\")\n",
        "\n",
        "    df[date_col] = pd.to_datetime(df[date_col])\n",
        "    df = df.sort_values(date_col).reset_index(drop=True)\n",
        "\n",
        "    open_ = df[\"open\"].astype(float)\n",
        "    high = df[\"high\"].astype(float)\n",
        "    low = df[\"low\"].astype(float)\n",
        "    close = df[\"close\"].astype(float)\n",
        "    vol = df[\"tick_volume\"].astype(float)\n",
        "\n",
        "    feat = pd.DataFrame(index=df.index)\n",
        "    feat[\"close\"] = close\n",
        "    feat[\"ret\"] = close.pct_change().fillna(0.0)\n",
        "    feat[\"log_ret\"] = np.log1p(feat[\"ret\"]).fillna(0.0)\n",
        "    feat[\"price_change\"] = close.diff().fillna(0.0)\n",
        "    feat[\"hl_spread\"] = (high - low)\n",
        "    feat[\"oc_spread\"] = (open_ - close)\n",
        "    feat[\"log_vol\"] = np.log1p(vol)\n",
        "    feat[\"vol_chg\"] = vol.diff().fillna(0.0)\n",
        "\n",
        "    # Volatility\n",
        "    feat[\"ret_vol_24\"] = feat[\"ret\"].rolling(window=24, min_periods=24).std().fillna(method=\"bfill\")\n",
        "    feat[\"ret_vol_72\"] = feat[\"ret\"].rolling(window=72, min_periods=72).std().fillna(method=\"bfill\")\n",
        "\n",
        "    # ATR\n",
        "    feat[\"atr_14\"] = atr(high, low, close, period=14).fillna(method=\"bfill\")\n",
        "\n",
        "    # RSI\n",
        "    feat[\"rsi_14\"] = rsi(close, period=14).fillna(method=\"bfill\")\n",
        "\n",
        "    # MACD\n",
        "    macd_line, signal_line, hist = macd(close, fast=12, slow=26, signal=9)\n",
        "    feat[\"macd\"] = macd_line.fillna(method=\"bfill\")\n",
        "    feat[\"macd_signal\"] = signal_line.fillna(method=\"bfill\")\n",
        "    feat[\"macd_hist\"] = hist.fillna(method=\"bfill\")\n",
        "\n",
        "    # EMAs\n",
        "    feat[\"ema_20\"] = ema(close, 20).fillna(method=\"bfill\")\n",
        "    feat[\"ema_50\"] = ema(close, 50).fillna(method=\"bfill\")\n",
        "    feat[\"ema_ratio_20_50\"] = (feat[\"ema_20\"] / (feat[\"ema_50\"] + 1e-12))\n",
        "\n",
        "    # Bollinger\n",
        "    ma20, upper20, lower20, width20, pctb20 = bollinger(close, period=20, num_std=2.0)\n",
        "    feat[\"bb_ma20\"] = ma20.fillna(method=\"bfill\")\n",
        "    feat[\"bb_upper20\"] = upper20.fillna(method=\"bfill\")\n",
        "    feat[\"bb_lower20\"] = lower20.fillna(method=\"bfill\")\n",
        "    feat[\"bb_width20\"] = width20.fillna(method=\"bfill\")\n",
        "    feat[\"bb_pctb20\"] = pctb20.fillna(method=\"bfill\")\n",
        "\n",
        "    # Target: next-step return\n",
        "    feat[\"target_next_ret\"] = feat[\"ret\"].shift(-1)\n",
        "    feat[\"target_next_close\"] = df[\"close\"].shift(-1)\n",
        "\n",
        "    # Drop last row with NaN target\n",
        "    feat = feat.iloc[:-1].copy()\n",
        "    feat[date_col] = df[date_col].iloc[:-1].values\n",
        "    return feat\n",
        "\n",
        "# -----------------------------\n",
        "# Sequence/Pair Builders\n",
        "# -----------------------------\n",
        "def build_anchor_positive_pairs(X: np.ndarray, y: np.ndarray, seq_len: int) -> Tuple[np.ndarray, np.ndarray, np.ndarray]:\n",
        "    Xa, Xp, ya = [], [], []\n",
        "    # Positive is the adjacent next window (shifted by 1)\n",
        "    for i in range(len(X) - seq_len - 0):\n",
        "        j = i + 1\n",
        "        if j + seq_len - 1 >= len(X):\n",
        "            break\n",
        "        Xa.append(X[i:i+seq_len])\n",
        "        Xp.append(X[j:j+seq_len])\n",
        "        ya.append(y[i+seq_len-1])  # predict next ret at the end of anchor window\n",
        "    return np.array(Xa, dtype=np.float32), np.array(Xp, dtype=np.float32), np.array(ya, dtype=np.float32)\n",
        "\n",
        "def make_dataset(Xa, Xp, ya, batch_size=BATCH_SIZE, shuffle=True):\n",
        "    ds = tf.data.Dataset.from_tensor_slices(((Xa, Xp), ya))\n",
        "    if shuffle:\n",
        "        ds = ds.shuffle(buffer_size=len(ya), seed=SEED)\n",
        "    ds = ds.batch(batch_size).prefetch(tf.data.AUTOTUNE)\n",
        "    return ds\n",
        "\n",
        "# -----------------------------\n",
        "# Positional Encoding\n",
        "# -----------------------------\n",
        "def positional_encoding(seq_len, d_model):\n",
        "    pos = np.arange(seq_len)[:, np.newaxis]\n",
        "    i = np.arange(d_model)[np.newaxis, :]\n",
        "    angle_rates = 1 / np.power(10000, (2 * (i // 2)) / np.float32(d_model))\n",
        "    angles = pos * angle_rates\n",
        "    pe = np.zeros((seq_len, d_model), dtype=np.float32)\n",
        "    pe[:, 0::2] = np.sin(angles[:, 0::2])\n",
        "    pe[:, 1::2] = np.cos(angles[:, 1::2])\n",
        "    return tf.constant(pe)\n",
        "\n",
        "class AddPositionalEncoding(layers.Layer):\n",
        "    def __init__(self, seq_len, d_model, **kwargs):\n",
        "        super().__init__(**kwargs)\n",
        "        self.pe = positional_encoding(seq_len, d_model)\n",
        "\n",
        "    def call(self, x):\n",
        "        return x + self.pe\n",
        "\n",
        "# -----------------------------\n",
        "# Transformer Encoder Block\n",
        "# -----------------------------\n",
        "class TransformerEncoderBlock(layers.Layer):\n",
        "    def __init__(self, num_heads, key_dim, ff_dim, dropout=0.1):\n",
        "        super().__init__()\n",
        "        self.mha = layers.MultiHeadAttention(num_heads=num_heads, key_dim=key_dim, dropout=dropout)\n",
        "        self.norm1 = layers.LayerNormalization(epsilon=1e-6)\n",
        "        self.norm2 = layers.LayerNormalization(epsilon=1e-6)\n",
        "        self.ffn = models.Sequential([\n",
        "            layers.Dense(ff_dim, activation=\"relu\"),\n",
        "            layers.Dropout(dropout),\n",
        "            layers.Dense(key_dim)  # project back to key_dim\n",
        "        ])\n",
        "        self.dropout = layers.Dropout(dropout)\n",
        "\n",
        "    def call(self, x, training=False):\n",
        "        attn_out = self.mha(x, x, training=training)\n",
        "        x = self.norm1(x + attn_out)\n",
        "        ffn_out = self.ffn(x, training=training)\n",
        "        x = self.norm2(x + ffn_out)\n",
        "        return x\n",
        "\n",
        "# -----------------------------\n",
        "# Dual-head Model with custom train_step (InfoNCE + MSE)\n",
        "# -----------------------------\n",
        "class DualHeadModel(tf.keras.Model):\n",
        "    def __init__(self, seq_len, key_dim, embed_dim,\n",
        "                 num_heads=4, ff_dim=128, num_blocks=2, dropout=0.1, **kwargs):\n",
        "        super().__init__(**kwargs)\n",
        "        # Projection + positional encoding\n",
        "        self.proj = layers.Dense(key_dim)\n",
        "        self.posenc = AddPositionalEncoding(seq_len, key_dim)\n",
        "        # Stack of encoder blocks\n",
        "        self.encoders = [TransformerEncoderBlock(num_heads, key_dim, ff_dim, dropout)\n",
        "                         for _ in range(num_blocks)]\n",
        "        # Pooling + dropout\n",
        "        self.pool = layers.GlobalAveragePooling1D()\n",
        "        self.dropout = layers.Dropout(dropout)\n",
        "        # Embedding head\n",
        "        self.emb_dense = layers.Dense(embed_dim, name=\"embedding\")\n",
        "        # Regression head\n",
        "        self.reg_dense1 = layers.Dense(64, activation=\"relu\")\n",
        "        self.reg_out = layers.Dense(1, name=\"forecast\")\n",
        "        # Metrics\n",
        "        self.mae_metric = tf.keras.metrics.MeanAbsoluteError(name=\"forecast_mae\")\n",
        "        self.mape_metric = tf.keras.metrics.MeanAbsolutePercentageError(name=\"forecast_mape\")\n",
        "\n",
        "    def encode(self, x, training=False):\n",
        "        x = self.proj(x)\n",
        "        x = self.posenc(x)\n",
        "        for enc in self.encoders:\n",
        "            x = enc(x, training=training)\n",
        "        x = self.pool(x)\n",
        "        x = self.dropout(x, training=training)\n",
        "        return x\n",
        "\n",
        "    def call(self, inputs, training=False):\n",
        "        xa, xp = inputs\n",
        "        fa = self.encode(xa, training=training)\n",
        "        fp = self.encode(xp, training=training)\n",
        "        ea = tf.linalg.l2_normalize(self.emb_dense(fa), axis=1)\n",
        "        ep = tf.linalg.l2_normalize(self.emb_dense(fp), axis=1)\n",
        "        # Forecast from anchor path\n",
        "        r = self.dropout(fa, training=training)\n",
        "        r = self.reg_dense1(r)\n",
        "        r = self.dropout(r, training=training)\n",
        "        yhat = self.reg_out(r)\n",
        "        return ea, ep, yhat\n",
        "\n",
        "    def info_nce(self, ea, ep, tau=0.1):\n",
        "        logits = tf.matmul(ea, ep, transpose_b=True) / tau\n",
        "        batch_size = tf.shape(logits)[0]\n",
        "        labels = tf.range(batch_size)\n",
        "        loss = tf.reduce_mean(\n",
        "            tf.keras.losses.sparse_categorical_crossentropy(labels, logits, from_logits=True)\n",
        "        )\n",
        "        return loss\n",
        "\n",
        "    def train_step(self, data):\n",
        "        (xa, xp), ya = data\n",
        "        with tf.GradientTape() as tape:\n",
        "            ea, ep, yhat = self((xa, xp), training=True)\n",
        "            forecast_loss = tf.reduce_mean(tf.keras.losses.mse(ya, tf.squeeze(yhat, axis=-1)))\n",
        "            contrastive_loss = self.info_nce(ea, ep)\n",
        "            total_loss = forecast_loss + 0.2 * contrastive_loss\n",
        "        grads = tape.gradient(total_loss, self.trainable_variables)\n",
        "        self.optimizer.apply_gradients(zip(grads, self.trainable_variables))\n",
        "        # Metrics\n",
        "        self.mae_metric.update_state(ya, tf.squeeze(yhat, axis=-1))\n",
        "        self.mape_metric.update_state(ya, tf.squeeze(yhat, axis=-1))\n",
        "        return {\n",
        "            \"loss\": total_loss,\n",
        "            \"forecast_loss\": forecast_loss,\n",
        "            \"contrastive_loss\": contrastive_loss,\n",
        "            \"forecast_mae\": self.mae_metric.result(),\n",
        "            \"forecast_mape\": self.mape_metric.result(),\n",
        "        }\n",
        "\n",
        "    def test_step(self, data):\n",
        "        (xa, xp), ya = data\n",
        "        ea, ep, yhat = self((xa, xp), training=False)\n",
        "        forecast_loss = tf.reduce_mean(tf.keras.losses.mse(ya, tf.squeeze(yhat, axis=-1)))\n",
        "        contrastive_loss = self.info_nce(ea, ep)\n",
        "        total_loss = forecast_loss + 0.2 * contrastive_loss\n",
        "        self.mae_metric.update_state(ya, tf.squeeze(yhat, axis=-1))\n",
        "        self.mape_metric.update_state(ya, tf.squeeze(yhat, axis=-1))\n",
        "        return {\n",
        "            \"loss\": total_loss,\n",
        "            \"forecast_loss\": forecast_loss,\n",
        "            \"contrastive_loss\": contrastive_loss,\n",
        "            \"forecast_mae\": self.mae_metric.result(),\n",
        "            \"forecast_mape\": self.mape_metric.result(),\n",
        "        }\n",
        "\n",
        "# -----------------------------\n",
        "# Walk-forward Split Generator\n",
        "# -----------------------------\n",
        "def generate_walk_forward_slices(N: int,\n",
        "                                 initial_train_ratio: float,\n",
        "                                 val_ratio: float,\n",
        "                                 test_ratio: float) -> List[Tuple[int, int, int, int, int, int]]:\n",
        "    \"\"\"\n",
        "    Returns list of (train_start, train_end, val_start, val_end, test_start, test_end) indices.\n",
        "    Expanding train window; fixed val/test windows; step forward by test window.\n",
        "    \"\"\"\n",
        "    initial_train = int(N * initial_train_ratio)\n",
        "    val_len = int(N * val_ratio)\n",
        "    test_len = int(N * test_ratio)\n",
        "    slices = []\n",
        "\n",
        "    train_start = 0\n",
        "    train_end = initial_train\n",
        "    val_start = train_end\n",
        "    val_end = val_start + val_len\n",
        "    test_start = val_end\n",
        "    test_end = test_start + test_len\n",
        "\n",
        "    while test_end <= N:\n",
        "        slices.append((train_start, train_end, val_start, val_end, test_start, test_end))\n",
        "        # advance: expand train to include previous val+test, then new val/test slices\n",
        "        train_end = test_end\n",
        "        val_start = train_end\n",
        "        val_end = val_start + val_len\n",
        "        test_start = val_end\n",
        "        test_end = test_start + test_len\n",
        "\n",
        "    return slices\n",
        "\n",
        "# -----------------------------\n",
        "# Fold Runner\n",
        "# -----------------------------\n",
        "def run_fold(feat_df: pd.DataFrame,\n",
        "             date_col: str,\n",
        "             indices: Tuple[int, int, int, int, int, int]) -> Dict[str, float]:\n",
        "    ts, te, vs, ve, ss, se = indices\n",
        "\n",
        "    train_df = feat_df.iloc[ts:te]\n",
        "    val_df   = feat_df.iloc[vs:ve]\n",
        "    test_df  = feat_df.iloc[ss:se]\n",
        "\n",
        "    feature_cols = [c for c in feat_df.columns if c not in [\"target_next_ret\", \"target_next_close\", date_col]]\n",
        "    target_col = \"target_next_ret\"\n",
        "\n",
        "    # Fit scalers on train\n",
        "    X_scaler = StandardScaler()\n",
        "    y_scaler = StandardScaler()\n",
        "\n",
        "    X_train = train_df[feature_cols].values\n",
        "    y_train = train_df[target_col].values.reshape(-1, 1)\n",
        "\n",
        "    X_val = val_df[feature_cols].values\n",
        "    y_val = val_df[target_col].values.reshape(-1, 1)\n",
        "\n",
        "    X_test = test_df[feature_cols].values\n",
        "    y_test = test_df[target_col].values.reshape(-1, 1)\n",
        "\n",
        "    X_train_scaled = X_scaler.fit_transform(X_train)\n",
        "    X_val_scaled   = X_scaler.transform(X_val)\n",
        "    X_test_scaled  = X_scaler.transform(X_test)\n",
        "\n",
        "    y_train_scaled = y_scaler.fit_transform(y_train).ravel()\n",
        "    y_val_scaled   = y_scaler.transform(y_val).ravel()\n",
        "    y_test_scaled  = y_scaler.transform(y_test).ravel()\n",
        "\n",
        "    Xa_tr, Xp_tr, ya_tr = build_anchor_positive_pairs(X_train_scaled, y_train_scaled, SEQ_LEN)\n",
        "    Xa_val, Xp_val, ya_val = build_anchor_positive_pairs(X_val_scaled, y_val_scaled, SEQ_LEN)\n",
        "    Xa_te, Xp_te, ya_te = build_anchor_positive_pairs(X_test_scaled, y_test_scaled, SEQ_LEN)\n",
        "\n",
        "    # If sequences are too few, skip this fold\n",
        "    if len(ya_tr) == 0 or len(ya_val) == 0 or len(ya_te) == 0:\n",
        "        return {\"skip\": 1}\n",
        "\n",
        "    train_ds = make_dataset(Xa_tr, Xp_tr, ya_tr, BATCH_SIZE, shuffle=True)\n",
        "    val_ds   = make_dataset(Xa_val, Xp_val, ya_val, BATCH_SIZE, shuffle=False)\n",
        "    test_ds  = make_dataset(Xa_te, Xp_te, ya_te, BATCH_SIZE, shuffle=False)\n",
        "\n",
        "    # Build and compile model\n",
        "    model = DualHeadModel(seq_len=SEQ_LEN, key_dim=KEY_DIM, embed_dim=EMBED_DIM)\n",
        "    model.compile(optimizer=tf.keras.optimizers.Adam(learning_rate=LR))\n",
        "\n",
        "    # Callbacks\n",
        "    es = callbacks.EarlyStopping(monitor=\"val_loss\", patience=7, restore_best_weights=True)\n",
        "    rlrp = callbacks.ReduceLROnPlateau(monitor=\"val_loss\", factor=0.5, patience=4, min_lr=1e-5)\n",
        "    ckpt = callbacks.ModelCheckpoint(f\"xau_dualhead_fold_{ts}_{se}.h5\", monitor=\"val_loss\", save_best_only=True)\n",
        "\n",
        "    # Train\n",
        "    history = model.fit(train_ds, validation_data=val_ds, epochs=EPOCHS,\n",
        "                        callbacks=[es, rlrp, ckpt], verbose=1)\n",
        "\n",
        "    # Evaluate on test\n",
        "    eval_out = model.evaluate(test_ds, verbose=0)\n",
        "\n",
        "    # Collect regression predictions for metrics on price\n",
        "    y_true_ret = []\n",
        "    y_pred_ret = []\n",
        "    last_close = []  # for reconstructing predicted next close\n",
        "\n",
        "    # Align closes for windows: at each anchor window end, use the actual last close to reconstruct next close\n",
        "    closes = test_df[\"close\"].values\n",
        "    # The close aligned with the end of each anchor window starts at index SEQ_LEN-1 within test_df\n",
        "    anchor_end_close = closes[SEQ_LEN-1:len(test_df)-0]\n",
        "\n",
        "    idx = 0\n",
        "    for (xa_batch, xp_batch), ya_batch in test_ds:\n",
        "        _, _, yhat_batch = model((xa_batch, xp_batch), training=False)\n",
        "        y_true_ret.append(ya_batch.numpy())\n",
        "        y_pred_ret.append(tf.squeeze(yhat_batch, axis=-1).numpy())\n",
        "        # prepare last_close slice matching batch length\n",
        "        batch_len = ya_batch.shape[0]\n",
        "        last_close.extend(anchor_end_close[idx:idx+batch_len])\n",
        "        idx += batch_len\n",
        "\n",
        "    y_true_ret = np.concatenate(y_true_ret)\n",
        "    y_pred_ret_scaled = np.concatenate(y_pred_ret)\n",
        "\n",
        "    # Invert target scaling\n",
        "    y_true_ret = y_true_ret.reshape(-1, 1)\n",
        "    y_pred_ret_scaled = y_pred_ret_scaled.reshape(-1, 1)\n",
        "    y_true_ret = y_scaler.inverse_transform(y_true_ret).ravel()\n",
        "    y_pred_ret = y_scaler.inverse_transform(y_pred_ret_scaled).ravel()\n",
        "\n",
        "    # Reconstruct next close from returns: next_close = last_close * (1 + ret)\n",
        "    last_close = np.array(last_close)\n",
        "    y_pred_close = last_close * (1.0 + y_pred_ret)\n",
        "    # Ground-truth next close aligned to anchor window ends\n",
        "    target_next_close = test_df[\"target_next_close\"].values[SEQ_LEN-1:SEQ_LEN-1+len(y_pred_close)]\n",
        "\n",
        "    # Metrics on price\n",
        "    mae = mean_absolute_error(target_next_close, y_pred_close)\n",
        "    mape = mean_absolute_percentage_error(target_next_close, y_pred_close)\n",
        "    rmse = math.sqrt(np.mean((y_pred_close - target_next_close)**2))\n",
        "\n",
        "    # Baselines:\n",
        "    # - Persistence baseline: next close = last close (i.e., ret baseline = 0)\n",
        "    baseline_close = last_close\n",
        "    baseline_mae = mean_absolute_error(target_next_close, baseline_close)\n",
        "    baseline_mape = mean_absolute_percentage_error(target_next_close, baseline_close)\n",
        "    baseline_rmse = math.sqrt(np.mean((baseline_close - target_next_close)**2))\n",
        "\n",
        "    return {\n",
        "        \"skip\": 0,\n",
        "        \"fold_train_start\": ts,\n",
        "        \"fold_test_end\": se,\n",
        "        \"val_loss\": float(eval_out[\"loss\"]) if isinstance(eval_out, dict) and \"loss\" in eval_out else float(eval_out[0]),\n",
        "        \"mae\": float(mae),\n",
        "        \"mape\": float(mape),\n",
        "        \"rmse\": float(rmse),\n",
        "        \"baseline_mae\": float(baseline_mae),\n",
        "        \"baseline_mape\": float(baseline_mape),\n",
        "        \"baseline_rmse\": float(baseline_rmse),\n",
        "    }\n",
        "\n",
        "# -----------------------------\n",
        "# Main: Run Walk-forward\n",
        "# -----------------------------\n",
        "def main():\n",
        "    feat_df = load_and_engineer(CSV_FILE, DATE_COL)\n",
        "    N = len(feat_df)\n",
        "    slices = generate_walk_forward_slices(\n",
        "        N,\n",
        "        INITIAL_TRAIN_RATIO,\n",
        "        VAL_RATIO,\n",
        "        TEST_RATIO\n",
        "    )\n",
        "\n",
        "    results = []\n",
        "    for idx, s in enumerate(slices, 1):\n",
        "        print(f\"\\n=== Fold {idx}/{len(slices)} ===\")\n",
        "        ts, te, vs, ve, ss, se = s\n",
        "        print(f\"Train: {ts}-{te}, Val: {vs}-{ve}, Test: {ss}-{se}\")\n",
        "        res = run_fold(feat_df, DATE_COL, s)\n",
        "        if res.get(\"skip\", 0) == 1:\n",
        "            print(\"Skipping fold (insufficient sequence length).\")\n",
        "            continue\n",
        "        print(f\"Fold {idx} Metrics: \"\n",
        "              f\"MAE={res['mae']:.2f}, MAPE={res['mape']:.4f}, RMSE={res['rmse']:.2f} | \"\n",
        "              f\"Baseline MAE={res['baseline_mae']:.2f}, Baseline MAPE={res['baseline_mape']:.4f}, \"\n",
        "              f\"Baseline RMSE={res['baseline_rmse']:.2f}\")\n",
        "        results.append(res)\n",
        "\n",
        "    if results:\n",
        "        # Aggregate\n",
        "        avg_mae = np.mean([r[\"mae\"] for r in results])\n",
        "        avg_mape = np.mean([r[\"mape\"] for r in results])\n",
        "        avg_rmse = np.mean([r[\"rmse\"] for r in results])\n",
        "\n",
        "        avg_b_mae = np.mean([r[\"baseline_mae\"] for r in results])\n",
        "        avg_b_mape = np.mean([r[\"baseline_mape\"] for r in results])\n",
        "        avg_b_rmse = np.mean([r[\"baseline_rmse\"] for r in results])\n",
        "\n",
        "        print(\"\\n=== Aggregate Walk-forward Results ===\")\n",
        "        print(f\"Model:   MAE={avg_mae:.2f}, MAPE={avg_mape:.4f}, RMSE={avg_rmse:.2f}\")\n",
        "        print(f\"Baseline MAE={avg_b_mae:.2f}, MAPE={avg_b_mape:.4f}, RMSE={avg_b_rmse:.2f}\")\n",
        "\n",
        "    # Optional: final inference on the latest available window of the last fold\n",
        "    # Build a latest window from the last test slice\n",
        "    if slices:\n",
        "        _, _, _, _, ss, se = slices[-1]\n",
        "        last_test = feat_df.iloc[ss:se]\n",
        "        feature_cols = [c for c in feat_df.columns if c not in [\"target_next_ret\", \"target_next_close\", DATE_COL]]\n",
        "\n",
        "        X_scaler = StandardScaler()\n",
        "        y_scaler = StandardScaler()\n",
        "\n",
        "        # Fit on train+val of the last fold for inference\n",
        "        ts, te, vs, ve, *_ = slices[-1]\n",
        "        fit_df = feat_df.iloc[ts:ve]\n",
        "        X_fit = fit_df[feature_cols].values\n",
        "        y_fit = fit_df[\"target_next_ret\"].values.reshape(-1, 1)\n",
        "        X_scaler.fit(X_fit)\n",
        "        y_scaler.fit(y_fit)\n",
        "\n",
        "        X_test_scaled = X_scaler.transform(last_test[feature_cols].values)\n",
        "        closes = last_test[\"close\"].values\n",
        "\n",
        "        # Create anchor/positive for latest window\n",
        "        if len(X_test_scaled) >= SEQ_LEN + 1:\n",
        "            anchor = X_test_scaled[-SEQ_LEN:]\n",
        "            positive = X_test_scaled[-SEQ_LEN+1:]\n",
        "            anchor = anchor[np.newaxis, ...]\n",
        "            positive = positive[np.newaxis, ...]\n",
        "\n",
        "            # Build and load a fresh model for inference\n",
        "            model = DualHeadModel(seq_len=SEQ_LEN, key_dim=KEY_DIM, embed_dim=EMBED_DIM)\n",
        "            # Not loading weights here (no file path management in this template); train your final model then load for production\n",
        "\n",
        "            # Forward pass (untrained in this snippet)\n",
        "            ea, ep, yhat = model((anchor, positive), training=False)\n",
        "            pred_ret_scaled = float(tf.squeeze(yhat, axis=-1).numpy().ravel()[0])\n",
        "            pred_ret = float(y_scaler.inverse_transform([[pred_ret_scaled]]).ravel()[0])\n",
        "\n",
        "            latest_close = float(closes[-1])\n",
        "            next_close_pred = latest_close * (1.0 + pred_ret)\n",
        "            print(f\"\\nLatest inference (untrained): predicted next close = {next_close_pred:.2f}\")\n",
        "\n",
        "if __name__ == \"__main__\":\n",
        "    main()\n"
      ],
      "metadata": {
        "colab": {
          "base_uri": "https://localhost:8080/"
        },
        "id": "gf-tWhZrkpxX",
        "outputId": "fd539e2b-6d66-4cd1-bffb-df36b6cfb30c"
      },
      "execution_count": null,
      "outputs": [
        {
          "output_type": "stream",
          "name": "stderr",
          "text": [
            "/tmp/ipython-input-824757826.py:115: FutureWarning: Series.fillna with 'method' is deprecated and will raise in a future version. Use obj.ffill() or obj.bfill() instead.\n",
            "  feat[\"ret_vol_24\"] = feat[\"ret\"].rolling(window=24, min_periods=24).std().fillna(method=\"bfill\")\n",
            "/tmp/ipython-input-824757826.py:116: FutureWarning: Series.fillna with 'method' is deprecated and will raise in a future version. Use obj.ffill() or obj.bfill() instead.\n",
            "  feat[\"ret_vol_72\"] = feat[\"ret\"].rolling(window=72, min_periods=72).std().fillna(method=\"bfill\")\n",
            "/tmp/ipython-input-824757826.py:119: FutureWarning: Series.fillna with 'method' is deprecated and will raise in a future version. Use obj.ffill() or obj.bfill() instead.\n",
            "  feat[\"atr_14\"] = atr(high, low, close, period=14).fillna(method=\"bfill\")\n",
            "/tmp/ipython-input-824757826.py:122: FutureWarning: Series.fillna with 'method' is deprecated and will raise in a future version. Use obj.ffill() or obj.bfill() instead.\n",
            "  feat[\"rsi_14\"] = rsi(close, period=14).fillna(method=\"bfill\")\n",
            "/tmp/ipython-input-824757826.py:126: FutureWarning: Series.fillna with 'method' is deprecated and will raise in a future version. Use obj.ffill() or obj.bfill() instead.\n",
            "  feat[\"macd\"] = macd_line.fillna(method=\"bfill\")\n",
            "/tmp/ipython-input-824757826.py:127: FutureWarning: Series.fillna with 'method' is deprecated and will raise in a future version. Use obj.ffill() or obj.bfill() instead.\n",
            "  feat[\"macd_signal\"] = signal_line.fillna(method=\"bfill\")\n",
            "/tmp/ipython-input-824757826.py:128: FutureWarning: Series.fillna with 'method' is deprecated and will raise in a future version. Use obj.ffill() or obj.bfill() instead.\n",
            "  feat[\"macd_hist\"] = hist.fillna(method=\"bfill\")\n",
            "/tmp/ipython-input-824757826.py:131: FutureWarning: Series.fillna with 'method' is deprecated and will raise in a future version. Use obj.ffill() or obj.bfill() instead.\n",
            "  feat[\"ema_20\"] = ema(close, 20).fillna(method=\"bfill\")\n",
            "/tmp/ipython-input-824757826.py:132: FutureWarning: Series.fillna with 'method' is deprecated and will raise in a future version. Use obj.ffill() or obj.bfill() instead.\n",
            "  feat[\"ema_50\"] = ema(close, 50).fillna(method=\"bfill\")\n",
            "/tmp/ipython-input-824757826.py:137: FutureWarning: Series.fillna with 'method' is deprecated and will raise in a future version. Use obj.ffill() or obj.bfill() instead.\n",
            "  feat[\"bb_ma20\"] = ma20.fillna(method=\"bfill\")\n",
            "/tmp/ipython-input-824757826.py:138: FutureWarning: Series.fillna with 'method' is deprecated and will raise in a future version. Use obj.ffill() or obj.bfill() instead.\n",
            "  feat[\"bb_upper20\"] = upper20.fillna(method=\"bfill\")\n",
            "/tmp/ipython-input-824757826.py:139: FutureWarning: Series.fillna with 'method' is deprecated and will raise in a future version. Use obj.ffill() or obj.bfill() instead.\n",
            "  feat[\"bb_lower20\"] = lower20.fillna(method=\"bfill\")\n",
            "/tmp/ipython-input-824757826.py:140: FutureWarning: Series.fillna with 'method' is deprecated and will raise in a future version. Use obj.ffill() or obj.bfill() instead.\n",
            "  feat[\"bb_width20\"] = width20.fillna(method=\"bfill\")\n",
            "/tmp/ipython-input-824757826.py:141: FutureWarning: Series.fillna with 'method' is deprecated and will raise in a future version. Use obj.ffill() or obj.bfill() instead.\n",
            "  feat[\"bb_pctb20\"] = pctb20.fillna(method=\"bfill\")\n"
          ]
        },
        {
          "output_type": "stream",
          "name": "stdout",
          "text": [
            "\n",
            "=== Fold 1/2 ===\n",
            "Train: 0-34559, Val: 34559-40318, Test: 40318-46077\n",
            "Epoch 1/50\n",
            "\u001b[1m135/135\u001b[0m \u001b[32m━━━━━━━━━━━━━━━━━━━━\u001b[0m\u001b[37m\u001b[0m \u001b[1m0s\u001b[0m 165ms/step - contrastive_loss: 1.8609 - forecast_loss: 1.0414 - forecast_mae: 0.6679 - forecast_mape: 263.9066 - loss: 1.4136"
          ]
        },
        {
          "output_type": "stream",
          "name": "stderr",
          "text": [
            "WARNING:absl:You are saving your model as an HDF5 file via `model.save()` or `keras.saving.save_model(model)`. This file format is considered legacy. We recommend using instead the native Keras format, e.g. `model.save('my_model.keras')` or `keras.saving.save_model(model, 'my_model.keras')`. \n"
          ]
        },
        {
          "output_type": "stream",
          "name": "stdout",
          "text": [
            "\b\b\b\b\b\b\b\b\b\b\b\b\b\b\b\b\b\b\b\b\b\b\b\b\b\b\b\b\b\b\b\b\b\b\b\b\b\b\b\b\b\b\b\b\b\b\b\b\b\b\b\b\b\b\b\b\b\b\b\b\b\b\b\b\b\b\b\b\b\b\b\b\b\b\b\b\b\b\b\b\b\b\b\b\b\b\b\b\b\b\b\b\b\b\b\b\b\b\b\b\b\b\b\b\b\b\b\b\b\b\b\b\b\b\b\b\b\b\b\b\b\b\b\b\b\b\b\b\b\b\b\b\b\b\b\b\b\b\b\b\b\b\b\b\b\b\b\b\b\b\b\b\b\b\b\b\b\r\u001b[1m135/135\u001b[0m \u001b[32m━━━━━━━━━━━━━━━━━━━━\u001b[0m\u001b[37m\u001b[0m \u001b[1m47s\u001b[0m 198ms/step - contrastive_loss: 1.8528 - forecast_loss: 1.0405 - forecast_mae: 0.6678 - forecast_mape: 263.6139 - loss: 1.4111 - val_contrastive_loss: 4.6416 - val_forecast_loss: 0.4689 - val_forecast_mae: 0.4411 - val_forecast_mape: 186.8220 - val_loss: 1.3972 - learning_rate: 0.0010\n",
            "Epoch 2/50\n",
            "\u001b[1m135/135\u001b[0m \u001b[32m━━━━━━━━━━━━━━━━━━━━\u001b[0m\u001b[37m\u001b[0m \u001b[1m0s\u001b[0m 82ms/step - contrastive_loss: 0.8092 - forecast_loss: 1.0105 - forecast_mae: 0.6345 - forecast_mape: 179.2558 - loss: 1.1723"
          ]
        },
        {
          "output_type": "stream",
          "name": "stderr",
          "text": [
            "WARNING:absl:You are saving your model as an HDF5 file via `model.save()` or `keras.saving.save_model(model)`. This file format is considered legacy. We recommend using instead the native Keras format, e.g. `model.save('my_model.keras')` or `keras.saving.save_model(model, 'my_model.keras')`. \n"
          ]
        },
        {
          "output_type": "stream",
          "name": "stdout",
          "text": [
            "\b\b\b\b\b\b\b\b\b\b\b\b\b\b\b\b\b\b\b\b\b\b\b\b\b\b\b\b\b\b\b\b\b\b\b\b\b\b\b\b\b\b\b\b\b\b\b\b\b\b\b\b\b\b\b\b\b\b\b\b\b\b\b\b\b\b\b\b\b\b\b\b\b\b\b\b\b\b\b\b\b\b\b\b\b\b\b\b\b\b\b\b\b\b\b\b\b\b\b\b\b\b\b\b\b\b\b\b\b\b\b\b\b\b\b\b\b\b\b\b\b\b\b\b\b\b\b\b\b\b\b\b\b\b\b\b\b\b\b\b\b\b\b\b\b\b\b\b\b\b\b\b\b\b\b\b\r\u001b[1m135/135\u001b[0m \u001b[32m━━━━━━━━━━━━━━━━━━━━\u001b[0m\u001b[37m\u001b[0m \u001b[1m12s\u001b[0m 88ms/step - contrastive_loss: 0.8055 - forecast_loss: 1.0089 - forecast_mae: 0.6345 - forecast_mape: 179.2266 - loss: 1.1700 - val_contrastive_loss: 3.4530 - val_forecast_loss: 0.4629 - val_forecast_mae: 0.4327 - val_forecast_mape: 146.1655 - val_loss: 1.1535 - learning_rate: 0.0010\n",
            "Epoch 3/50\n",
            "\u001b[1m135/135\u001b[0m \u001b[32m━━━━━━━━━━━━━━━━━━━━\u001b[0m\u001b[37m\u001b[0m \u001b[1m0s\u001b[0m 85ms/step - contrastive_loss: 0.4889 - forecast_loss: 1.0037 - forecast_mae: 0.6300 - forecast_mape: 160.4449 - loss: 1.1014"
          ]
        },
        {
          "output_type": "stream",
          "name": "stderr",
          "text": [
            "WARNING:absl:You are saving your model as an HDF5 file via `model.save()` or `keras.saving.save_model(model)`. This file format is considered legacy. We recommend using instead the native Keras format, e.g. `model.save('my_model.keras')` or `keras.saving.save_model(model, 'my_model.keras')`. \n"
          ]
        },
        {
          "output_type": "stream",
          "name": "stdout",
          "text": [
            "\b\b\b\b\b\b\b\b\b\b\b\b\b\b\b\b\b\b\b\b\b\b\b\b\b\b\b\b\b\b\b\b\b\b\b\b\b\b\b\b\b\b\b\b\b\b\b\b\b\b\b\b\b\b\b\b\b\b\b\b\b\b\b\b\b\b\b\b\b\b\b\b\b\b\b\b\b\b\b\b\b\b\b\b\b\b\b\b\b\b\b\b\b\b\b\b\b\b\b\b\b\b\b\b\b\b\b\b\b\b\b\b\b\b\b\b\b\b\b\b\b\b\b\b\b\b\b\b\b\b\b\b\b\b\b\b\b\b\b\b\b\b\b\b\b\b\b\b\b\b\b\b\b\b\b\b\r\u001b[1m135/135\u001b[0m \u001b[32m━━━━━━━━━━━━━━━━━━━━\u001b[0m\u001b[37m\u001b[0m \u001b[1m12s\u001b[0m 90ms/step - contrastive_loss: 0.4868 - forecast_loss: 1.0000 - forecast_mae: 0.6300 - forecast_mape: 160.4582 - loss: 1.0973 - val_contrastive_loss: 3.3255 - val_forecast_loss: 0.4612 - val_forecast_mae: 0.4331 - val_forecast_mape: 134.6468 - val_loss: 1.1263 - learning_rate: 0.0010\n",
            "Epoch 4/50\n",
            "\u001b[1m135/135\u001b[0m \u001b[32m━━━━━━━━━━━━━━━━━━━━\u001b[0m\u001b[37m\u001b[0m \u001b[1m0s\u001b[0m 85ms/step - contrastive_loss: 0.3880 - forecast_loss: 1.0015 - forecast_mae: 0.6225 - forecast_mape: 158.0280 - loss: 1.0790"
          ]
        },
        {
          "output_type": "stream",
          "name": "stderr",
          "text": [
            "WARNING:absl:You are saving your model as an HDF5 file via `model.save()` or `keras.saving.save_model(model)`. This file format is considered legacy. We recommend using instead the native Keras format, e.g. `model.save('my_model.keras')` or `keras.saving.save_model(model, 'my_model.keras')`. \n"
          ]
        },
        {
          "output_type": "stream",
          "name": "stdout",
          "text": [
            "\b\b\b\b\b\b\b\b\b\b\b\b\b\b\b\b\b\b\b\b\b\b\b\b\b\b\b\b\b\b\b\b\b\b\b\b\b\b\b\b\b\b\b\b\b\b\b\b\b\b\b\b\b\b\b\b\b\b\b\b\b\b\b\b\b\b\b\b\b\b\b\b\b\b\b\b\b\b\b\b\b\b\b\b\b\b\b\b\b\b\b\b\b\b\b\b\b\b\b\b\b\b\b\b\b\b\b\b\b\b\b\b\b\b\b\b\b\b\b\b\b\b\b\b\b\b\b\b\b\b\b\b\b\b\b\b\b\b\b\b\b\b\b\b\b\b\b\b\b\b\b\b\b\b\b\b\r\u001b[1m135/135\u001b[0m \u001b[32m━━━━━━━━━━━━━━━━━━━━\u001b[0m\u001b[37m\u001b[0m \u001b[1m12s\u001b[0m 90ms/step - contrastive_loss: 0.3868 - forecast_loss: 1.0000 - forecast_mae: 0.6225 - forecast_mape: 158.0040 - loss: 1.0774 - val_contrastive_loss: 2.9308 - val_forecast_loss: 0.4634 - val_forecast_mae: 0.4316 - val_forecast_mape: 123.5976 - val_loss: 1.0495 - learning_rate: 0.0010\n",
            "Epoch 5/50\n",
            "\u001b[1m 89/135\u001b[0m \u001b[32m━━━━━━━━━━━━━\u001b[0m\u001b[37m━━━━━━━\u001b[0m \u001b[1m3s\u001b[0m 84ms/step - contrastive_loss: 0.3548 - forecast_loss: 1.0045 - forecast_mae: 0.6209 - forecast_mape: 146.0966 - loss: 1.0755"
          ]
        }
      ]
    },
    {
      "cell_type": "code",
      "source": [
        "df"
      ],
      "metadata": {
        "colab": {
          "base_uri": "https://localhost:8080/",
          "height": 423
        },
        "id": "YZHDbmr6jWFv",
        "outputId": "e25a4d01-d719-43c3-c7e0-053fa5e296ba"
      },
      "execution_count": 4,
      "outputs": [
        {
          "output_type": "execute_result",
          "data": {
            "text/plain": [
              "                     Date      open      high       low     close  tick_volume\n",
              "0     2012-05-17 08:00:00  154759.0  155384.0  154740.0  155295.0         4418\n",
              "1     2012-05-17 09:00:00  155297.0  155297.0  154837.0  154966.0         5512\n",
              "2     2012-05-17 10:00:00  154975.0  155055.0  154563.0  154801.0         6503\n",
              "3     2012-05-17 11:00:00  154798.0  155050.0  154654.0  154952.0         5950\n",
              "4     2012-05-17 12:00:00  154978.0  154978.0  154619.0  154805.0         6485\n",
              "...                   ...       ...       ...       ...       ...          ...\n",
              "57595 2022-03-04 19:00:00  196265.0  196536.0  196003.0  196212.0         6657\n",
              "57596 2022-03-04 20:00:00  196212.0  196647.0  196080.0  196512.0         5153\n",
              "57597 2022-03-04 21:00:00  196524.0  196996.0  196454.0  196706.0         5393\n",
              "57598 2022-03-04 22:00:00  196699.0  197019.0  196519.0  196733.0         6665\n",
              "57599 2022-03-04 23:00:00  196730.0  197016.0  196552.0  196974.0         2496\n",
              "\n",
              "[57600 rows x 6 columns]"
            ],
            "text/html": [
              "\n",
              "  <div id=\"df-3287710b-6dde-4757-93f7-766ef9a4d3e5\" class=\"colab-df-container\">\n",
              "    <div>\n",
              "<style scoped>\n",
              "    .dataframe tbody tr th:only-of-type {\n",
              "        vertical-align: middle;\n",
              "    }\n",
              "\n",
              "    .dataframe tbody tr th {\n",
              "        vertical-align: top;\n",
              "    }\n",
              "\n",
              "    .dataframe thead th {\n",
              "        text-align: right;\n",
              "    }\n",
              "</style>\n",
              "<table border=\"1\" class=\"dataframe\">\n",
              "  <thead>\n",
              "    <tr style=\"text-align: right;\">\n",
              "      <th></th>\n",
              "      <th>Date</th>\n",
              "      <th>open</th>\n",
              "      <th>high</th>\n",
              "      <th>low</th>\n",
              "      <th>close</th>\n",
              "      <th>tick_volume</th>\n",
              "    </tr>\n",
              "  </thead>\n",
              "  <tbody>\n",
              "    <tr>\n",
              "      <th>0</th>\n",
              "      <td>2012-05-17 08:00:00</td>\n",
              "      <td>154759.0</td>\n",
              "      <td>155384.0</td>\n",
              "      <td>154740.0</td>\n",
              "      <td>155295.0</td>\n",
              "      <td>4418</td>\n",
              "    </tr>\n",
              "    <tr>\n",
              "      <th>1</th>\n",
              "      <td>2012-05-17 09:00:00</td>\n",
              "      <td>155297.0</td>\n",
              "      <td>155297.0</td>\n",
              "      <td>154837.0</td>\n",
              "      <td>154966.0</td>\n",
              "      <td>5512</td>\n",
              "    </tr>\n",
              "    <tr>\n",
              "      <th>2</th>\n",
              "      <td>2012-05-17 10:00:00</td>\n",
              "      <td>154975.0</td>\n",
              "      <td>155055.0</td>\n",
              "      <td>154563.0</td>\n",
              "      <td>154801.0</td>\n",
              "      <td>6503</td>\n",
              "    </tr>\n",
              "    <tr>\n",
              "      <th>3</th>\n",
              "      <td>2012-05-17 11:00:00</td>\n",
              "      <td>154798.0</td>\n",
              "      <td>155050.0</td>\n",
              "      <td>154654.0</td>\n",
              "      <td>154952.0</td>\n",
              "      <td>5950</td>\n",
              "    </tr>\n",
              "    <tr>\n",
              "      <th>4</th>\n",
              "      <td>2012-05-17 12:00:00</td>\n",
              "      <td>154978.0</td>\n",
              "      <td>154978.0</td>\n",
              "      <td>154619.0</td>\n",
              "      <td>154805.0</td>\n",
              "      <td>6485</td>\n",
              "    </tr>\n",
              "    <tr>\n",
              "      <th>...</th>\n",
              "      <td>...</td>\n",
              "      <td>...</td>\n",
              "      <td>...</td>\n",
              "      <td>...</td>\n",
              "      <td>...</td>\n",
              "      <td>...</td>\n",
              "    </tr>\n",
              "    <tr>\n",
              "      <th>57595</th>\n",
              "      <td>2022-03-04 19:00:00</td>\n",
              "      <td>196265.0</td>\n",
              "      <td>196536.0</td>\n",
              "      <td>196003.0</td>\n",
              "      <td>196212.0</td>\n",
              "      <td>6657</td>\n",
              "    </tr>\n",
              "    <tr>\n",
              "      <th>57596</th>\n",
              "      <td>2022-03-04 20:00:00</td>\n",
              "      <td>196212.0</td>\n",
              "      <td>196647.0</td>\n",
              "      <td>196080.0</td>\n",
              "      <td>196512.0</td>\n",
              "      <td>5153</td>\n",
              "    </tr>\n",
              "    <tr>\n",
              "      <th>57597</th>\n",
              "      <td>2022-03-04 21:00:00</td>\n",
              "      <td>196524.0</td>\n",
              "      <td>196996.0</td>\n",
              "      <td>196454.0</td>\n",
              "      <td>196706.0</td>\n",
              "      <td>5393</td>\n",
              "    </tr>\n",
              "    <tr>\n",
              "      <th>57598</th>\n",
              "      <td>2022-03-04 22:00:00</td>\n",
              "      <td>196699.0</td>\n",
              "      <td>197019.0</td>\n",
              "      <td>196519.0</td>\n",
              "      <td>196733.0</td>\n",
              "      <td>6665</td>\n",
              "    </tr>\n",
              "    <tr>\n",
              "      <th>57599</th>\n",
              "      <td>2022-03-04 23:00:00</td>\n",
              "      <td>196730.0</td>\n",
              "      <td>197016.0</td>\n",
              "      <td>196552.0</td>\n",
              "      <td>196974.0</td>\n",
              "      <td>2496</td>\n",
              "    </tr>\n",
              "  </tbody>\n",
              "</table>\n",
              "<p>57600 rows × 6 columns</p>\n",
              "</div>\n",
              "    <div class=\"colab-df-buttons\">\n",
              "\n",
              "  <div class=\"colab-df-container\">\n",
              "    <button class=\"colab-df-convert\" onclick=\"convertToInteractive('df-3287710b-6dde-4757-93f7-766ef9a4d3e5')\"\n",
              "            title=\"Convert this dataframe to an interactive table.\"\n",
              "            style=\"display:none;\">\n",
              "\n",
              "  <svg xmlns=\"http://www.w3.org/2000/svg\" height=\"24px\" viewBox=\"0 -960 960 960\">\n",
              "    <path d=\"M120-120v-720h720v720H120Zm60-500h600v-160H180v160Zm220 220h160v-160H400v160Zm0 220h160v-160H400v160ZM180-400h160v-160H180v160Zm440 0h160v-160H620v160ZM180-180h160v-160H180v160Zm440 0h160v-160H620v160Z\"/>\n",
              "  </svg>\n",
              "    </button>\n",
              "\n",
              "  <style>\n",
              "    .colab-df-container {\n",
              "      display:flex;\n",
              "      gap: 12px;\n",
              "    }\n",
              "\n",
              "    .colab-df-convert {\n",
              "      background-color: #E8F0FE;\n",
              "      border: none;\n",
              "      border-radius: 50%;\n",
              "      cursor: pointer;\n",
              "      display: none;\n",
              "      fill: #1967D2;\n",
              "      height: 32px;\n",
              "      padding: 0 0 0 0;\n",
              "      width: 32px;\n",
              "    }\n",
              "\n",
              "    .colab-df-convert:hover {\n",
              "      background-color: #E2EBFA;\n",
              "      box-shadow: 0px 1px 2px rgba(60, 64, 67, 0.3), 0px 1px 3px 1px rgba(60, 64, 67, 0.15);\n",
              "      fill: #174EA6;\n",
              "    }\n",
              "\n",
              "    .colab-df-buttons div {\n",
              "      margin-bottom: 4px;\n",
              "    }\n",
              "\n",
              "    [theme=dark] .colab-df-convert {\n",
              "      background-color: #3B4455;\n",
              "      fill: #D2E3FC;\n",
              "    }\n",
              "\n",
              "    [theme=dark] .colab-df-convert:hover {\n",
              "      background-color: #434B5C;\n",
              "      box-shadow: 0px 1px 3px 1px rgba(0, 0, 0, 0.15);\n",
              "      filter: drop-shadow(0px 1px 2px rgba(0, 0, 0, 0.3));\n",
              "      fill: #FFFFFF;\n",
              "    }\n",
              "  </style>\n",
              "\n",
              "    <script>\n",
              "      const buttonEl =\n",
              "        document.querySelector('#df-3287710b-6dde-4757-93f7-766ef9a4d3e5 button.colab-df-convert');\n",
              "      buttonEl.style.display =\n",
              "        google.colab.kernel.accessAllowed ? 'block' : 'none';\n",
              "\n",
              "      async function convertToInteractive(key) {\n",
              "        const element = document.querySelector('#df-3287710b-6dde-4757-93f7-766ef9a4d3e5');\n",
              "        const dataTable =\n",
              "          await google.colab.kernel.invokeFunction('convertToInteractive',\n",
              "                                                    [key], {});\n",
              "        if (!dataTable) return;\n",
              "\n",
              "        const docLinkHtml = 'Like what you see? Visit the ' +\n",
              "          '<a target=\"_blank\" href=https://colab.research.google.com/notebooks/data_table.ipynb>data table notebook</a>'\n",
              "          + ' to learn more about interactive tables.';\n",
              "        element.innerHTML = '';\n",
              "        dataTable['output_type'] = 'display_data';\n",
              "        await google.colab.output.renderOutput(dataTable, element);\n",
              "        const docLink = document.createElement('div');\n",
              "        docLink.innerHTML = docLinkHtml;\n",
              "        element.appendChild(docLink);\n",
              "      }\n",
              "    </script>\n",
              "  </div>\n",
              "\n",
              "\n",
              "    <div id=\"df-7fd20a62-37d6-4951-ad4d-51afdaf73f88\">\n",
              "      <button class=\"colab-df-quickchart\" onclick=\"quickchart('df-7fd20a62-37d6-4951-ad4d-51afdaf73f88')\"\n",
              "                title=\"Suggest charts\"\n",
              "                style=\"display:none;\">\n",
              "\n",
              "<svg xmlns=\"http://www.w3.org/2000/svg\" height=\"24px\"viewBox=\"0 0 24 24\"\n",
              "     width=\"24px\">\n",
              "    <g>\n",
              "        <path d=\"M19 3H5c-1.1 0-2 .9-2 2v14c0 1.1.9 2 2 2h14c1.1 0 2-.9 2-2V5c0-1.1-.9-2-2-2zM9 17H7v-7h2v7zm4 0h-2V7h2v10zm4 0h-2v-4h2v4z\"/>\n",
              "    </g>\n",
              "</svg>\n",
              "      </button>\n",
              "\n",
              "<style>\n",
              "  .colab-df-quickchart {\n",
              "      --bg-color: #E8F0FE;\n",
              "      --fill-color: #1967D2;\n",
              "      --hover-bg-color: #E2EBFA;\n",
              "      --hover-fill-color: #174EA6;\n",
              "      --disabled-fill-color: #AAA;\n",
              "      --disabled-bg-color: #DDD;\n",
              "  }\n",
              "\n",
              "  [theme=dark] .colab-df-quickchart {\n",
              "      --bg-color: #3B4455;\n",
              "      --fill-color: #D2E3FC;\n",
              "      --hover-bg-color: #434B5C;\n",
              "      --hover-fill-color: #FFFFFF;\n",
              "      --disabled-bg-color: #3B4455;\n",
              "      --disabled-fill-color: #666;\n",
              "  }\n",
              "\n",
              "  .colab-df-quickchart {\n",
              "    background-color: var(--bg-color);\n",
              "    border: none;\n",
              "    border-radius: 50%;\n",
              "    cursor: pointer;\n",
              "    display: none;\n",
              "    fill: var(--fill-color);\n",
              "    height: 32px;\n",
              "    padding: 0;\n",
              "    width: 32px;\n",
              "  }\n",
              "\n",
              "  .colab-df-quickchart:hover {\n",
              "    background-color: var(--hover-bg-color);\n",
              "    box-shadow: 0 1px 2px rgba(60, 64, 67, 0.3), 0 1px 3px 1px rgba(60, 64, 67, 0.15);\n",
              "    fill: var(--button-hover-fill-color);\n",
              "  }\n",
              "\n",
              "  .colab-df-quickchart-complete:disabled,\n",
              "  .colab-df-quickchart-complete:disabled:hover {\n",
              "    background-color: var(--disabled-bg-color);\n",
              "    fill: var(--disabled-fill-color);\n",
              "    box-shadow: none;\n",
              "  }\n",
              "\n",
              "  .colab-df-spinner {\n",
              "    border: 2px solid var(--fill-color);\n",
              "    border-color: transparent;\n",
              "    border-bottom-color: var(--fill-color);\n",
              "    animation:\n",
              "      spin 1s steps(1) infinite;\n",
              "  }\n",
              "\n",
              "  @keyframes spin {\n",
              "    0% {\n",
              "      border-color: transparent;\n",
              "      border-bottom-color: var(--fill-color);\n",
              "      border-left-color: var(--fill-color);\n",
              "    }\n",
              "    20% {\n",
              "      border-color: transparent;\n",
              "      border-left-color: var(--fill-color);\n",
              "      border-top-color: var(--fill-color);\n",
              "    }\n",
              "    30% {\n",
              "      border-color: transparent;\n",
              "      border-left-color: var(--fill-color);\n",
              "      border-top-color: var(--fill-color);\n",
              "      border-right-color: var(--fill-color);\n",
              "    }\n",
              "    40% {\n",
              "      border-color: transparent;\n",
              "      border-right-color: var(--fill-color);\n",
              "      border-top-color: var(--fill-color);\n",
              "    }\n",
              "    60% {\n",
              "      border-color: transparent;\n",
              "      border-right-color: var(--fill-color);\n",
              "    }\n",
              "    80% {\n",
              "      border-color: transparent;\n",
              "      border-right-color: var(--fill-color);\n",
              "      border-bottom-color: var(--fill-color);\n",
              "    }\n",
              "    90% {\n",
              "      border-color: transparent;\n",
              "      border-bottom-color: var(--fill-color);\n",
              "    }\n",
              "  }\n",
              "</style>\n",
              "\n",
              "      <script>\n",
              "        async function quickchart(key) {\n",
              "          const quickchartButtonEl =\n",
              "            document.querySelector('#' + key + ' button');\n",
              "          quickchartButtonEl.disabled = true;  // To prevent multiple clicks.\n",
              "          quickchartButtonEl.classList.add('colab-df-spinner');\n",
              "          try {\n",
              "            const charts = await google.colab.kernel.invokeFunction(\n",
              "                'suggestCharts', [key], {});\n",
              "          } catch (error) {\n",
              "            console.error('Error during call to suggestCharts:', error);\n",
              "          }\n",
              "          quickchartButtonEl.classList.remove('colab-df-spinner');\n",
              "          quickchartButtonEl.classList.add('colab-df-quickchart-complete');\n",
              "        }\n",
              "        (() => {\n",
              "          let quickchartButtonEl =\n",
              "            document.querySelector('#df-7fd20a62-37d6-4951-ad4d-51afdaf73f88 button');\n",
              "          quickchartButtonEl.style.display =\n",
              "            google.colab.kernel.accessAllowed ? 'block' : 'none';\n",
              "        })();\n",
              "      </script>\n",
              "    </div>\n",
              "\n",
              "  <div id=\"id_f1e8c18b-2a8f-41af-a43b-898137ab921c\">\n",
              "    <style>\n",
              "      .colab-df-generate {\n",
              "        background-color: #E8F0FE;\n",
              "        border: none;\n",
              "        border-radius: 50%;\n",
              "        cursor: pointer;\n",
              "        display: none;\n",
              "        fill: #1967D2;\n",
              "        height: 32px;\n",
              "        padding: 0 0 0 0;\n",
              "        width: 32px;\n",
              "      }\n",
              "\n",
              "      .colab-df-generate:hover {\n",
              "        background-color: #E2EBFA;\n",
              "        box-shadow: 0px 1px 2px rgba(60, 64, 67, 0.3), 0px 1px 3px 1px rgba(60, 64, 67, 0.15);\n",
              "        fill: #174EA6;\n",
              "      }\n",
              "\n",
              "      [theme=dark] .colab-df-generate {\n",
              "        background-color: #3B4455;\n",
              "        fill: #D2E3FC;\n",
              "      }\n",
              "\n",
              "      [theme=dark] .colab-df-generate:hover {\n",
              "        background-color: #434B5C;\n",
              "        box-shadow: 0px 1px 3px 1px rgba(0, 0, 0, 0.15);\n",
              "        filter: drop-shadow(0px 1px 2px rgba(0, 0, 0, 0.3));\n",
              "        fill: #FFFFFF;\n",
              "      }\n",
              "    </style>\n",
              "    <button class=\"colab-df-generate\" onclick=\"generateWithVariable('df')\"\n",
              "            title=\"Generate code using this dataframe.\"\n",
              "            style=\"display:none;\">\n",
              "\n",
              "  <svg xmlns=\"http://www.w3.org/2000/svg\" height=\"24px\"viewBox=\"0 0 24 24\"\n",
              "       width=\"24px\">\n",
              "    <path d=\"M7,19H8.4L18.45,9,17,7.55,7,17.6ZM5,21V16.75L18.45,3.32a2,2,0,0,1,2.83,0l1.4,1.43a1.91,1.91,0,0,1,.58,1.4,1.91,1.91,0,0,1-.58,1.4L9.25,21ZM18.45,9,17,7.55Zm-12,3A5.31,5.31,0,0,0,4.9,8.1,5.31,5.31,0,0,0,1,6.5,5.31,5.31,0,0,0,4.9,4.9,5.31,5.31,0,0,0,6.5,1,5.31,5.31,0,0,0,8.1,4.9,5.31,5.31,0,0,0,12,6.5,5.46,5.46,0,0,0,6.5,12Z\"/>\n",
              "  </svg>\n",
              "    </button>\n",
              "    <script>\n",
              "      (() => {\n",
              "      const buttonEl =\n",
              "        document.querySelector('#id_f1e8c18b-2a8f-41af-a43b-898137ab921c button.colab-df-generate');\n",
              "      buttonEl.style.display =\n",
              "        google.colab.kernel.accessAllowed ? 'block' : 'none';\n",
              "\n",
              "      buttonEl.onclick = () => {\n",
              "        google.colab.notebook.generateWithVariable('df');\n",
              "      }\n",
              "      })();\n",
              "    </script>\n",
              "  </div>\n",
              "\n",
              "    </div>\n",
              "  </div>\n"
            ],
            "application/vnd.google.colaboratory.intrinsic+json": {
              "type": "dataframe",
              "variable_name": "df",
              "summary": "{\n  \"name\": \"df\",\n  \"rows\": 57600,\n  \"fields\": [\n    {\n      \"column\": \"Date\",\n      \"properties\": {\n        \"dtype\": \"date\",\n        \"min\": \"2012-05-17 08:00:00\",\n        \"max\": \"2022-03-04 23:00:00\",\n        \"num_unique_values\": 57600,\n        \"samples\": [\n          \"2020-10-29 14:00:00\",\n          \"2015-07-23 02:00:00\",\n          \"2018-10-09 03:00:00\"\n        ],\n        \"semantic_type\": \"\",\n        \"description\": \"\"\n      }\n    },\n    {\n      \"column\": \"open\",\n      \"properties\": {\n        \"dtype\": \"number\",\n        \"std\": 24321.54051217491,\n        \"min\": 105005.0,\n        \"max\": 207031.0,\n        \"num_unique_values\": 36290,\n        \"samples\": [\n          107571.0,\n          194090.0,\n          129632.0\n        ],\n        \"semantic_type\": \"\",\n        \"description\": \"\"\n      }\n    },\n    {\n      \"column\": \"high\",\n      \"properties\": {\n        \"dtype\": \"number\",\n        \"std\": 24360.379083868822,\n        \"min\": 105057.0,\n        \"max\": 207487.0,\n        \"num_unique_values\": 36273,\n        \"samples\": [\n          180942.0,\n          155653.0,\n          189996.0\n        ],\n        \"semantic_type\": \"\",\n        \"description\": \"\"\n      }\n    },\n    {\n      \"column\": \"low\",\n      \"properties\": {\n        \"dtype\": \"number\",\n        \"std\": 24276.462000352672,\n        \"min\": 104623.0,\n        \"max\": 206818.0,\n        \"num_unique_values\": 36301,\n        \"samples\": [\n          174631.0,\n          162653.0,\n          131182.0\n        ],\n        \"semantic_type\": \"\",\n        \"description\": \"\"\n      }\n    },\n    {\n      \"column\": \"close\",\n      \"properties\": {\n        \"dtype\": \"number\",\n        \"std\": 24322.04666683818,\n        \"min\": 105005.0,\n        \"max\": 207031.0,\n        \"num_unique_values\": 36364,\n        \"samples\": [\n          164023.0,\n          126176.0,\n          141609.0\n        ],\n        \"semantic_type\": \"\",\n        \"description\": \"\"\n      }\n    },\n    {\n      \"column\": \"tick_volume\",\n      \"properties\": {\n        \"dtype\": \"number\",\n        \"std\": 3756,\n        \"min\": 4,\n        \"max\": 79715,\n        \"num_unique_values\": 12574,\n        \"samples\": [\n          11798,\n          1534,\n          10653\n        ],\n        \"semantic_type\": \"\",\n        \"description\": \"\"\n      }\n    }\n  ]\n}"
            }
          },
          "metadata": {},
          "execution_count": 4
        }
      ]
    },
    {
      "cell_type": "code",
      "source": [],
      "metadata": {
        "id": "Szr1wORIhJHa"
      },
      "execution_count": null,
      "outputs": []
    }
  ]
}